{
  "nbformat": 4,
  "nbformat_minor": 0,
  "metadata": {
    "colab": {
      "name": "Data Visualization.ipynb",
      "provenance": [],
      "include_colab_link": true
    },
    "kernelspec": {
      "name": "python3",
      "display_name": "Python 3"
    },
    "language_info": {
      "name": "python"
    }
  },
  "cells": [
    {
      "cell_type": "markdown",
      "metadata": {
        "id": "view-in-github",
        "colab_type": "text"
      },
      "source": [
        "<a href=\"https://colab.research.google.com/github/GuillermoFidalgo/Python-for-STEM-Teachers-Workshop/blob/master/notebooks/15-Intro%20to%20Data_Visualization.ipynb\" target=\"_parent\"><img src=\"https://colab.research.google.com/assets/colab-badge.svg\" alt=\"Open In Colab\"/></a>"
      ]
    },
    {
      "cell_type": "markdown",
      "metadata": {
        "id": "-d9HKgzyrkKR"
      },
      "source": [
        "# **Visualization**\n",
        "Now we shall discuss how to make the following types of plots with Python:\n",
        "1. line graph\n",
        "2. scatter plot\n",
        "3. histograms\n",
        "\n",
        "We will use the matplotlib library to import the functions needed to plot our graphs. We can do so in two ways... \n",
        "\n",
        "1. Speficically calling the functions you want\n",
        "```python\n",
        "from matplotlib.pyplot import plot, show\n",
        "#later in the code\n",
        "plot()\n",
        "show()\n",
        "```\n",
        "\n",
        "\n",
        "2. import all the functions and call them later\n",
        "```python\n",
        "import matplotlib.pyplot as plt\n",
        "#later in the code\n",
        "plt.plot()\n",
        "plt.show()\n",
        "```\n",
        "\n",
        " "
      ]
    },
    {
      "cell_type": "markdown",
      "metadata": {
        "id": "VVG_nKlphh_d"
      },
      "source": [
        "## Line Graph\n",
        "Useful when we want to see how a dependent variable (some value) changes with respect to another."
      ]
    },
    {
      "cell_type": "markdown",
      "metadata": {
        "id": "oRz9_uysrQTw"
      },
      "source": [
        "To detailed plots we can add arguments to the **plot()** function and use more functions from the matplotlib library\n",
        "\n",
        "* We can give **plot()** two arguments!\n",
        "  * The first argument will be the x-axis values and the second, the y-axis values\n",
        "\n",
        "\n",
        "* We can change the color of the line and how the graph is drawn by adding another argument to plot() like so:\n",
        "```python\n",
        "plot(x,y,\"[letter][symbol]\")\n",
        "```\n",
        "    - we write a **letter** to indicate the color and a **symbols** to indicate the curve style.\n",
        "  \n",
        "      The letter (color) options are:\n",
        "        1. r (red)\n",
        "        2. g (green)\n",
        "        3. b (blue); it's the default\n",
        "        4. c (cyan)\n",
        "        5. m (magenta)\n",
        "        6. y (yellow)\n",
        "        7. k (black)\n",
        "        8. w (white)\n",
        "\n",
        "      Some options for curve style are:\n",
        "        1. \"-\" (solid line); it's the default \n",
        "        2. --  (dashed lines)\n",
        "        3. o   (circle-points, but not connected with lines)\n",
        "        4. .   (smaller-circle-points, not connected with lines)\n",
        "        5. s   (square-marks)\n",
        "\n",
        "* By calling other functions, we can also:\n",
        "  * give the figure a title\n",
        "```python\n",
        "plt.title(\"A title\")\n",
        "```\n",
        "  * give the axes labels\n",
        "    - import the **xlabel()** and **ylabel()** frunctions from matplotlib and write:\n",
        "```python\n",
        "plt.xlabel(\"this is a label\", fontsize = #)\n",
        "```\n",
        "  * set axes limits\n",
        "    - import the **xlim()** and **ylim()** functions from matplotlib and write:\n",
        "```python\n",
        "plt.xlim(start #, end #)\n",
        "```\n",
        "    - A cool detail is if you want to invert the axes, you just provide a larger starting number than the ending number\n",
        "  * add a legend\n",
        "    - import **legend** from matplotlib and write:\n",
        "```python\n",
        "plt.legend(['data1','data2'], loc = \"specify a location\")   \n",
        "```\n",
        "    - Examples for loc = \"upper right\", \"lower left\", \"center\", etc. \n",
        "  * change the figure's settings by calling the **figure** function:\n",
        "    - It is important to note that **plt.figure** goes before **plt.plot()**\n",
        "    - size: \n",
        "```python\n",
        "plt.figure( figsize=(float#,float#) )\n",
        "```\n",
        "    - change background's color\n",
        "```python\n",
        "plt.figure(facecolor=\"k\")\n",
        "```  \n",
        "    - change edge's color\n",
        "```python\n",
        "plt.figure(edgecolor=\"g\") \n",
        "```\n",
        "    - change the resolution in dots-per-inch\n",
        "```python\n",
        "plt.figure(dpi=100)\n",
        "```"
      ]
    },
    {
      "cell_type": "code",
      "metadata": {
        "id": "cW1qRdfyrU2w"
      },
      "source": [
        "# Making a better graph\n",
        "import matplotlib.pyplot as plt\n",
        " \n",
        "# Our data\n",
        "x = [1,2,3,4,5,6,7,8,9,10,11,12,13,14,15,16,17,18,19,20,21,22,23,24,25,26,27,28,29,30,31]\n",
        "y = [0,3,5,5,6,6,14,21,23,31,39,51,64,79,100,127,174,239,286,316,378,452,475,513,573,620,683,725,788,897,903]\n",
        " \n",
        "# Change the figure's look\n",
        "plt.figure(figsize=(4,3), dpi=200)\n",
        " \n",
        "# Plot the data\n",
        "plt.plot(x,y,\"r.\")\n",
        " \n",
        "# Edit what you like...\n",
        "# Figure title and axes lables\n",
        "plt.title(\"CoronaVirus in Puerto Rico\")\n",
        "plt.xlabel(\"May 2020\")\n",
        "plt.ylabel(\"People sick\")\n",
        "plt.legend(['People sick'])\n",
        " \n",
        "plt.show()"
      ],
      "execution_count": null,
      "outputs": []
    },
    {
      "cell_type": "markdown",
      "metadata": {
        "id": "tcRfeURlSwra"
      },
      "source": [
        "## Scatter Plots\n",
        "Useful to see how two dependent variables can relate to each other.\n",
        "\n",
        "\n",
        "* You have to call the **scatter** function from matplotlib\n",
        "```python\n",
        "import matplotlib.pyplot as plt\n",
        "#later...\n",
        "plt.scatter(x,y)\n",
        "plt.show()\n",
        "```\n",
        "* **scatter** does not take another argument for the plot style, since it is set to be a scatter plot\n",
        "* Can take the same **plt.figure()** arguments to change your graph's look \n"
      ]
    },
    {
      "cell_type": "markdown",
      "source": [
        "## Loading data from Google Drive\n"
      ],
      "metadata": {
        "id": "242vl0Fw9R6f"
      }
    },
    {
      "cell_type": "markdown",
      "metadata": {
        "id": "w-63J_JYiQnv"
      },
      "source": [
        "\n",
        "For the next plot, we shall use a method to load a dataset that is stored in a Google Drive Folder. For it, we will use the **drive** function from the **google.colab** library. \n",
        "\n",
        "\n",
        "Additionally, the **loadtxt** function from the **numpy** library will be used to load the text file we shall use.\n",
        "\n",
        "The code would go like this...\n",
        "```python\n",
        "from google.colab import drive\n",
        " \n",
        "# Downloading the data from Google Drive\n",
        "drive.mount('/content/drive')\n",
        "data_in_drive =\"/content/drive/MyDrive/Colab Notebooks/STEM Workshop/Feb 2021/Data/stars.txt\"\n",
        "```\n",
        "\n",
        "Mounting the drive will ask you for a password that will be given to you once you sign in with a Google account."
      ]
    },
    {
      "cell_type": "markdown",
      "metadata": {
        "id": "IWfohtnzk-3s"
      },
      "source": [
        "Let's plot..."
      ]
    },
    {
      "cell_type": "code",
      "source": [
        "# Import PyDrive and associated libraries.\n",
        "# This only needs to be done once per notebook.\n",
        "from pydrive.auth import GoogleAuth\n",
        "from pydrive.drive import GoogleDrive\n",
        "from google.colab import auth\n",
        "from oauth2client.client import GoogleCredentials\n",
        "\n",
        "# Authenticate and create the PyDrive client.\n",
        "# This only needs to be done once per notebook.\n",
        "auth.authenticate_user()\n",
        "gauth = GoogleAuth()\n",
        "gauth.credentials = GoogleCredentials.get_application_default()\n",
        "drive = GoogleDrive(gauth)\n",
        "\n",
        "# Download a file based on its file ID.\n",
        "#\n",
        "# A file ID looks like: laggVyWshwcyP6kEI-y_W3P8D26sz\n",
        "file_id = '1a0RvN4vy__iqejITbRokfGHe0PkqxwpC'\n",
        "downloaded = drive.CreateFile({'id': file_id})\n",
        "# print('Downloaded content \"{}\"'.format(downloaded.GetContentString()))"
      ],
      "metadata": {
        "id": "FPRqFEcN6GF9"
      },
      "execution_count": null,
      "outputs": []
    },
    {
      "cell_type": "code",
      "source": [
        "title=downloaded['title']\n",
        "downloaded.GetContentFile(title)"
      ],
      "metadata": {
        "id": "z7TZC0Yg6rTr"
      },
      "execution_count": null,
      "outputs": []
    },
    {
      "cell_type": "markdown",
      "source": [
        "## Loading data with pandas or numpy"
      ],
      "metadata": {
        "id": "nar4jOo58Uhb"
      }
    },
    {
      "cell_type": "code",
      "metadata": {
        "id": "xmuRG3vYqXn0"
      },
      "source": [
        "# For plotting\n",
        "import matplotlib.pyplot as plt\n",
        "# For downloading the data we'll plot\n",
        "from numpy import loadtxt\n",
        "\n",
        "\n",
        "#if it doesn't work change the path below to the appropiate place for you\n",
        "path =\"/content/stars.txt\"\n",
        "# Or\n",
        "# path='https://raw.githubusercontent.com/GuillermoFidalgo/Matplotlib-SWC/main/data/stars.txt'\n",
        "\n",
        "# Converts the data as a list of float values\n",
        "data = loadtxt(path, float)\n",
        " \n",
        "# Slice to assing the variable everything from the first column\n",
        "# This is the stars' temperature\n",
        "T = data[:,0]   \n",
        " \n",
        "# Slice to assign the varible everything from the second column\n",
        "# This is the stars' absolute magnitude\n",
        "M = data[:,1]   \n",
        " \n",
        "# Setting the background\n",
        "plt.style.use('dark_background')\n",
        " \n",
        "# Change the figure's look\n",
        "plt.figure(figsize=(6,4), dpi=160)\n",
        " \n",
        "# Plot the data\n",
        "plt.scatter(T, M, s=3, cmap = \"RdYlBu\", c=T)\n",
        " \n",
        "plt.title(\"The Hertzsprung-Russel Diagram\", fontsize=8)\n",
        "plt.xlabel(\"Temperature\")\n",
        "plt.ylabel(\"Magnitude\")\n",
        "plt.xlim(13500,0)\n",
        "plt.ylim(20,-5)\n",
        " \n",
        "plt.show()\n",
        "plt.style.use('default')"
      ],
      "execution_count": null,
      "outputs": []
    },
    {
      "cell_type": "markdown",
      "metadata": {
        "id": "j1W67Ixn2mk9"
      },
      "source": [
        "## Histograms\n",
        "Useful to study the distribution of your data.\n",
        "* Can be created by calling the **hist()** function from matplotlib\n",
        "  * It's first argument is your sequence to plot\n",
        "  * The second argument is the binning \n",
        "    * Bins divides your data into \"buckets\" of the specified width\n",
        "    * Example: say you have a data that ranges from 0 to 10. If you bin your data by 2, it makes 5 \"buckets\"  to distribute your data...\n",
        " \n",
        "      (0-2), (2-4), (4-6), (6-8), (8-10)"
      ]
    },
    {
      "cell_type": "code",
      "metadata": {
        "id": "4N0yz6y6qwmo"
      },
      "source": [
        "# We are going to need the pandas library to analyze our data\n",
        "import pandas as pd\n",
        " \n",
        "# We are going to use the read_csv function from pandas to call our data file\n",
        "data = pd.read_csv('https://raw.githubusercontent.com/GuillermoFidalgo/Python-for-STEM-Teachers-Workshop/master/data/Dimuon_DoubleMu.csv')\n",
        " \n",
        "# We can look at our data's content by using the built-in function head()\n",
        "data.head()"
      ],
      "execution_count": null,
      "outputs": []
    },
    {
      "cell_type": "markdown",
      "metadata": {
        "id": "nS-6lzYwuYNU"
      },
      "source": [
        "The invariant mass (M) is an important quantity that allows us to indentify what particle we are looking at."
      ]
    },
    {
      "cell_type": "code",
      "metadata": {
        "id": "JjXsl1HmuKtl"
      },
      "source": [
        "invariant_mass = data['M']\n",
        " \n",
        "invariant_mass"
      ],
      "execution_count": null,
      "outputs": []
    },
    {
      "cell_type": "markdown",
      "metadata": {
        "id": "xwhyzth7u3Jy"
      },
      "source": [
        "Let's now do the histogram of the invariant mass"
      ]
    },
    {
      "cell_type": "code",
      "metadata": {
        "id": "46QqHfh4uoNi"
      },
      "source": [
        "import matplotlib.pyplot as plt\n",
        " \n",
        "plt.hist(invariant_mass)\n",
        " \n",
        "plt.xlabel('Invariant mass [GeV]')\n",
        "plt.ylabel('Number of events')\n",
        "plt.title('The histogram of the invariant masses of two muons \\n') \n",
        " \n",
        "plt.show()"
      ],
      "execution_count": null,
      "outputs": []
    },
    {
      "cell_type": "code",
      "metadata": {
        "id": "TQcmKm5DvUUM"
      },
      "source": [
        "# Let's specify the bins\n",
        " \n",
        "plt.hist(invariant_mass, bins=500)\n",
        " \n",
        "plt.xlabel('Invariant mass [GeV]')\n",
        "plt.ylabel('Number of events')\n",
        "plt.title('The histogram of the invariant masses of two muons \\n') \n",
        " \n",
        "plt.show()"
      ],
      "execution_count": null,
      "outputs": []
    },
    {
      "cell_type": "code",
      "metadata": {
        "id": "kapUcfyzvkjF"
      },
      "source": [
        "# Let's better our plot's resolution\n",
        " \n",
        "plt.figure(dpi=150)\n",
        "plt.hist(invariant_mass, bins=500)\n",
        " \n",
        "plt.xlabel('Invariant mass [GeV]')\n",
        "plt.ylabel('Number of events')\n",
        "plt.title('The histogram of the invariant masses of two muons \\n') \n",
        " \n",
        "plt.show()"
      ],
      "execution_count": null,
      "outputs": []
    },
    {
      "cell_type": "code",
      "metadata": {
        "id": "ddJrAtVswLKl"
      },
      "source": [
        "# Let's find the best range and bins combination\n",
        " \n",
        "plt.figure(dpi=100)\n",
        "plt.hist(invariant_mass, bins=200, range=[0,120])\n",
        " \n",
        "plt.xlabel('Invariant mass [GeV]')\n",
        "plt.ylabel('Number of events')\n",
        "plt.title('The histogram of the invariant masses of two muons \\n') \n",
        " \n",
        "plt.show()"
      ],
      "execution_count": null,
      "outputs": []
    },
    {
      "cell_type": "code",
      "metadata": {
        "id": "WyhgfCA2vXlu"
      },
      "source": [
        "# Let's make the x and y axis be in a log scale \n",
        "# and give it a \"step\" type of look (which is basically a line instead of a block)\n",
        "# I\"ll also add more bins if needed\n",
        "\n",
        "plt.figure(dpi=100)\n",
        "plt.hist(invariant_mass, bins=500, range=[0,120],histtype=\"step\")\n",
        " \n",
        "plt.xlabel('Invariant mass [GeV]')\n",
        "plt.ylabel('Number of events')\n",
        "plt.title('The histogram of the invariant masses of two muons \\n')\n",
        "plt.yscale(\"symlog\")\n",
        "plt.xscale('log')\n",
        "plt.show()"
      ],
      "execution_count": null,
      "outputs": []
    },
    {
      "cell_type": "markdown",
      "source": [
        "That doesn't look quite right. Let's make the bins spaced logarithmically with numpy"
      ],
      "metadata": {
        "id": "YMnbJtG7fJC9"
      }
    },
    {
      "cell_type": "code",
      "source": [
        "import numpy as np\n",
        "a,b = .5,150\n",
        "logbins= np.logspace(np.log10(a),np.log10(b),num=500)\n",
        "plt.figure(dpi=100)\n",
        "plt.hist(invariant_mass, bins=logbins,histtype=\"step\")\n",
        " \n",
        "plt.xlabel('Invariant mass [GeV]')\n",
        "plt.ylabel('Number of events')\n",
        "plt.title('The histogram of the invariant masses of two muons \\n')\n",
        "plt.yscale(\"log\")\n",
        "plt.xscale('log')\n",
        "plt.show()"
      ],
      "metadata": {
        "id": "rwiMuLqjfHJT"
      },
      "execution_count": null,
      "outputs": []
    },
    {
      "cell_type": "markdown",
      "metadata": {
        "id": "S90pNXPvrPrk"
      },
      "source": [
        "We can compare our plot with the one provided by the CERN Open Data analysis.\n",
        "\n",
        "<!-- ![](https://root.cern/doc/master/pict1_df102_NanoAODDimuonAnalysis.C.png) -->"
      ]
    },
    {
      "cell_type": "code",
      "source": [
        "from IPython.display import Image\n",
        "Image(\"https://root.cern/doc/master/pict1_df102_NanoAODDimuonAnalysis.C.png\",width=600)"
      ],
      "metadata": {
        "id": "USNHlBq24tV8"
      },
      "execution_count": null,
      "outputs": []
    },
    {
      "cell_type": "code",
      "source": [
        ""
      ],
      "metadata": {
        "id": "nl8HQ1lz3Nwb"
      },
      "execution_count": null,
      "outputs": []
    }
  ]
}