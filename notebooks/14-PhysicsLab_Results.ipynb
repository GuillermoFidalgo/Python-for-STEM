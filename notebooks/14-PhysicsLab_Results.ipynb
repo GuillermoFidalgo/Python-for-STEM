{
  "nbformat": 4,
  "nbformat_minor": 0,
  "metadata": {
    "kernelspec": {
      "display_name": "Python 3",
      "language": "python",
      "name": "python3"
    },
    "language_info": {
      "codemirror_mode": {
        "name": "ipython",
        "version": 3
      },
      "file_extension": ".py",
      "mimetype": "text/x-python",
      "name": "python",
      "nbconvert_exporter": "python",
      "pygments_lexer": "ipython3",
      "version": "3.8.2"
    },
    "colab": {
      "name": "Gráficas Parte 1.ipynb",
      "provenance": [],
      "include_colab_link": true
    }
  },
  "cells": [
    {
      "cell_type": "markdown",
      "metadata": {
        "id": "view-in-github",
        "colab_type": "text"
      },
      "source": [
        "<a href=\"https://colab.research.google.com/github/GuillermoFidalgo/Matplotlib-SWC/blob/main/PhysicsLab_Results.ipynb\" target=\"_parent\"><img src=\"https://colab.research.google.com/assets/colab-badge.svg\" alt=\"Open In Colab\"/></a>"
      ]
    },
    {
      "cell_type": "code",
      "metadata": {
        "id": "Yb0M1LQA_6Ch"
      },
      "source": [
        "import matplotlib.pyplot as plt\n",
        "import numpy as np\n",
        "import pandas as pd"
      ],
      "execution_count": null,
      "outputs": []
    },
    {
      "cell_type": "markdown",
      "source": [
        "## If on Google Colab\n"
      ],
      "metadata": {
        "id": "iARPEWaAwqVZ"
      }
    },
    {
      "cell_type": "code",
      "metadata": {
        "id": "osEyAC3eAaW2"
      },
      "source": [
        "# from google.colab import drive\n",
        "# drive.mount('/content/drive')"
      ],
      "execution_count": null,
      "outputs": []
    },
    {
      "cell_type": "code",
      "source": [
        "# Import PyDrive and associated libraries.\n",
        "# This only needs to be done once per notebook.\n",
        "from pydrive.auth import GoogleAuth\n",
        "from pydrive.drive import GoogleDrive\n",
        "from google.colab import auth\n",
        "from oauth2client.client import GoogleCredentials\n",
        "\n",
        "# Authenticate and create the PyDrive client.\n",
        "# This only needs to be done once per notebook.\n",
        "auth.authenticate_user()\n",
        "gauth = GoogleAuth()\n",
        "gauth.credentials = GoogleCredentials.get_application_default()\n",
        "drive = GoogleDrive(gauth)\n",
        "\n",
        "# Download a file based on its file ID.\n",
        "#\n",
        "# A file ID looks like: laggVyWshwcyP6kEI-y_W3P8D26sz\n",
        "file_id = '1-BuvxJWvAmlsUTrOBNGmxMCCVUwgpSdk'\n",
        "downloaded = drive.CreateFile({'id': file_id})\n",
        "# print('Downloaded content \"{}\"'.format(downloaded.GetContentString()))"
      ],
      "metadata": {
        "id": "s7OfcOVptXYX"
      },
      "execution_count": null,
      "outputs": []
    },
    {
      "cell_type": "code",
      "source": [
        "title=downloaded['title']\n",
        "downloaded.GetContentFile(title)"
      ],
      "metadata": {
        "id": "bxcgb_Rjuecb"
      },
      "execution_count": null,
      "outputs": []
    },
    {
      "cell_type": "markdown",
      "source": [
        "# Get the data"
      ],
      "metadata": {
        "id": "jVBGthnwkx4w"
      }
    },
    {
      "cell_type": "code",
      "metadata": {
        "id": "VULjC7ig_6Cy"
      },
      "source": [
        "path='https://raw.githubusercontent.com/GuillermoFidalgo/Matplotlib-SWC/main/data/Grafica%20R%20vs%20B.csv'\n",
        "df=pd.read_csv(path,usecols=[2,3])\n",
        "df"
      ],
      "execution_count": null,
      "outputs": []
    },
    {
      "cell_type": "code",
      "source": [
        "df.info()"
      ],
      "metadata": {
        "id": "npVzotzNjBTz"
      },
      "execution_count": null,
      "outputs": []
    },
    {
      "cell_type": "code",
      "metadata": {
        "id": "1HjxePTp_6DB"
      },
      "source": [
        "R=df['Resistencia']\n",
        "\n",
        "B=df['Campo Magnético (Gaus)']"
      ],
      "execution_count": null,
      "outputs": []
    },
    {
      "cell_type": "markdown",
      "source": [
        "Create a function to calculate % of uncertainty\n",
        "\n",
        "If our measurement is x and if the uncertainty is 1% then \n",
        "$$ x \\times(\\frac{1}{100}) = \\% $$"
      ],
      "metadata": {
        "id": "vp8D_Bt_jqLo"
      }
    },
    {
      "cell_type": "code",
      "metadata": {
        "id": "RQWNp_9b_6DL"
      },
      "source": [
        "def get_uncer_percentage(x,uncer=1):\n",
        "    uncert=x*(uncer/100)\n",
        "    return uncert"
      ],
      "execution_count": null,
      "outputs": []
    },
    {
      "cell_type": "markdown",
      "source": [
        "## Now we want make a linear fit\n",
        "\n",
        "For this we use NumPy's polyfit and poly1d functions.\n"
      ],
      "metadata": {
        "id": "31MUd-Ruks9v"
      }
    },
    {
      "cell_type": "code",
      "source": [
        "np.polyfit(B,R,deg=1)\n",
        "# returns coefficients of y= mx + b\n",
        "# [m, b]\n",
        "# if deg ==2 then it returns coefficients of y = ax^2 + mx + b\n",
        "# [a, m, b]"
      ],
      "metadata": {
        "id": "rVB4ZcFQjlED"
      },
      "execution_count": null,
      "outputs": []
    },
    {
      "cell_type": "markdown",
      "source": [
        "`np.poly1d` takes in a list of coefficients and returns a polynomial with those coefficients"
      ],
      "metadata": {
        "id": "zN_jhgu_ncqm"
      }
    },
    {
      "cell_type": "code",
      "source": [
        "poly=np.poly1d(np.polyfit(B,R,deg=1))\n",
        "print(poly)"
      ],
      "metadata": {
        "id": "k_68sPTWnGyi"
      },
      "execution_count": null,
      "outputs": []
    },
    {
      "cell_type": "markdown",
      "source": [
        "like a real function you can pass in a value to evaluate this function.\n",
        "`poly(x)`"
      ],
      "metadata": {
        "id": "U2zvXnAIoA-A"
      }
    },
    {
      "cell_type": "code",
      "source": [
        "poly(1000)"
      ],
      "metadata": {
        "id": "4wSuRz0OoMK6"
      },
      "execution_count": null,
      "outputs": []
    },
    {
      "cell_type": "markdown",
      "source": [
        "Putting it all together to solve our problem"
      ],
      "metadata": {
        "id": "YAD9yF_YohqJ"
      }
    },
    {
      "cell_type": "code",
      "metadata": {
        "id": "7xz081Ga_6DW"
      },
      "source": [
        "fit=np.poly1d(np.polyfit(B,R,1))\n",
        "yerr=get_uncer_percentage(R) # get the uncertainties for the Resistance"
      ],
      "execution_count": null,
      "outputs": []
    },
    {
      "cell_type": "markdown",
      "metadata": {
        "id": "yNRmx4Ge_6Dg"
      },
      "source": [
        "# Checking all variables before plotting"
      ]
    },
    {
      "cell_type": "code",
      "metadata": {
        "id": "ZESUvLM8_6Di"
      },
      "source": [
        "print('fit is',fit)\n",
        "print()\n",
        "print('The polynomial evaluated for each R\\n',fit(B))\n",
        "print()\n",
        "print('Values of R\\n',R)\n",
        "print()\n",
        "print('Corresponding uncertainty\\n',yerr)"
      ],
      "execution_count": null,
      "outputs": []
    },
    {
      "cell_type": "code",
      "metadata": {
        "id": "qWQzqkpx_6Dp"
      },
      "source": [
        "# import mplhep as hep\n",
        "# hep.style.use(\"ROOT\")\n",
        "\n",
        "plt.figure(figsize=(7,4),dpi=100)\n",
        "plt.errorbar(B,R,yerr=yerr,fmt='ok',label='data')\n",
        "plt.plot(B,fit(B),'--',label=\"%s\"%fit)\n",
        "plt.title('Efecto de Campo Magnético sobre Resistencia')\n",
        "plt.xlabel('%s'%B.name)\n",
        "plt.ylabel('%s'%R.name)\n",
        "plt.legend(loc=2)\n",
        "plt.ylim(35,45)\n",
        "\n",
        "# plt.savefig(\"R-vs-B-Parte1.png\", dpi=200)\n",
        "plt.show()"
      ],
      "execution_count": null,
      "outputs": []
    },
    {
      "cell_type": "code",
      "metadata": {
        "id": "2xHuVuXO_6Dw"
      },
      "source": [
        ""
      ],
      "execution_count": null,
      "outputs": []
    }
  ]
}