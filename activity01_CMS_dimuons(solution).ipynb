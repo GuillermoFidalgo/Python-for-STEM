{
  "cells": [
    {
      "cell_type": "markdown",
      "metadata": {
        "colab_type": "text",
        "id": "view-in-github"
      },
      "source": [
        "<a href=\"https://colab.research.google.com/github/GuillermoFidalgo/Python-for-STEM-Teachers-Workshop/blob/master/activity01_CMS_dimuons(solution).ipynb\" target=\"_parent\"><img src=\"https://colab.research.google.com/assets/colab-badge.svg\" alt=\"Open In Colab\"/></a>"
      ]
    },
    {
      "cell_type": "markdown",
      "metadata": {
        "colab_type": "text",
        "id": "MQTLrSzVmTgH"
      },
      "source": [
        "**How to save this notebook to your personal Drive**\n",
        "\n",
        "To copy this notebook to your Google Drive, go to File and select \"Save a copy in Drive\", where it will automatically open the copy in a new tab for you to work in. This notebook will be saved into a folder on your personal Drive called \"Colab Notebooks\".\n",
        "\n",
        "\n",
        "Still stumped? Check out <a href=\"https://www.youtube.com/watch?v=qaJ2UpMPXKk\"> this video</a> for help"
      ]
    },
    {
      "cell_type": "markdown",
      "metadata": {
        "colab_type": "text",
        "id": "ChEwEkRfCRMJ"
      },
      "source": [
        "# Looking at the dimuon spectrum over a wide energy range"
      ]
    },
    {
      "cell_type": "markdown",
      "metadata": {
        "colab_type": "text",
        "id": "5Q3czKXICRMN"
      },
      "source": [
        "<h3>Learning goals</h3>\n",
        "<ul>\n",
        "    <li>Relativistic kinematics.\n",
        "    <li>Mesons.\n",
        "</ul>"
      ]
    },
    {
      "attachments": {},
      "cell_type": "markdown",
      "metadata": {
        "colab_type": "text",
        "id": "-EQWisz_CRMQ"
      },
      "source": [
        "<b>Background</b>\n",
        "\n",
        "To determine the mass ($m$) of a particle you need to know the 4-momenta of the particles ($\\mathbf{P}$) that are detected after the collision: the energy ($E$), the momentum in the x direction ($p_x$), the momentum in the y direction ($p_y$), the momentum in the z direction ($p_z$).\n",
        "\n",
        "$$\\mathbf{P} = (E,p_x,p_y,p_z)$$\n",
        "\n",
        "\n",
        "$$ m = \\sqrt{E^2-(p_x^2+p_y^2 + p_z^2)} $$\n",
        "\n",
        "Some particles are very unstable and decay (turn into) to two or more other particles. In fact, they can decay so quickly, that they never interact with your detector! Yikes!\n",
        "\n",
        "However, we can reconstruct the parent particle (sometimes referred to as <b>the initial state particle</b>) and its 4-momentum by adding the 4-momenta of the child particles (sometimes referred to as <b>the decay products</b>). \n",
        "\n",
        "$$\\mathbf{P_{\\rm parent}} = \\mathbf{P_{\\rm child 0}} + \\mathbf{P_{\\rm child 1}} + \\mathbf{P_{\\rm child 2}} + ...$$\n",
        "\n",
        "\n",
        "\n",
        "which breaks down into...\n",
        "\n",
        "$$E_{\\rm parent} = E_{\\rm child 0} + E_{\\rm child 1} + E_{\\rm child 2} + ...$$\n",
        "\n",
        "$$p_{\\rm x parent} = p_{\\rm x child 0} + p_{\\rm x child 1} + p_{\\rm x child 2} + ...$$\n",
        "\n",
        "$$p_{\\rm y parent} = p_{\\rm y child 0} + p_{\\rm y child 1} + p_{\\rm y child 2} + ...$$\n",
        "\n",
        "$$p_{\\rm z parent} = p_{\\rm z child 0} + p_{\\rm y child 1} + p_{\\rm z child 2} + ...$$\n"
      ]
    },
    {
      "cell_type": "markdown",
      "metadata": {
        "colab_type": "text",
        "id": "rQR8GLXUCRMS"
      },
      "source": [
        "<b>Let's code!</b>\n",
        "\n",
        "Here is some very, very basic starter code. It reads in data from the CMS experiment. \n",
        "\n",
        "If you haven't already, you will want to go through the <a href=\"https://colab.research.google.com/drive/1TFvNoq-i8isZoAwnZubRnNM0CrMGXUmP\">CMS data model</a> (also included when you cloned this directory) exercise so you know how to pull out the relevant information. \n",
        "\n",
        "The following example runs with 1000 events that are included with this repository. To better see the full phyiscs, you can download a bigger file, <code>dimuons_100k.dat</code>. To download this file, see the <a href=\"https://colab.research.google.com/drive/174AUxy9qTqQ1XndbJW_Wryz9m95QZRIk\">download_more_data</a> exercise, also included in this repository.\n",
        "\n",
        "<b>NOTE: If you are getting an error saying that there is no module \"pps_tools\", go to Runtime, and then select Restart runtime. Also make sure that your runtime type is Python 3. </b>"
      ]
    },
    {
      "cell_type": "code",
      "execution_count": 1,
      "metadata": {
        "colab": {
          "base_uri": "https://localhost:8080/",
          "height": 92
        },
        "colab_type": "code",
        "id": "WUK5VelECRMT",
        "outputId": "8866416b-7ee7-4420-dcd8-bd1ca92cf54b"
      },
      "outputs": [
        {
          "name": "stdout",
          "output_type": "stream",
          "text": [
            "Already up to date.\n",
            "zip_safe flag not set; analyzing archive contents...\n",
            "Already up to date.\n",
            "zip_safe flag not set; analyzing archive contents...\n"
          ]
        }
      ],
      "source": [
        "###### This cell need only be run once per session ##########\n",
        "###### Make sure your runtime type is Python 3  ############\n",
        "\n",
        "# Import h5hep from Github. This is to allow us to read these\n",
        "# particular files. \n",
        "!if [ ! -e h5hep ]; then git  clone https://github.com/mattbellis/h5hep.git; fi \n",
        "!cd h5hep; git pull; python setup.py -q install --user \n",
        "\n",
        "# Import custom tools package from Github. These are some simple accessor functions\n",
        "# to make it easier to work with these data files. \n",
        "!if [ ! -e particle_physics_simplified ]; then git  clone https://github.com/mattbellis/particle_physics_simplified.git; fi\n",
        "!cd particle_physics_simplified; git pull; python setup.py -q install --user\n",
        "\n",
        "# Note that the -q option in the above \"python setup.py ...\" commands suppresses\n",
        "# diagnostic output. So if you are having issues, you may want to remove the -q\n",
        "\n",
        "import pps_tools as pps\n",
        "import h5hep"
      ]
    },
    {
      "cell_type": "code",
      "execution_count": 2,
      "metadata": {
        "colab": {},
        "colab_type": "code",
        "id": "lORskPqMV6bc"
      },
      "outputs": [],
      "source": [
        "###### This cell need only be run once per session ############################\n",
        "\n",
        "# Fetch data file\n",
        "pps.download_from_drive('dimuons_100k.hdf5')"
      ]
    },
    {
      "cell_type": "code",
      "execution_count": 3,
      "metadata": {
        "colab": {
          "base_uri": "https://localhost:8080/",
          "height": 317
        },
        "colab_type": "code",
        "id": "qWiWkwKOIB7o",
        "outputId": "e2eea7d0-f83e-4d90-be9a-1db2d3dfc6a4"
      },
      "outputs": [
        {
          "name": "stdout",
          "output_type": "stream",
          "text": [
            "\n",
            "Building a simplified interface to the events...\n",
            "\n",
            "Building the indices...\n",
            "Built the indices!\n",
            "Data is read in and input file is closed.\n",
            "Reading in event  0\n",
            "Reading in event  10000\n",
            "Reading in event  20000\n",
            "Reading in event  30000\n",
            "Reading in event  40000\n",
            "Reading in event  50000\n",
            "Reading in event  60000\n",
            "Reading in event  70000\n",
            "Reading in event  80000\n",
            "Reading in event  90000\n"
          ]
        }
      ],
      "source": [
        "# open and read data file\n",
        "infile = 'data/dimuons_100k.hdf5'\n",
        "collisions = pps.get_collisions(infile,experiment='CMS',verbose=False)"
      ]
    },
    {
      "cell_type": "markdown",
      "metadata": {
        "colab_type": "text",
        "id": "Q5_Ws3DgCRMe"
      },
      "source": [
        "<h2><font color=\"red\">Challenge!</font></h2>\n",
        "\n",
        "Use the sample code to find the mass of the particle that the two muons came from (parent particle). \n",
        "\n",
        "To do this, you will need to loop over all pairs of muons for each collision, sum their 4-momenta (energy, px, py, and pz) and then use that to calculate the invariant mass. \n",
        "\n",
        "Do this for all possible pairs and in addition, break it down so that you calculate the invariant mass for the cases where:\n",
        "* Both muons are positively charged.\n",
        "* Both muons are negatively charged.\n",
        "* The muons have opposite charges.\n",
        "\n",
        "Be careful. Some collisions may have more than 2 muons, so write your code such that it calculates all possible pairs of muons in a given collisions. For example, if there are 3 muons in a collision, there are 3 possible pairs that you can make. \n",
        "\n",
        "<i>Hint!</i>\n",
        "\n",
        "It is very likely that a particle exists where there is a peak in the data. However, this is not always true. \n",
        "A peak in the data is most likely the mass of a particle. You can look at the approximate mass to figure out which particle \n",
        "is found in the data."
      ]
    },
    {
      "cell_type": "markdown",
      "metadata": {
        "colab_type": "text",
        "id": "Q1GLOtOfCRMg"
      },
      "source": [
        "Your histogram should look something like the following sketch. The value of the peaks should be the mass of a particle. You should be able to find two particles in their ground state. <a href=\"http://en.wikipedia.org/wiki/J/psi_meson\">Check your answer for the first particle!</a> <a href=\"http://en.wikipedia.org/wiki/Upsilon_meson\">Check your answer for the second particle!</a> "
      ]
    },
    {
      "cell_type": "code",
      "execution_count": 4,
      "metadata": {
        "colab": {
          "base_uri": "https://localhost:8080/",
          "height": 341
        },
        "colab_type": "code",
        "id": "nRdNKhJBCRMh",
        "outputId": "c1cedbb3-f1b9-4b2c-b60b-eb4f5c9b662b"
      },
      "outputs": [
        {
          "data": {
            "text/html": [
              "<img src=\"https://raw.githubusercontent.com/particle-physics-playground/playground/master/activities/images/dimuons_sketch.jpeg\"/>"
            ],
            "text/plain": [
              "<IPython.core.display.Image object>"
            ]
          },
          "execution_count": 4,
          "metadata": {
            "tags": []
          },
          "output_type": "execute_result"
        }
      ],
      "source": [
        "from IPython.display import Image\n",
        "Image(url='https://raw.githubusercontent.com/particle-physics-playground/playground/master/activities/images/dimuons_sketch.jpeg')"
      ]
    },
    {
      "cell_type": "code",
      "execution_count": 5,
      "metadata": {
        "colab": {},
        "colab_type": "code",
        "id": "LQvrAgbdbe72"
      },
      "outputs": [],
      "source": [
        "import numpy as np\n",
        "import matplotlib.pyplot as plt"
      ]
    },
    {
      "cell_type": "code",
      "execution_count": 6,
      "metadata": {
        "colab": {},
        "colab_type": "code",
        "id": "4l3y5wWLCRMo"
      },
      "outputs": [],
      "source": [
        "#Create Empty lists\n",
        "energies = []\n",
        "momentum = []\n",
        "mass = []\n",
        "\n",
        "#Convert Lists to arrays using numpy\n",
        "\n",
        "#momentum = np.array(momentum)\n",
        "#energies = np.array(energies)\n",
        "#mass = np.array(mass)\n",
        "\n",
        "\n",
        "for collision in collisions:          # loops over all the events in the file\n",
        "  muons = collision['muons']      # gets the list of all muons in the event\n",
        "  \n",
        "  for muon in muons:           # loops over each muon in the current event\n",
        "    e = muon['e']               # gets the energy of the muon\n",
        "    energies.append(e)         # puts the energy in a list\n",
        "               \n",
        "    \n",
        "    px= muon[\"px\"]\n",
        "    py= muon[\"py\"]\n",
        "    pz= muon[\"pz\"]\n",
        "    \n",
        "    E=e**2 \n",
        "    P=px**2+py**2+pz**2\n",
        "    M=(np.abs(E-P))**.5\n",
        "    mass.append(M)\n",
        "    # momentum.append(P**.5)"
      ]
    },
    {
      "cell_type": "markdown",
      "metadata": {
        "colab_type": "text",
        "id": "2BMDewdhcZ03"
      },
      "source": [
        "## So far we have the mass of all muons and the next plot shows the invariant mass distribution of the muons"
      ]
    },
    {
      "cell_type": "code",
      "execution_count": 7,
      "metadata": {
        "colab": {
          "base_uri": "https://localhost:8080/",
          "height": 553
        },
        "colab_type": "code",
        "id": "a2lrsepEcNsy",
        "outputId": "b111e16f-cad5-4755-d461-95ba16813595"
      },
      "outputs": [
        {
          "data": {
            "image/png": "[encoded data removed]",
            "text/plain": [
              "<Figure size 900x600 with 1 Axes>"
            ]
          },
          "metadata": {
            "needs_background": "light",
            "tags": []
          },
          "output_type": "display_data"
        },
        {
          "name": "stdout",
          "output_type": "stream",
          "text": [
            "The value of the peak is 0.10565000000000001\n"
          ]
        }
      ],
      "source": [
        "plt.figure(dpi=150)\n",
        "[n,bins,x]=plt.hist(mass,bins=1000,range=(0.10,0.11))\n",
        "plt.show()\n",
        "index=np.argmax(n)\n",
        "print('The value of the peak is',bins[index])"
      ]
    },
    {
      "cell_type": "markdown",
      "metadata": {
        "colab_type": "text",
        "id": "i25PtT67eoNQ"
      },
      "source": [
        "# Calculating invariant mass per event"
      ]
    },
    {
      "cell_type": "code",
      "execution_count": 8,
      "metadata": {
        "colab": {},
        "colab_type": "code",
        "id": "DYqGEcxXdxG6"
      },
      "outputs": [],
      "source": [
        "#Create Empty lists\n",
        "mass = []\n",
        "\n",
        "for collision in collisions:          # loops over all the events in the file\n",
        "  muons = collision['muons']      # gets the list of all muons in the event\n",
        "\n",
        "  # create empty lists for each collision\n",
        "\n",
        "  energies = []\n",
        "  px =[]\n",
        "  py=[]\n",
        "  pz=[]\n",
        "  for muon in muons:           # loops over each muon in the current event\n",
        "    # e = muon['e']               # gets the energy of the muon\n",
        "    energies.append(muon['e'])         # puts the energy in a list\n",
        "    px.append(muon[\"px\"])\n",
        "    py.append(muon[\"py\"])\n",
        "    pz.append(muon[\"pz\"])\n",
        "    # E=e**2 \n",
        "    # P=px**2+py**2+pz**2\n",
        "    # M=(np.abs(E-P))**.5\n",
        "    # mass.append(M)\n",
        "    # momentum.append(P**.5)\n",
        "  e=np.sum(energies)\n",
        "  px = np.sum(px)\n",
        "  py = np.sum(py)\n",
        "  pz = np.sum(pz) \n",
        "  E = e**2\n",
        "  P=px**2+py**2+pz**2\n",
        "  M=(np.abs(E-P))**.5\n",
        "  mass.append(M)\n"
      ]
    },
    {
      "cell_type": "code",
      "execution_count": 31,
      "metadata": {
        "colab": {
          "base_uri": "https://localhost:8080/",
          "height": 526
        },
        "colab_type": "code",
        "id": "SoFqDsRFdw_C",
        "outputId": "d2dd695e-8adc-4bd9-e7d6-93bfbfd2ed51"
      },
      "outputs": [
        {
          "data": {
            "image/png": "[encoded data removed]",
            "text/plain": [
              "<Figure size 750x500 with 1 Axes>"
            ]
          },
          "metadata": {
            "needs_background": "light",
            "tags": []
          },
          "output_type": "display_data"
        },
        {
          "name": "stdout",
          "output_type": "stream",
          "text": [
            "The value of the peak is 3.0812235867512303\n"
          ]
        }
      ],
      "source": [
        "bins=5000\n",
        "plt.figure(dpi=125)\n",
        "[n,bins,x]=plt.hist(mass,bins=bins,density=False,cumulative=False,histtype='step')\n",
        "# plt.hist(mass,bins=bins,density=False,cumulative=True,histtype='step')\n",
        "plt.xlabel('mass (GeV/$c^2$)')\n",
        "plt.ylabel('Events')\n",
        "\n",
        "plt.yscale('log')\n",
        "plt.xscale('log')\n",
        "plt.title('Mass of dimuons per event')\n",
        "# plt.xlim(0,20)\n",
        "# plt.savefig('Dimuon_mass.jpeg',dpi=500,optimize=True)\n",
        "plt.show()\n",
        "plt.close()\n",
        "index=np.argmax(n)\n",
        "print('The value of the peak is',bins[index])"
      ]
    },
    {
      "cell_type": "markdown",
      "metadata": {
        "colab_type": "text",
        "id": "TUi7PgR6CRMt"
      },
      "source": [
        "#### Comments"
      ]
    },
    {
      "cell_type": "markdown",
      "metadata": {
        "colab_type": "text",
        "id": "4Kps3sGICRMu"
      },
      "source": [
        "Depending on which file you ran over, you may see hints of particles below 20 GeV/c$^2$. It is possible you see signs of other particles at even higher energies. Plot your masses over a wide range of values, but then zoom in (change the plotting range) on different mass ranges to see if you can identify these particles.  "
      ]
    }
  ],
  "metadata": {
    "colab": {
      "collapsed_sections": [],
      "include_colab_link": true,
      "name": "Copy of activity01_CMS_dimuons.ipynb",
      "provenance": []
    },
    "kernelspec": {
      "display_name": "Python 3",
      "language": "python",
      "name": "python3"
    },
    "language_info": {
      "name": "python",
      "version": "3.11.0"
    },
    "vscode": {
      "interpreter": {
        "hash": "1a1af0ee75eeea9e2e1ee996c87e7a2b11a0bebd85af04bb136d915cefc0abce"
      }
    }
  },
  "nbformat": 4,
  "nbformat_minor": 0
}
