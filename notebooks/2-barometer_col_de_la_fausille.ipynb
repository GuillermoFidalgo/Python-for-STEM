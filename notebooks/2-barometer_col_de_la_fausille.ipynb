{
  "cells": [
    {
      "cell_type": "markdown",
      "metadata": {
        "colab_type": "text",
        "id": "view-in-github"
      },
      "source": [
        "<a href=\"https://colab.research.google.com/github/GuillermoFidalgo/Python-for-STEM-Teachers-Workshop/blob/master/notebooks/2-barometer_col_de_la_fausille.ipynb\" target=\"_parent\"><img src=\"https://colab.research.google.com/assets/colab-badge.svg\" alt=\"Open In Colab\"/></a>"
      ]
    },
    {
      "cell_type": "markdown",
      "metadata": {
        "colab_type": "text",
        "id": "VPLk0mYizwe5"
      },
      "source": [
        "# Measuring atmospheric pressure"
      ]
    },
    {
      "cell_type": "markdown",
      "metadata": {
        "colab_type": "text",
        "id": "3F1aBitqzwfA"
      },
      "source": [
        "In this exercise we used a Sony XPeria phone's sensors with the [PhyPhox](https://phyphox.org/) application to measure ambient air pressure on a sunny summer day in southern France. We begin our descent from the Jura mountains at Col de la Fausille and end down at a parking lot at CERN's Meyrin site in Switzerland."
      ]
    },
    {
      "cell_type": "code",
      "execution_count": null,
      "metadata": {
        "colab": {},
        "colab_type": "code",
        "id": "BZeWXY1ezwfF"
      },
      "outputs": [],
      "source": [
        "# Let's load the relevant python modules.\n",
        "\n",
        "import pandas as pd\n",
        "import matplotlib.pyplot as plt\n",
        "import numpy as np\n",
        "\n",
        "%matplotlib inline"
      ]
    },
    {
      "cell_type": "code",
      "execution_count": null,
      "metadata": {
        "colab": {},
        "colab_type": "code",
        "id": "guMV6ZgkzwfT"
      },
      "outputs": [],
      "source": [
        "# Load the relevant data.\n",
        "\n",
        "baro = pd.read_csv(\"https://raw.githubusercontent.com/GuillermoFidalgo/Python-for-STEM-Teachers-Workshop/master/data/barometri_fausille.csv\")"
      ]
    },
    {
      "cell_type": "code",
      "execution_count": null,
      "metadata": {
        "colab": {},
        "colab_type": "code",
        "id": "v094r9owzwfb"
      },
      "outputs": [],
      "source": [
        "# Take a look at the data.\n",
        "\n",
        "baro.head()"
      ]
    },
    {
      "cell_type": "code",
      "execution_count": null,
      "metadata": {
        "colab": {},
        "colab_type": "code",
        "id": "LeXW85x-zwfi"
      },
      "outputs": [],
      "source": [
        "# Since the data has only time and pressure, we'll calculate the height difference from known formulas\n",
        "# and add the values in the dataframe.\n",
        "\n",
        "maxp = max(baro[\"Pressure (hPa)\"])\n",
        "dp = list(maxp-baro[\"Pressure (hPa)\"].copy())\n",
        "baro[\"Height (m)\"] = np.ones(len(baro))\n",
        "\n",
        "# Since we know our destination is elevated about 440 m from the sea level:\n",
        "\n",
        "for i in range(0, len(dp)):\n",
        "    baro[\"Height (m)\"][i] = dp[i]*(10/1.2) + 440"
      ]
    },
    {
      "cell_type": "code",
      "execution_count": null,
      "metadata": {
        "colab": {},
        "colab_type": "code",
        "id": "Dj49XNCqzwfp"
      },
      "outputs": [],
      "source": [
        "# Here's the plot vs. time. Can you tell where our car stood still?\n",
        "\n",
        "fig, ax1 = plt.subplots()\n",
        "\n",
        "fig.set_figwidth(20)\n",
        "fig.set_figheight(5)\n",
        "\n",
        "eka, = plt.plot(baro[\"Time (s)\"],baro[\"Pressure (hPa)\"], c = 'r', label = 'Pressure')\n",
        "plt.title(\"Air pressure on the way down from Col de la Fausille \\n\", fontsize = 15)\n",
        "plt.xlabel(\"Time (s)\", fontsize = 15)\n",
        "plt.ylabel(\"Pressure (hPa) \\n\", fontsize = 15)\n",
        "\n",
        "ax2 = ax1.twinx()\n",
        "ax2.set_ylabel('Height (m) \\n', fontsize = 15)\n",
        "\n",
        "toka, = plt.plot(baro[\"Time (s)\"], baro[\"Height (m)\"], c = 'b', label = 'Height')\n",
        "\n",
        "axes=fig.gca()\n",
        "axes.set_ylim(0,1500)\n",
        "\n",
        "plt.legend([eka, toka],['Pressure', 'Height'], loc = 'lower right')\n",
        "plt.show()"
      ]
    },
    {
      "cell_type": "code",
      "execution_count": null,
      "metadata": {
        "colab": {},
        "colab_type": "code",
        "id": "Xba0EncHzwf0"
      },
      "outputs": [],
      "source": [
        "# Since time isn't physically very interesting here, let's try the height instead.\n",
        "\n",
        "plt.figure(figsize = (20,5))\n",
        "\n",
        "plt.plot(baro[\"Height (m)\"], baro[\"Pressure (hPa)\"])\n",
        "plt.title(\"Air pressure \\n\", fontsize = 15)\n",
        "plt.xlabel(\"Height (m)\", fontsize = 15)\n",
        "plt.ylabel(\"Pressure (hPa) \\n\", fontsize = 15)\n",
        "\n",
        "plt.show()"
      ]
    },
    {
      "cell_type": "markdown",
      "metadata": {},
      "source": [
        "# Credits"
      ]
    },
    {
      "cell_type": "markdown",
      "metadata": {},
      "source": [
        "This material has been made available by [Guillermo Fidalgo](https://github.com/GuillermoFidalgo) for educational purposes.\n",
        "Please feel free to copy and teach with this material, I only ask for appropiate credit."
      ]
    }
  ],
  "metadata": {
    "colab": {
      "collapsed_sections": [],
      "include_colab_link": true,
      "name": "barometer_col_de_la_fausille.ipynb",
      "provenance": []
    },
    "kernelspec": {
      "display_name": "Python 3",
      "language": "python",
      "name": "python3"
    },
    "language_info": {
      "codemirror_mode": {
        "name": "ipython",
        "version": 3
      },
      "file_extension": ".py",
      "mimetype": "text/x-python",
      "name": "python",
      "nbconvert_exporter": "python",
      "pygments_lexer": "ipython3",
      "version": "3.8.2"
    }
  },
  "nbformat": 4,
  "nbformat_minor": 0
}
