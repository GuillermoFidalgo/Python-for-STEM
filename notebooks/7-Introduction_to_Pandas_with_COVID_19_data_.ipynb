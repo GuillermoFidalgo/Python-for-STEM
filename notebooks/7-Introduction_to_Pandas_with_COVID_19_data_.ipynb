{
  "cells": [
    {
      "cell_type": "markdown",
      "metadata": {
        "colab_type": "text",
        "id": "view-in-github"
      },
      "source": [
        "<a href=\"https://colab.research.google.com/github/GuillermoFidalgo/Python-for-STEM-Teachers-Workshop/blob/master/notebooks/7-Introduction_to_Pandas_with_COVID_19_data_.ipynb\" target=\"_parent\"><img src=\"https://colab.research.google.com/assets/colab-badge.svg\" alt=\"Open In Colab\"/></a>"
      ]
    },
    {
      "cell_type": "markdown",
      "metadata": {
        "id": "pUdWu7ILGhNn"
      },
      "source": [
        "# Introduction\n",
        "\n",
        "\n"
      ]
    },
    {
      "cell_type": "markdown",
      "metadata": {
        "id": "lB-jm2JpbbY5"
      },
      "source": [
        "Since the beginning of the pandemic caused by the new coronavirus and that causes the COVID-19 disease, the community in general and especially the scientific community has followed the spread rate throughout the world. The most outstanding data that have been studied are the number of infections and deaths as a function of time, providing information about their evolution and control.\n",
        "In this code we will use the data stored in covidtracking.com where we will focus on the study of the monitoring parameters of the pandemic in Puerto Rico, manipulating and analyzing the data through tables and histograms through the use of Python and its powerful tools.\n",
        "\n",
        "Later we will try to answer questions such as what is the number of cases and deaths up to a certain date, how is its increase over time and if we are stopping or continuing the spread of the virus."
      ]
    },
    {
      "cell_type": "markdown",
      "metadata": {
        "id": "xvaH3XV4PXBj"
      },
      "source": [
        "# Importing Libraries \n",
        "\n"
      ]
    },
    {
      "cell_type": "markdown",
      "metadata": {
        "id": "VvbAd7QxMVEk"
      },
      "source": [
        "This only needs to be run once!!\n",
        "\n",
        "Pandas is a Python library used for data manipulation and analysis of numerical tables and time series. Since we will be working with tabulated data we can take advantage of Pandas' extensive modularity and variety of methods to work with tables.\n",
        "\n"
      ]
    },
    {
      "cell_type": "code",
      "execution_count": 1,
      "metadata": {
        "id": "HGbzUslePXBw"
      },
      "outputs": [],
      "source": [
        "import pandas as pd  # This imports the Pandas Library and gives it a reference name to access pandas and it's methods"
      ]
    },
    {
      "cell_type": "markdown",
      "metadata": {
        "id": "16ijTDSZPXBx"
      },
      "source": [
        "## Loading in Data\n",
        "\n",
        "There are 3 main ways to upload and access data in Google Colab:\n",
        "\n",
        "\n",
        "1.   From Google Drive (mounting the drive)\n",
        "2.   Directly from your computer\n",
        "3.   Store that data somewhere in the internet and specify it's url (**our method**)\n",
        "\n"
      ]
    },
    {
      "cell_type": "markdown",
      "metadata": {
        "id": "4sXhCkR1xAXO"
      },
      "source": [
        "We are loading a csv file with pandemic information caused by new coronavirus\n"
      ]
    },
    {
      "cell_type": "markdown",
      "metadata": {
        "id": "Kt_V96hhPVin"
      },
      "source": [
        "Note that we specify "
      ]
    },
    {
      "cell_type": "markdown",
      "metadata": {
        "id": "hPnJn2yMxit2"
      },
      "source": [
        "### Method 1: Google Drive"
      ]
    },
    {
      "cell_type": "code",
      "execution_count": null,
      "metadata": {
        "id": "zk8BijNZSTA2"
      },
      "outputs": [],
      "source": [
        "# Data in a Google Drive\n",
        "from google.colab import drive\n",
        "drive.mount('/content/drive')\n",
        "data_in_drive=\"/content/drive/MyDrive/UPRM/STEM Workshop/Feb 2021/Data/puerto-rico-history.csv\"\n",
        "\n",
        "\n",
        "df=pd.read_csv(data_in_drive,\n",
        "               index_col=0,\n",
        "               na_values=\"-\") \n",
        "df"
      ]
    },
    {
      "cell_type": "markdown",
      "metadata": {
        "id": "b2iZSDjixr8p"
      },
      "source": [
        "### Method 2: Upload from computer"
      ]
    },
    {
      "cell_type": "code",
      "execution_count": null,
      "metadata": {
        "id": "CLWiYavXSahS"
      },
      "outputs": [],
      "source": [
        "# Or just upload the data from your computer to the Session\n",
        "data = \"puerto-rico-history.csv\"\n",
        "\n",
        "df=pd.read_csv(data) #,index_col=0) # Here we have specified that the first colum is the index column.\n",
        "df"
      ]
    },
    {
      "cell_type": "markdown",
      "metadata": {
        "id": "HdkCxkPryP54"
      },
      "source": [
        "### Method 3: Load from Internet"
      ]
    },
    {
      "cell_type": "markdown",
      "metadata": {
        "id": "IGt0BRhiPN9c"
      },
      "source": [
        "Define where the data is located as a string and store it in a variable. \n",
        "for example: \n",
        "`data='data_location' (using single or double quotes)`\n",
        "\n",
        "\n",
        "**Important** \n",
        "\n",
        "Always look at your data beforehand. Be familiar with the structure and what it contains.\n",
        "\n",
        "Also, in case you want to do this with your students, the easiest way is to have the data stored somewhere on the internet and have a link that your students can access. In our case this would be stored in a file of Github Repository and we will access it from there as follows"
      ]
    },
    {
      "cell_type": "code",
      "execution_count": 2,
      "metadata": {
        "id": "9dxCbyooPXBy"
      },
      "outputs": [],
      "source": [
        "# Our method (From Internet)\n",
        "data_url=\"https://raw.githubusercontent.com/GuillermoFidalgo/Python-for-STEM-Teachers-Workshop/master/data/puerto-rico-history.csv\"\n",
        "\n",
        "\n",
        "#here we load the csv file \n",
        "df=pd.read_csv(data_url,parse_dates=True)\n",
        "\n",
        "# For more information about each argument you could hover your cursor over the function until a window appears\n",
        "# you could also put your cursor INSIDE the function and press Ctrl+Shift+Space\n"
      ]
    },
    {
      "cell_type": "code",
      "execution_count": 3,
      "metadata": {
        "colab": {
          "base_uri": "https://localhost:8080/"
        },
        "id": "VCTBB5AIWVK1",
        "outputId": "6bc2bf51-99c6-4b2d-9cef-a5885333b6a9"
      },
      "outputs": [
        {
          "data": {
            "text/plain": [
              "(315, 42)"
            ]
          },
          "execution_count": 3,
          "metadata": {
            "tags": []
          },
          "output_type": "execute_result"
        }
      ],
      "source": [
        "df.shape #number of rows and columns"
      ]
    },
    {
      "cell_type": "markdown",
      "metadata": {
        "id": "VhPRJuMJPXBy"
      },
      "source": [
        "## Let's look at the first 5 entries of the data"
      ]
    },
    {
      "cell_type": "code",
      "execution_count": 4,
      "metadata": {
        "colab": {
          "base_uri": "https://localhost:8080/",
          "height": 309
        },
        "id": "ABpg-itbPXBy",
        "outputId": "bc2a26e9-b985-442c-ee77-4f69f8ac4444"
      },
      "outputs": [
        {
          "data": {
            "text/html": [
              "<div>\n",
              "<style scoped>\n",
              "    .dataframe tbody tr th:only-of-type {\n",
              "        vertical-align: middle;\n",
              "    }\n",
              "\n",
              "    .dataframe tbody tr th {\n",
              "        vertical-align: top;\n",
              "    }\n",
              "\n",
              "    .dataframe thead th {\n",
              "        text-align: right;\n",
              "    }\n",
              "</style>\n",
              "<table border=\"1\" class=\"dataframe\">\n",
              "  <thead>\n",
              "    <tr style=\"text-align: right;\">\n",
              "      <th></th>\n",
              "      <th>date</th>\n",
              "      <th>state</th>\n",
              "      <th>dataQualityGrade</th>\n",
              "      <th>death</th>\n",
              "      <th>deathConfirmed</th>\n",
              "      <th>deathIncrease</th>\n",
              "      <th>deathProbable</th>\n",
              "      <th>hospitalized</th>\n",
              "      <th>hospitalizedCumulative</th>\n",
              "      <th>hospitalizedCurrently</th>\n",
              "      <th>hospitalizedIncrease</th>\n",
              "      <th>inIcuCumulative</th>\n",
              "      <th>inIcuCurrently</th>\n",
              "      <th>negative</th>\n",
              "      <th>negativeIncrease</th>\n",
              "      <th>negativeTestsAntibody</th>\n",
              "      <th>negativeTestsPeopleAntibody</th>\n",
              "      <th>negativeTestsViral</th>\n",
              "      <th>onVentilatorCumulative</th>\n",
              "      <th>onVentilatorCurrently</th>\n",
              "      <th>positive</th>\n",
              "      <th>positiveCasesViral</th>\n",
              "      <th>positiveIncrease</th>\n",
              "      <th>positiveScore</th>\n",
              "      <th>positiveTestsAntibody</th>\n",
              "      <th>positiveTestsAntigen</th>\n",
              "      <th>positiveTestsPeopleAntibody</th>\n",
              "      <th>positiveTestsPeopleAntigen</th>\n",
              "      <th>positiveTestsViral</th>\n",
              "      <th>recovered</th>\n",
              "      <th>totalTestEncountersViral</th>\n",
              "      <th>totalTestEncountersViralIncrease</th>\n",
              "      <th>totalTestResults</th>\n",
              "      <th>totalTestResultsIncrease</th>\n",
              "      <th>totalTestsAntibody</th>\n",
              "      <th>totalTestsAntigen</th>\n",
              "      <th>totalTestsPeopleAntibody</th>\n",
              "      <th>totalTestsPeopleAntigen</th>\n",
              "      <th>totalTestsPeopleViral</th>\n",
              "      <th>totalTestsPeopleViralIncrease</th>\n",
              "      <th>totalTestsViral</th>\n",
              "      <th>totalTestsViralIncrease</th>\n",
              "    </tr>\n",
              "  </thead>\n",
              "  <tbody>\n",
              "    <tr>\n",
              "      <th>0</th>\n",
              "      <td>2021-01-24</td>\n",
              "      <td>PR</td>\n",
              "      <td>B</td>\n",
              "      <td>1773.0</td>\n",
              "      <td>1485.0</td>\n",
              "      <td>2</td>\n",
              "      <td>288.0</td>\n",
              "      <td>NaN</td>\n",
              "      <td>NaN</td>\n",
              "      <td>310.0</td>\n",
              "      <td>0</td>\n",
              "      <td>NaN</td>\n",
              "      <td>50.0</td>\n",
              "      <td>305972.0</td>\n",
              "      <td>0</td>\n",
              "      <td>NaN</td>\n",
              "      <td>NaN</td>\n",
              "      <td>303412.0</td>\n",
              "      <td>NaN</td>\n",
              "      <td>43.0</td>\n",
              "      <td>91028</td>\n",
              "      <td>84578.0</td>\n",
              "      <td>955</td>\n",
              "      <td>0</td>\n",
              "      <td>65807.0</td>\n",
              "      <td>NaN</td>\n",
              "      <td>NaN</td>\n",
              "      <td>NaN</td>\n",
              "      <td>7002.0</td>\n",
              "      <td>73760.0</td>\n",
              "      <td>NaN</td>\n",
              "      <td>0</td>\n",
              "      <td>397000</td>\n",
              "      <td>955</td>\n",
              "      <td>NaN</td>\n",
              "      <td>NaN</td>\n",
              "      <td>NaN</td>\n",
              "      <td>NaN</td>\n",
              "      <td>NaN</td>\n",
              "      <td>0</td>\n",
              "      <td>310546.0</td>\n",
              "      <td>0</td>\n",
              "    </tr>\n",
              "    <tr>\n",
              "      <th>1</th>\n",
              "      <td>2021-01-23</td>\n",
              "      <td>PR</td>\n",
              "      <td>B</td>\n",
              "      <td>1771.0</td>\n",
              "      <td>1483.0</td>\n",
              "      <td>10</td>\n",
              "      <td>288.0</td>\n",
              "      <td>NaN</td>\n",
              "      <td>NaN</td>\n",
              "      <td>325.0</td>\n",
              "      <td>0</td>\n",
              "      <td>NaN</td>\n",
              "      <td>54.0</td>\n",
              "      <td>305972.0</td>\n",
              "      <td>0</td>\n",
              "      <td>NaN</td>\n",
              "      <td>NaN</td>\n",
              "      <td>303412.0</td>\n",
              "      <td>NaN</td>\n",
              "      <td>46.0</td>\n",
              "      <td>90073</td>\n",
              "      <td>83670.0</td>\n",
              "      <td>791</td>\n",
              "      <td>0</td>\n",
              "      <td>64390.0</td>\n",
              "      <td>NaN</td>\n",
              "      <td>NaN</td>\n",
              "      <td>NaN</td>\n",
              "      <td>7002.0</td>\n",
              "      <td>73760.0</td>\n",
              "      <td>NaN</td>\n",
              "      <td>0</td>\n",
              "      <td>396045</td>\n",
              "      <td>791</td>\n",
              "      <td>NaN</td>\n",
              "      <td>NaN</td>\n",
              "      <td>NaN</td>\n",
              "      <td>NaN</td>\n",
              "      <td>NaN</td>\n",
              "      <td>0</td>\n",
              "      <td>310546.0</td>\n",
              "      <td>0</td>\n",
              "    </tr>\n",
              "    <tr>\n",
              "      <th>2</th>\n",
              "      <td>2021-01-22</td>\n",
              "      <td>PR</td>\n",
              "      <td>B</td>\n",
              "      <td>1761.0</td>\n",
              "      <td>1471.0</td>\n",
              "      <td>29</td>\n",
              "      <td>290.0</td>\n",
              "      <td>NaN</td>\n",
              "      <td>NaN</td>\n",
              "      <td>341.0</td>\n",
              "      <td>0</td>\n",
              "      <td>NaN</td>\n",
              "      <td>56.0</td>\n",
              "      <td>305972.0</td>\n",
              "      <td>0</td>\n",
              "      <td>NaN</td>\n",
              "      <td>NaN</td>\n",
              "      <td>303412.0</td>\n",
              "      <td>NaN</td>\n",
              "      <td>53.0</td>\n",
              "      <td>89282</td>\n",
              "      <td>82990.0</td>\n",
              "      <td>554</td>\n",
              "      <td>0</td>\n",
              "      <td>63594.0</td>\n",
              "      <td>NaN</td>\n",
              "      <td>NaN</td>\n",
              "      <td>NaN</td>\n",
              "      <td>7002.0</td>\n",
              "      <td>73760.0</td>\n",
              "      <td>NaN</td>\n",
              "      <td>0</td>\n",
              "      <td>395254</td>\n",
              "      <td>554</td>\n",
              "      <td>NaN</td>\n",
              "      <td>NaN</td>\n",
              "      <td>NaN</td>\n",
              "      <td>NaN</td>\n",
              "      <td>NaN</td>\n",
              "      <td>0</td>\n",
              "      <td>310546.0</td>\n",
              "      <td>0</td>\n",
              "    </tr>\n",
              "    <tr>\n",
              "      <th>3</th>\n",
              "      <td>2021-01-21</td>\n",
              "      <td>PR</td>\n",
              "      <td>B</td>\n",
              "      <td>1732.0</td>\n",
              "      <td>1447.0</td>\n",
              "      <td>15</td>\n",
              "      <td>285.0</td>\n",
              "      <td>NaN</td>\n",
              "      <td>NaN</td>\n",
              "      <td>344.0</td>\n",
              "      <td>0</td>\n",
              "      <td>NaN</td>\n",
              "      <td>60.0</td>\n",
              "      <td>305972.0</td>\n",
              "      <td>0</td>\n",
              "      <td>NaN</td>\n",
              "      <td>NaN</td>\n",
              "      <td>303412.0</td>\n",
              "      <td>NaN</td>\n",
              "      <td>52.0</td>\n",
              "      <td>88728</td>\n",
              "      <td>82540.0</td>\n",
              "      <td>215</td>\n",
              "      <td>0</td>\n",
              "      <td>63333.0</td>\n",
              "      <td>NaN</td>\n",
              "      <td>NaN</td>\n",
              "      <td>NaN</td>\n",
              "      <td>7002.0</td>\n",
              "      <td>73760.0</td>\n",
              "      <td>NaN</td>\n",
              "      <td>0</td>\n",
              "      <td>394700</td>\n",
              "      <td>215</td>\n",
              "      <td>NaN</td>\n",
              "      <td>NaN</td>\n",
              "      <td>NaN</td>\n",
              "      <td>NaN</td>\n",
              "      <td>NaN</td>\n",
              "      <td>0</td>\n",
              "      <td>310546.0</td>\n",
              "      <td>0</td>\n",
              "    </tr>\n",
              "    <tr>\n",
              "      <th>4</th>\n",
              "      <td>2021-01-20</td>\n",
              "      <td>PR</td>\n",
              "      <td>B</td>\n",
              "      <td>1717.0</td>\n",
              "      <td>1432.0</td>\n",
              "      <td>14</td>\n",
              "      <td>285.0</td>\n",
              "      <td>NaN</td>\n",
              "      <td>NaN</td>\n",
              "      <td>331.0</td>\n",
              "      <td>0</td>\n",
              "      <td>NaN</td>\n",
              "      <td>48.0</td>\n",
              "      <td>305972.0</td>\n",
              "      <td>0</td>\n",
              "      <td>NaN</td>\n",
              "      <td>NaN</td>\n",
              "      <td>303412.0</td>\n",
              "      <td>NaN</td>\n",
              "      <td>52.0</td>\n",
              "      <td>88513</td>\n",
              "      <td>82378.0</td>\n",
              "      <td>140</td>\n",
              "      <td>0</td>\n",
              "      <td>63188.0</td>\n",
              "      <td>NaN</td>\n",
              "      <td>NaN</td>\n",
              "      <td>NaN</td>\n",
              "      <td>7002.0</td>\n",
              "      <td>73760.0</td>\n",
              "      <td>NaN</td>\n",
              "      <td>0</td>\n",
              "      <td>394485</td>\n",
              "      <td>140</td>\n",
              "      <td>NaN</td>\n",
              "      <td>NaN</td>\n",
              "      <td>NaN</td>\n",
              "      <td>NaN</td>\n",
              "      <td>NaN</td>\n",
              "      <td>0</td>\n",
              "      <td>310546.0</td>\n",
              "      <td>0</td>\n",
              "    </tr>\n",
              "  </tbody>\n",
              "</table>\n",
              "</div>"
            ],
            "text/plain": [
              "         date state  ... totalTestsViral  totalTestsViralIncrease\n",
              "0  2021-01-24    PR  ...        310546.0                        0\n",
              "1  2021-01-23    PR  ...        310546.0                        0\n",
              "2  2021-01-22    PR  ...        310546.0                        0\n",
              "3  2021-01-21    PR  ...        310546.0                        0\n",
              "4  2021-01-20    PR  ...        310546.0                        0\n",
              "\n",
              "[5 rows x 42 columns]"
            ]
          },
          "execution_count": 4,
          "metadata": {
            "tags": []
          },
          "output_type": "execute_result"
        }
      ],
      "source": [
        "df.head(5)"
      ]
    },
    {
      "cell_type": "markdown",
      "metadata": {
        "id": "sJaCxL1tPXB2"
      },
      "source": [
        "Now that we have the appropiate format we can choose the columns we want to look at and we can also filter the incomplete entries by using the `dropna()` method "
      ]
    },
    {
      "cell_type": "code",
      "execution_count": 5,
      "metadata": {
        "colab": {
          "base_uri": "https://localhost:8080/",
          "height": 609
        },
        "id": "M5H2jrLzBL6O",
        "outputId": "32d45218-0489-4dcd-ed73-d4987d63f047"
      },
      "outputs": [
        {
          "data": {
            "text/html": [
              "<div>\n",
              "<style scoped>\n",
              "    .dataframe tbody tr th:only-of-type {\n",
              "        vertical-align: middle;\n",
              "    }\n",
              "\n",
              "    .dataframe tbody tr th {\n",
              "        vertical-align: top;\n",
              "    }\n",
              "\n",
              "    .dataframe thead th {\n",
              "        text-align: right;\n",
              "    }\n",
              "</style>\n",
              "<table border=\"1\" class=\"dataframe\">\n",
              "  <thead>\n",
              "    <tr style=\"text-align: right;\">\n",
              "      <th></th>\n",
              "      <th>date</th>\n",
              "      <th>state</th>\n",
              "      <th>dataQualityGrade</th>\n",
              "      <th>death</th>\n",
              "      <th>deathConfirmed</th>\n",
              "      <th>deathIncrease</th>\n",
              "      <th>deathProbable</th>\n",
              "      <th>hospitalizedCurrently</th>\n",
              "      <th>hospitalizedIncrease</th>\n",
              "      <th>inIcuCurrently</th>\n",
              "      <th>negative</th>\n",
              "      <th>negativeIncrease</th>\n",
              "      <th>negativeTestsViral</th>\n",
              "      <th>onVentilatorCurrently</th>\n",
              "      <th>positive</th>\n",
              "      <th>positiveCasesViral</th>\n",
              "      <th>positiveIncrease</th>\n",
              "      <th>positiveScore</th>\n",
              "      <th>positiveTestsAntibody</th>\n",
              "      <th>positiveTestsViral</th>\n",
              "      <th>recovered</th>\n",
              "      <th>totalTestEncountersViralIncrease</th>\n",
              "      <th>totalTestResults</th>\n",
              "      <th>totalTestResultsIncrease</th>\n",
              "      <th>totalTestsPeopleViralIncrease</th>\n",
              "      <th>totalTestsViral</th>\n",
              "      <th>totalTestsViralIncrease</th>\n",
              "    </tr>\n",
              "  </thead>\n",
              "  <tbody>\n",
              "    <tr>\n",
              "      <th>0</th>\n",
              "      <td>2021-01-24</td>\n",
              "      <td>PR</td>\n",
              "      <td>B</td>\n",
              "      <td>1773.0</td>\n",
              "      <td>1485.0</td>\n",
              "      <td>2</td>\n",
              "      <td>288.0</td>\n",
              "      <td>310.0</td>\n",
              "      <td>0</td>\n",
              "      <td>50.0</td>\n",
              "      <td>305972.0</td>\n",
              "      <td>0</td>\n",
              "      <td>303412.0</td>\n",
              "      <td>43.0</td>\n",
              "      <td>91028</td>\n",
              "      <td>84578.0</td>\n",
              "      <td>955</td>\n",
              "      <td>0</td>\n",
              "      <td>65807.0</td>\n",
              "      <td>7002.0</td>\n",
              "      <td>73760.0</td>\n",
              "      <td>0</td>\n",
              "      <td>397000</td>\n",
              "      <td>955</td>\n",
              "      <td>0</td>\n",
              "      <td>310546.0</td>\n",
              "      <td>0</td>\n",
              "    </tr>\n",
              "    <tr>\n",
              "      <th>1</th>\n",
              "      <td>2021-01-23</td>\n",
              "      <td>PR</td>\n",
              "      <td>B</td>\n",
              "      <td>1771.0</td>\n",
              "      <td>1483.0</td>\n",
              "      <td>10</td>\n",
              "      <td>288.0</td>\n",
              "      <td>325.0</td>\n",
              "      <td>0</td>\n",
              "      <td>54.0</td>\n",
              "      <td>305972.0</td>\n",
              "      <td>0</td>\n",
              "      <td>303412.0</td>\n",
              "      <td>46.0</td>\n",
              "      <td>90073</td>\n",
              "      <td>83670.0</td>\n",
              "      <td>791</td>\n",
              "      <td>0</td>\n",
              "      <td>64390.0</td>\n",
              "      <td>7002.0</td>\n",
              "      <td>73760.0</td>\n",
              "      <td>0</td>\n",
              "      <td>396045</td>\n",
              "      <td>791</td>\n",
              "      <td>0</td>\n",
              "      <td>310546.0</td>\n",
              "      <td>0</td>\n",
              "    </tr>\n",
              "    <tr>\n",
              "      <th>2</th>\n",
              "      <td>2021-01-22</td>\n",
              "      <td>PR</td>\n",
              "      <td>B</td>\n",
              "      <td>1761.0</td>\n",
              "      <td>1471.0</td>\n",
              "      <td>29</td>\n",
              "      <td>290.0</td>\n",
              "      <td>341.0</td>\n",
              "      <td>0</td>\n",
              "      <td>56.0</td>\n",
              "      <td>305972.0</td>\n",
              "      <td>0</td>\n",
              "      <td>303412.0</td>\n",
              "      <td>53.0</td>\n",
              "      <td>89282</td>\n",
              "      <td>82990.0</td>\n",
              "      <td>554</td>\n",
              "      <td>0</td>\n",
              "      <td>63594.0</td>\n",
              "      <td>7002.0</td>\n",
              "      <td>73760.0</td>\n",
              "      <td>0</td>\n",
              "      <td>395254</td>\n",
              "      <td>554</td>\n",
              "      <td>0</td>\n",
              "      <td>310546.0</td>\n",
              "      <td>0</td>\n",
              "    </tr>\n",
              "    <tr>\n",
              "      <th>3</th>\n",
              "      <td>2021-01-21</td>\n",
              "      <td>PR</td>\n",
              "      <td>B</td>\n",
              "      <td>1732.0</td>\n",
              "      <td>1447.0</td>\n",
              "      <td>15</td>\n",
              "      <td>285.0</td>\n",
              "      <td>344.0</td>\n",
              "      <td>0</td>\n",
              "      <td>60.0</td>\n",
              "      <td>305972.0</td>\n",
              "      <td>0</td>\n",
              "      <td>303412.0</td>\n",
              "      <td>52.0</td>\n",
              "      <td>88728</td>\n",
              "      <td>82540.0</td>\n",
              "      <td>215</td>\n",
              "      <td>0</td>\n",
              "      <td>63333.0</td>\n",
              "      <td>7002.0</td>\n",
              "      <td>73760.0</td>\n",
              "      <td>0</td>\n",
              "      <td>394700</td>\n",
              "      <td>215</td>\n",
              "      <td>0</td>\n",
              "      <td>310546.0</td>\n",
              "      <td>0</td>\n",
              "    </tr>\n",
              "    <tr>\n",
              "      <th>4</th>\n",
              "      <td>2021-01-20</td>\n",
              "      <td>PR</td>\n",
              "      <td>B</td>\n",
              "      <td>1717.0</td>\n",
              "      <td>1432.0</td>\n",
              "      <td>14</td>\n",
              "      <td>285.0</td>\n",
              "      <td>331.0</td>\n",
              "      <td>0</td>\n",
              "      <td>48.0</td>\n",
              "      <td>305972.0</td>\n",
              "      <td>0</td>\n",
              "      <td>303412.0</td>\n",
              "      <td>52.0</td>\n",
              "      <td>88513</td>\n",
              "      <td>82378.0</td>\n",
              "      <td>140</td>\n",
              "      <td>0</td>\n",
              "      <td>63188.0</td>\n",
              "      <td>7002.0</td>\n",
              "      <td>73760.0</td>\n",
              "      <td>0</td>\n",
              "      <td>394485</td>\n",
              "      <td>140</td>\n",
              "      <td>0</td>\n",
              "      <td>310546.0</td>\n",
              "      <td>0</td>\n",
              "    </tr>\n",
              "    <tr>\n",
              "      <th>...</th>\n",
              "      <td>...</td>\n",
              "      <td>...</td>\n",
              "      <td>...</td>\n",
              "      <td>...</td>\n",
              "      <td>...</td>\n",
              "      <td>...</td>\n",
              "      <td>...</td>\n",
              "      <td>...</td>\n",
              "      <td>...</td>\n",
              "      <td>...</td>\n",
              "      <td>...</td>\n",
              "      <td>...</td>\n",
              "      <td>...</td>\n",
              "      <td>...</td>\n",
              "      <td>...</td>\n",
              "      <td>...</td>\n",
              "      <td>...</td>\n",
              "      <td>...</td>\n",
              "      <td>...</td>\n",
              "      <td>...</td>\n",
              "      <td>...</td>\n",
              "      <td>...</td>\n",
              "      <td>...</td>\n",
              "      <td>...</td>\n",
              "      <td>...</td>\n",
              "      <td>...</td>\n",
              "      <td>...</td>\n",
              "    </tr>\n",
              "    <tr>\n",
              "      <th>310</th>\n",
              "      <td>2020-03-20</td>\n",
              "      <td>PR</td>\n",
              "      <td>NaN</td>\n",
              "      <td>NaN</td>\n",
              "      <td>NaN</td>\n",
              "      <td>0</td>\n",
              "      <td>NaN</td>\n",
              "      <td>NaN</td>\n",
              "      <td>0</td>\n",
              "      <td>NaN</td>\n",
              "      <td>114.0</td>\n",
              "      <td>58</td>\n",
              "      <td>NaN</td>\n",
              "      <td>NaN</td>\n",
              "      <td>14</td>\n",
              "      <td>NaN</td>\n",
              "      <td>9</td>\n",
              "      <td>0</td>\n",
              "      <td>NaN</td>\n",
              "      <td>NaN</td>\n",
              "      <td>NaN</td>\n",
              "      <td>0</td>\n",
              "      <td>128</td>\n",
              "      <td>67</td>\n",
              "      <td>0</td>\n",
              "      <td>NaN</td>\n",
              "      <td>0</td>\n",
              "    </tr>\n",
              "    <tr>\n",
              "      <th>311</th>\n",
              "      <td>2020-03-19</td>\n",
              "      <td>PR</td>\n",
              "      <td>NaN</td>\n",
              "      <td>NaN</td>\n",
              "      <td>NaN</td>\n",
              "      <td>0</td>\n",
              "      <td>NaN</td>\n",
              "      <td>NaN</td>\n",
              "      <td>0</td>\n",
              "      <td>NaN</td>\n",
              "      <td>56.0</td>\n",
              "      <td>25</td>\n",
              "      <td>NaN</td>\n",
              "      <td>NaN</td>\n",
              "      <td>5</td>\n",
              "      <td>NaN</td>\n",
              "      <td>0</td>\n",
              "      <td>0</td>\n",
              "      <td>NaN</td>\n",
              "      <td>NaN</td>\n",
              "      <td>NaN</td>\n",
              "      <td>0</td>\n",
              "      <td>61</td>\n",
              "      <td>25</td>\n",
              "      <td>0</td>\n",
              "      <td>NaN</td>\n",
              "      <td>0</td>\n",
              "    </tr>\n",
              "    <tr>\n",
              "      <th>312</th>\n",
              "      <td>2020-03-18</td>\n",
              "      <td>PR</td>\n",
              "      <td>NaN</td>\n",
              "      <td>NaN</td>\n",
              "      <td>NaN</td>\n",
              "      <td>0</td>\n",
              "      <td>NaN</td>\n",
              "      <td>NaN</td>\n",
              "      <td>0</td>\n",
              "      <td>NaN</td>\n",
              "      <td>31.0</td>\n",
              "      <td>18</td>\n",
              "      <td>NaN</td>\n",
              "      <td>NaN</td>\n",
              "      <td>5</td>\n",
              "      <td>NaN</td>\n",
              "      <td>0</td>\n",
              "      <td>0</td>\n",
              "      <td>NaN</td>\n",
              "      <td>NaN</td>\n",
              "      <td>NaN</td>\n",
              "      <td>0</td>\n",
              "      <td>36</td>\n",
              "      <td>18</td>\n",
              "      <td>0</td>\n",
              "      <td>NaN</td>\n",
              "      <td>0</td>\n",
              "    </tr>\n",
              "    <tr>\n",
              "      <th>313</th>\n",
              "      <td>2020-03-17</td>\n",
              "      <td>PR</td>\n",
              "      <td>NaN</td>\n",
              "      <td>NaN</td>\n",
              "      <td>NaN</td>\n",
              "      <td>0</td>\n",
              "      <td>NaN</td>\n",
              "      <td>NaN</td>\n",
              "      <td>0</td>\n",
              "      <td>NaN</td>\n",
              "      <td>13.0</td>\n",
              "      <td>4</td>\n",
              "      <td>NaN</td>\n",
              "      <td>NaN</td>\n",
              "      <td>5</td>\n",
              "      <td>NaN</td>\n",
              "      <td>0</td>\n",
              "      <td>0</td>\n",
              "      <td>NaN</td>\n",
              "      <td>NaN</td>\n",
              "      <td>NaN</td>\n",
              "      <td>0</td>\n",
              "      <td>18</td>\n",
              "      <td>4</td>\n",
              "      <td>0</td>\n",
              "      <td>NaN</td>\n",
              "      <td>0</td>\n",
              "    </tr>\n",
              "    <tr>\n",
              "      <th>314</th>\n",
              "      <td>2020-03-16</td>\n",
              "      <td>PR</td>\n",
              "      <td>NaN</td>\n",
              "      <td>NaN</td>\n",
              "      <td>NaN</td>\n",
              "      <td>0</td>\n",
              "      <td>NaN</td>\n",
              "      <td>NaN</td>\n",
              "      <td>0</td>\n",
              "      <td>NaN</td>\n",
              "      <td>9.0</td>\n",
              "      <td>0</td>\n",
              "      <td>NaN</td>\n",
              "      <td>NaN</td>\n",
              "      <td>5</td>\n",
              "      <td>NaN</td>\n",
              "      <td>0</td>\n",
              "      <td>0</td>\n",
              "      <td>NaN</td>\n",
              "      <td>NaN</td>\n",
              "      <td>NaN</td>\n",
              "      <td>0</td>\n",
              "      <td>14</td>\n",
              "      <td>0</td>\n",
              "      <td>0</td>\n",
              "      <td>NaN</td>\n",
              "      <td>0</td>\n",
              "    </tr>\n",
              "  </tbody>\n",
              "</table>\n",
              "<p>315 rows × 27 columns</p>\n",
              "</div>"
            ],
            "text/plain": [
              "           date state  ... totalTestsViral  totalTestsViralIncrease\n",
              "0    2021-01-24    PR  ...        310546.0                        0\n",
              "1    2021-01-23    PR  ...        310546.0                        0\n",
              "2    2021-01-22    PR  ...        310546.0                        0\n",
              "3    2021-01-21    PR  ...        310546.0                        0\n",
              "4    2021-01-20    PR  ...        310546.0                        0\n",
              "..          ...   ...  ...             ...                      ...\n",
              "310  2020-03-20    PR  ...             NaN                        0\n",
              "311  2020-03-19    PR  ...             NaN                        0\n",
              "312  2020-03-18    PR  ...             NaN                        0\n",
              "313  2020-03-17    PR  ...             NaN                        0\n",
              "314  2020-03-16    PR  ...             NaN                        0\n",
              "\n",
              "[315 rows x 27 columns]"
            ]
          },
          "execution_count": 5,
          "metadata": {
            "tags": []
          },
          "output_type": "execute_result"
        }
      ],
      "source": [
        "df=df.dropna(axis=1,how='all')\n",
        "df\n"
      ]
    },
    {
      "cell_type": "markdown",
      "metadata": {
        "id": "6pN5J0q-R-ML"
      },
      "source": [
        "As one can see the Covid-19 Data is somethig that progresses with time, so we would like to have the data be indexed by the `date` column. We do this as follows with the `set_index()` method."
      ]
    },
    {
      "cell_type": "code",
      "execution_count": 6,
      "metadata": {
        "colab": {
          "base_uri": "https://localhost:8080/",
          "height": 640
        },
        "id": "TkbeaNhHSsQo",
        "outputId": "03bc71e4-5c68-4956-f6f0-4a330871d718"
      },
      "outputs": [
        {
          "data": {
            "text/html": [
              "<div>\n",
              "<style scoped>\n",
              "    .dataframe tbody tr th:only-of-type {\n",
              "        vertical-align: middle;\n",
              "    }\n",
              "\n",
              "    .dataframe tbody tr th {\n",
              "        vertical-align: top;\n",
              "    }\n",
              "\n",
              "    .dataframe thead th {\n",
              "        text-align: right;\n",
              "    }\n",
              "</style>\n",
              "<table border=\"1\" class=\"dataframe\">\n",
              "  <thead>\n",
              "    <tr style=\"text-align: right;\">\n",
              "      <th></th>\n",
              "      <th>state</th>\n",
              "      <th>dataQualityGrade</th>\n",
              "      <th>death</th>\n",
              "      <th>deathConfirmed</th>\n",
              "      <th>deathIncrease</th>\n",
              "      <th>deathProbable</th>\n",
              "      <th>hospitalizedCurrently</th>\n",
              "      <th>hospitalizedIncrease</th>\n",
              "      <th>inIcuCurrently</th>\n",
              "      <th>negative</th>\n",
              "      <th>negativeIncrease</th>\n",
              "      <th>negativeTestsViral</th>\n",
              "      <th>onVentilatorCurrently</th>\n",
              "      <th>positive</th>\n",
              "      <th>positiveCasesViral</th>\n",
              "      <th>positiveIncrease</th>\n",
              "      <th>positiveScore</th>\n",
              "      <th>positiveTestsAntibody</th>\n",
              "      <th>positiveTestsViral</th>\n",
              "      <th>recovered</th>\n",
              "      <th>totalTestEncountersViralIncrease</th>\n",
              "      <th>totalTestResults</th>\n",
              "      <th>totalTestResultsIncrease</th>\n",
              "      <th>totalTestsPeopleViralIncrease</th>\n",
              "      <th>totalTestsViral</th>\n",
              "      <th>totalTestsViralIncrease</th>\n",
              "    </tr>\n",
              "    <tr>\n",
              "      <th>date</th>\n",
              "      <th></th>\n",
              "      <th></th>\n",
              "      <th></th>\n",
              "      <th></th>\n",
              "      <th></th>\n",
              "      <th></th>\n",
              "      <th></th>\n",
              "      <th></th>\n",
              "      <th></th>\n",
              "      <th></th>\n",
              "      <th></th>\n",
              "      <th></th>\n",
              "      <th></th>\n",
              "      <th></th>\n",
              "      <th></th>\n",
              "      <th></th>\n",
              "      <th></th>\n",
              "      <th></th>\n",
              "      <th></th>\n",
              "      <th></th>\n",
              "      <th></th>\n",
              "      <th></th>\n",
              "      <th></th>\n",
              "      <th></th>\n",
              "      <th></th>\n",
              "      <th></th>\n",
              "    </tr>\n",
              "  </thead>\n",
              "  <tbody>\n",
              "    <tr>\n",
              "      <th>2021-01-24</th>\n",
              "      <td>PR</td>\n",
              "      <td>B</td>\n",
              "      <td>1773.0</td>\n",
              "      <td>1485.0</td>\n",
              "      <td>2</td>\n",
              "      <td>288.0</td>\n",
              "      <td>310.0</td>\n",
              "      <td>0</td>\n",
              "      <td>50.0</td>\n",
              "      <td>305972.0</td>\n",
              "      <td>0</td>\n",
              "      <td>303412.0</td>\n",
              "      <td>43.0</td>\n",
              "      <td>91028</td>\n",
              "      <td>84578.0</td>\n",
              "      <td>955</td>\n",
              "      <td>0</td>\n",
              "      <td>65807.0</td>\n",
              "      <td>7002.0</td>\n",
              "      <td>73760.0</td>\n",
              "      <td>0</td>\n",
              "      <td>397000</td>\n",
              "      <td>955</td>\n",
              "      <td>0</td>\n",
              "      <td>310546.0</td>\n",
              "      <td>0</td>\n",
              "    </tr>\n",
              "    <tr>\n",
              "      <th>2021-01-23</th>\n",
              "      <td>PR</td>\n",
              "      <td>B</td>\n",
              "      <td>1771.0</td>\n",
              "      <td>1483.0</td>\n",
              "      <td>10</td>\n",
              "      <td>288.0</td>\n",
              "      <td>325.0</td>\n",
              "      <td>0</td>\n",
              "      <td>54.0</td>\n",
              "      <td>305972.0</td>\n",
              "      <td>0</td>\n",
              "      <td>303412.0</td>\n",
              "      <td>46.0</td>\n",
              "      <td>90073</td>\n",
              "      <td>83670.0</td>\n",
              "      <td>791</td>\n",
              "      <td>0</td>\n",
              "      <td>64390.0</td>\n",
              "      <td>7002.0</td>\n",
              "      <td>73760.0</td>\n",
              "      <td>0</td>\n",
              "      <td>396045</td>\n",
              "      <td>791</td>\n",
              "      <td>0</td>\n",
              "      <td>310546.0</td>\n",
              "      <td>0</td>\n",
              "    </tr>\n",
              "    <tr>\n",
              "      <th>2021-01-22</th>\n",
              "      <td>PR</td>\n",
              "      <td>B</td>\n",
              "      <td>1761.0</td>\n",
              "      <td>1471.0</td>\n",
              "      <td>29</td>\n",
              "      <td>290.0</td>\n",
              "      <td>341.0</td>\n",
              "      <td>0</td>\n",
              "      <td>56.0</td>\n",
              "      <td>305972.0</td>\n",
              "      <td>0</td>\n",
              "      <td>303412.0</td>\n",
              "      <td>53.0</td>\n",
              "      <td>89282</td>\n",
              "      <td>82990.0</td>\n",
              "      <td>554</td>\n",
              "      <td>0</td>\n",
              "      <td>63594.0</td>\n",
              "      <td>7002.0</td>\n",
              "      <td>73760.0</td>\n",
              "      <td>0</td>\n",
              "      <td>395254</td>\n",
              "      <td>554</td>\n",
              "      <td>0</td>\n",
              "      <td>310546.0</td>\n",
              "      <td>0</td>\n",
              "    </tr>\n",
              "    <tr>\n",
              "      <th>2021-01-21</th>\n",
              "      <td>PR</td>\n",
              "      <td>B</td>\n",
              "      <td>1732.0</td>\n",
              "      <td>1447.0</td>\n",
              "      <td>15</td>\n",
              "      <td>285.0</td>\n",
              "      <td>344.0</td>\n",
              "      <td>0</td>\n",
              "      <td>60.0</td>\n",
              "      <td>305972.0</td>\n",
              "      <td>0</td>\n",
              "      <td>303412.0</td>\n",
              "      <td>52.0</td>\n",
              "      <td>88728</td>\n",
              "      <td>82540.0</td>\n",
              "      <td>215</td>\n",
              "      <td>0</td>\n",
              "      <td>63333.0</td>\n",
              "      <td>7002.0</td>\n",
              "      <td>73760.0</td>\n",
              "      <td>0</td>\n",
              "      <td>394700</td>\n",
              "      <td>215</td>\n",
              "      <td>0</td>\n",
              "      <td>310546.0</td>\n",
              "      <td>0</td>\n",
              "    </tr>\n",
              "    <tr>\n",
              "      <th>2021-01-20</th>\n",
              "      <td>PR</td>\n",
              "      <td>B</td>\n",
              "      <td>1717.0</td>\n",
              "      <td>1432.0</td>\n",
              "      <td>14</td>\n",
              "      <td>285.0</td>\n",
              "      <td>331.0</td>\n",
              "      <td>0</td>\n",
              "      <td>48.0</td>\n",
              "      <td>305972.0</td>\n",
              "      <td>0</td>\n",
              "      <td>303412.0</td>\n",
              "      <td>52.0</td>\n",
              "      <td>88513</td>\n",
              "      <td>82378.0</td>\n",
              "      <td>140</td>\n",
              "      <td>0</td>\n",
              "      <td>63188.0</td>\n",
              "      <td>7002.0</td>\n",
              "      <td>73760.0</td>\n",
              "      <td>0</td>\n",
              "      <td>394485</td>\n",
              "      <td>140</td>\n",
              "      <td>0</td>\n",
              "      <td>310546.0</td>\n",
              "      <td>0</td>\n",
              "    </tr>\n",
              "    <tr>\n",
              "      <th>...</th>\n",
              "      <td>...</td>\n",
              "      <td>...</td>\n",
              "      <td>...</td>\n",
              "      <td>...</td>\n",
              "      <td>...</td>\n",
              "      <td>...</td>\n",
              "      <td>...</td>\n",
              "      <td>...</td>\n",
              "      <td>...</td>\n",
              "      <td>...</td>\n",
              "      <td>...</td>\n",
              "      <td>...</td>\n",
              "      <td>...</td>\n",
              "      <td>...</td>\n",
              "      <td>...</td>\n",
              "      <td>...</td>\n",
              "      <td>...</td>\n",
              "      <td>...</td>\n",
              "      <td>...</td>\n",
              "      <td>...</td>\n",
              "      <td>...</td>\n",
              "      <td>...</td>\n",
              "      <td>...</td>\n",
              "      <td>...</td>\n",
              "      <td>...</td>\n",
              "      <td>...</td>\n",
              "    </tr>\n",
              "    <tr>\n",
              "      <th>2020-03-20</th>\n",
              "      <td>PR</td>\n",
              "      <td>NaN</td>\n",
              "      <td>NaN</td>\n",
              "      <td>NaN</td>\n",
              "      <td>0</td>\n",
              "      <td>NaN</td>\n",
              "      <td>NaN</td>\n",
              "      <td>0</td>\n",
              "      <td>NaN</td>\n",
              "      <td>114.0</td>\n",
              "      <td>58</td>\n",
              "      <td>NaN</td>\n",
              "      <td>NaN</td>\n",
              "      <td>14</td>\n",
              "      <td>NaN</td>\n",
              "      <td>9</td>\n",
              "      <td>0</td>\n",
              "      <td>NaN</td>\n",
              "      <td>NaN</td>\n",
              "      <td>NaN</td>\n",
              "      <td>0</td>\n",
              "      <td>128</td>\n",
              "      <td>67</td>\n",
              "      <td>0</td>\n",
              "      <td>NaN</td>\n",
              "      <td>0</td>\n",
              "    </tr>\n",
              "    <tr>\n",
              "      <th>2020-03-19</th>\n",
              "      <td>PR</td>\n",
              "      <td>NaN</td>\n",
              "      <td>NaN</td>\n",
              "      <td>NaN</td>\n",
              "      <td>0</td>\n",
              "      <td>NaN</td>\n",
              "      <td>NaN</td>\n",
              "      <td>0</td>\n",
              "      <td>NaN</td>\n",
              "      <td>56.0</td>\n",
              "      <td>25</td>\n",
              "      <td>NaN</td>\n",
              "      <td>NaN</td>\n",
              "      <td>5</td>\n",
              "      <td>NaN</td>\n",
              "      <td>0</td>\n",
              "      <td>0</td>\n",
              "      <td>NaN</td>\n",
              "      <td>NaN</td>\n",
              "      <td>NaN</td>\n",
              "      <td>0</td>\n",
              "      <td>61</td>\n",
              "      <td>25</td>\n",
              "      <td>0</td>\n",
              "      <td>NaN</td>\n",
              "      <td>0</td>\n",
              "    </tr>\n",
              "    <tr>\n",
              "      <th>2020-03-18</th>\n",
              "      <td>PR</td>\n",
              "      <td>NaN</td>\n",
              "      <td>NaN</td>\n",
              "      <td>NaN</td>\n",
              "      <td>0</td>\n",
              "      <td>NaN</td>\n",
              "      <td>NaN</td>\n",
              "      <td>0</td>\n",
              "      <td>NaN</td>\n",
              "      <td>31.0</td>\n",
              "      <td>18</td>\n",
              "      <td>NaN</td>\n",
              "      <td>NaN</td>\n",
              "      <td>5</td>\n",
              "      <td>NaN</td>\n",
              "      <td>0</td>\n",
              "      <td>0</td>\n",
              "      <td>NaN</td>\n",
              "      <td>NaN</td>\n",
              "      <td>NaN</td>\n",
              "      <td>0</td>\n",
              "      <td>36</td>\n",
              "      <td>18</td>\n",
              "      <td>0</td>\n",
              "      <td>NaN</td>\n",
              "      <td>0</td>\n",
              "    </tr>\n",
              "    <tr>\n",
              "      <th>2020-03-17</th>\n",
              "      <td>PR</td>\n",
              "      <td>NaN</td>\n",
              "      <td>NaN</td>\n",
              "      <td>NaN</td>\n",
              "      <td>0</td>\n",
              "      <td>NaN</td>\n",
              "      <td>NaN</td>\n",
              "      <td>0</td>\n",
              "      <td>NaN</td>\n",
              "      <td>13.0</td>\n",
              "      <td>4</td>\n",
              "      <td>NaN</td>\n",
              "      <td>NaN</td>\n",
              "      <td>5</td>\n",
              "      <td>NaN</td>\n",
              "      <td>0</td>\n",
              "      <td>0</td>\n",
              "      <td>NaN</td>\n",
              "      <td>NaN</td>\n",
              "      <td>NaN</td>\n",
              "      <td>0</td>\n",
              "      <td>18</td>\n",
              "      <td>4</td>\n",
              "      <td>0</td>\n",
              "      <td>NaN</td>\n",
              "      <td>0</td>\n",
              "    </tr>\n",
              "    <tr>\n",
              "      <th>2020-03-16</th>\n",
              "      <td>PR</td>\n",
              "      <td>NaN</td>\n",
              "      <td>NaN</td>\n",
              "      <td>NaN</td>\n",
              "      <td>0</td>\n",
              "      <td>NaN</td>\n",
              "      <td>NaN</td>\n",
              "      <td>0</td>\n",
              "      <td>NaN</td>\n",
              "      <td>9.0</td>\n",
              "      <td>0</td>\n",
              "      <td>NaN</td>\n",
              "      <td>NaN</td>\n",
              "      <td>5</td>\n",
              "      <td>NaN</td>\n",
              "      <td>0</td>\n",
              "      <td>0</td>\n",
              "      <td>NaN</td>\n",
              "      <td>NaN</td>\n",
              "      <td>NaN</td>\n",
              "      <td>0</td>\n",
              "      <td>14</td>\n",
              "      <td>0</td>\n",
              "      <td>0</td>\n",
              "      <td>NaN</td>\n",
              "      <td>0</td>\n",
              "    </tr>\n",
              "  </tbody>\n",
              "</table>\n",
              "<p>315 rows × 26 columns</p>\n",
              "</div>"
            ],
            "text/plain": [
              "           state dataQualityGrade  ...  totalTestsViral  totalTestsViralIncrease\n",
              "date                               ...                                          \n",
              "2021-01-24    PR                B  ...         310546.0                        0\n",
              "2021-01-23    PR                B  ...         310546.0                        0\n",
              "2021-01-22    PR                B  ...         310546.0                        0\n",
              "2021-01-21    PR                B  ...         310546.0                        0\n",
              "2021-01-20    PR                B  ...         310546.0                        0\n",
              "...          ...              ...  ...              ...                      ...\n",
              "2020-03-20    PR              NaN  ...              NaN                        0\n",
              "2020-03-19    PR              NaN  ...              NaN                        0\n",
              "2020-03-18    PR              NaN  ...              NaN                        0\n",
              "2020-03-17    PR              NaN  ...              NaN                        0\n",
              "2020-03-16    PR              NaN  ...              NaN                        0\n",
              "\n",
              "[315 rows x 26 columns]"
            ]
          },
          "execution_count": 6,
          "metadata": {
            "tags": []
          },
          "output_type": "execute_result"
        }
      ],
      "source": [
        "df=df.set_index(\"date\")\n",
        "df"
      ]
    },
    {
      "cell_type": "markdown",
      "metadata": {
        "id": "eltgFLp_PXB0"
      },
      "source": [
        "We can filter out some columns. Let's see what we are interested in.."
      ]
    },
    {
      "cell_type": "code",
      "execution_count": 7,
      "metadata": {
        "colab": {
          "base_uri": "https://localhost:8080/"
        },
        "id": "i66zhKKTPXB1",
        "outputId": "551f12e9-6150-4f7f-a4d5-a61dbf894cb7"
      },
      "outputs": [
        {
          "data": {
            "text/plain": [
              "Index(['state', 'dataQualityGrade', 'death', 'deathConfirmed', 'deathIncrease',\n",
              "       'deathProbable', 'hospitalizedCurrently', 'hospitalizedIncrease',\n",
              "       'inIcuCurrently', 'negative', 'negativeIncrease', 'negativeTestsViral',\n",
              "       'onVentilatorCurrently', 'positive', 'positiveCasesViral',\n",
              "       'positiveIncrease', 'positiveScore', 'positiveTestsAntibody',\n",
              "       'positiveTestsViral', 'recovered', 'totalTestEncountersViralIncrease',\n",
              "       'totalTestResults', 'totalTestResultsIncrease',\n",
              "       'totalTestsPeopleViralIncrease', 'totalTestsViral',\n",
              "       'totalTestsViralIncrease'],\n",
              "      dtype='object')"
            ]
          },
          "execution_count": 7,
          "metadata": {
            "tags": []
          },
          "output_type": "execute_result"
        }
      ],
      "source": [
        "# This gives us the names of the colums available\n",
        "df.columns"
      ]
    },
    {
      "cell_type": "markdown",
      "metadata": {
        "id": "rita0AJtQDN7"
      },
      "source": [
        "This is the way to select specific columns of interest"
      ]
    },
    {
      "cell_type": "code",
      "execution_count": 8,
      "metadata": {
        "id": "4fkLBrc-Z5HC"
      },
      "outputs": [],
      "source": [
        "relevant=df[['death','deathIncrease','positive', 'positiveIncrease','totalTestResults',\n",
        "       'totalTestResultsIncrease']]"
      ]
    },
    {
      "cell_type": "markdown",
      "metadata": {
        "id": "MsmEIkExzRL-"
      },
      "source": [
        " We want so know some info about the data"
      ]
    },
    {
      "cell_type": "code",
      "execution_count": 9,
      "metadata": {
        "colab": {
          "base_uri": "https://localhost:8080/"
        },
        "id": "roSWqaqKzMaf",
        "outputId": "40d2bcc9-a555-4f7a-a23f-07f399e2931d"
      },
      "outputs": [
        {
          "name": "stdout",
          "output_type": "stream",
          "text": [
            "<class 'pandas.core.frame.DataFrame'>\n",
            "Index: 315 entries, 2021-01-24 to 2020-03-16\n",
            "Data columns (total 6 columns):\n",
            " #   Column                    Non-Null Count  Dtype  \n",
            "---  ------                    --------------  -----  \n",
            " 0   death                     309 non-null    float64\n",
            " 1   deathIncrease             315 non-null    int64  \n",
            " 2   positive                  315 non-null    int64  \n",
            " 3   positiveIncrease          315 non-null    int64  \n",
            " 4   totalTestResults          315 non-null    int64  \n",
            " 5   totalTestResultsIncrease  315 non-null    int64  \n",
            "dtypes: float64(1), int64(5)\n",
            "memory usage: 17.2+ KB\n"
          ]
        }
      ],
      "source": [
        "relevant.info()"
      ]
    },
    {
      "cell_type": "code",
      "execution_count": 10,
      "metadata": {
        "colab": {
          "base_uri": "https://localhost:8080/",
          "height": 297
        },
        "id": "IOTW6eYVTZI8",
        "outputId": "a77e9036-06d0-4ab8-c0c3-1bdf8f6c9b31"
      },
      "outputs": [
        {
          "data": {
            "text/html": [
              "<div>\n",
              "<style scoped>\n",
              "    .dataframe tbody tr th:only-of-type {\n",
              "        vertical-align: middle;\n",
              "    }\n",
              "\n",
              "    .dataframe tbody tr th {\n",
              "        vertical-align: top;\n",
              "    }\n",
              "\n",
              "    .dataframe thead th {\n",
              "        text-align: right;\n",
              "    }\n",
              "</style>\n",
              "<table border=\"1\" class=\"dataframe\">\n",
              "  <thead>\n",
              "    <tr style=\"text-align: right;\">\n",
              "      <th></th>\n",
              "      <th>death</th>\n",
              "      <th>deathIncrease</th>\n",
              "      <th>positive</th>\n",
              "      <th>positiveIncrease</th>\n",
              "      <th>totalTestResults</th>\n",
              "      <th>totalTestResultsIncrease</th>\n",
              "    </tr>\n",
              "  </thead>\n",
              "  <tbody>\n",
              "    <tr>\n",
              "      <th>count</th>\n",
              "      <td>309.000000</td>\n",
              "      <td>315.000000</td>\n",
              "      <td>315.000000</td>\n",
              "      <td>315.000000</td>\n",
              "      <td>315.00000</td>\n",
              "      <td>315.000000</td>\n",
              "    </tr>\n",
              "    <tr>\n",
              "      <th>mean</th>\n",
              "      <td>563.721683</td>\n",
              "      <td>5.628571</td>\n",
              "      <td>23258.349206</td>\n",
              "      <td>288.961905</td>\n",
              "      <td>232625.91746</td>\n",
              "      <td>1260.273016</td>\n",
              "    </tr>\n",
              "    <tr>\n",
              "      <th>std</th>\n",
              "      <td>513.503316</td>\n",
              "      <td>5.752746</td>\n",
              "      <td>26972.545010</td>\n",
              "      <td>355.550410</td>\n",
              "      <td>147014.66015</td>\n",
              "      <td>7125.346799</td>\n",
              "    </tr>\n",
              "    <tr>\n",
              "      <th>min</th>\n",
              "      <td>1.000000</td>\n",
              "      <td>0.000000</td>\n",
              "      <td>5.000000</td>\n",
              "      <td>-640.000000</td>\n",
              "      <td>14.00000</td>\n",
              "      <td>-9312.000000</td>\n",
              "    </tr>\n",
              "    <tr>\n",
              "      <th>25%</th>\n",
              "      <td>142.000000</td>\n",
              "      <td>1.000000</td>\n",
              "      <td>1317.500000</td>\n",
              "      <td>23.500000</td>\n",
              "      <td>61731.00000</td>\n",
              "      <td>44.000000</td>\n",
              "    </tr>\n",
              "    <tr>\n",
              "      <th>50%</th>\n",
              "      <td>390.000000</td>\n",
              "      <td>4.000000</td>\n",
              "      <td>12576.000000</td>\n",
              "      <td>180.000000</td>\n",
              "      <td>318548.00000</td>\n",
              "      <td>245.000000</td>\n",
              "    </tr>\n",
              "    <tr>\n",
              "      <th>75%</th>\n",
              "      <td>872.000000</td>\n",
              "      <td>9.000000</td>\n",
              "      <td>37235.500000</td>\n",
              "      <td>444.500000</td>\n",
              "      <td>343207.50000</td>\n",
              "      <td>504.000000</td>\n",
              "    </tr>\n",
              "    <tr>\n",
              "      <th>max</th>\n",
              "      <td>1773.000000</td>\n",
              "      <td>29.000000</td>\n",
              "      <td>91028.000000</td>\n",
              "      <td>2169.000000</td>\n",
              "      <td>397000.00000</td>\n",
              "      <td>79420.000000</td>\n",
              "    </tr>\n",
              "  </tbody>\n",
              "</table>\n",
              "</div>"
            ],
            "text/plain": [
              "             death  deathIncrease  ...  totalTestResults  totalTestResultsIncrease\n",
              "count   309.000000     315.000000  ...         315.00000                315.000000\n",
              "mean    563.721683       5.628571  ...      232625.91746               1260.273016\n",
              "std     513.503316       5.752746  ...      147014.66015               7125.346799\n",
              "min       1.000000       0.000000  ...          14.00000              -9312.000000\n",
              "25%     142.000000       1.000000  ...       61731.00000                 44.000000\n",
              "50%     390.000000       4.000000  ...      318548.00000                245.000000\n",
              "75%     872.000000       9.000000  ...      343207.50000                504.000000\n",
              "max    1773.000000      29.000000  ...      397000.00000              79420.000000\n",
              "\n",
              "[8 rows x 6 columns]"
            ]
          },
          "execution_count": 10,
          "metadata": {
            "tags": []
          },
          "output_type": "execute_result"
        }
      ],
      "source": [
        "relevant.describe()"
      ]
    },
    {
      "cell_type": "markdown",
      "metadata": {
        "id": "cojVKvhhPXB1"
      },
      "source": [
        "Pandas can automatically convert the data in each column inteligently by looking at the entries in each column.\n"
      ]
    },
    {
      "cell_type": "code",
      "execution_count": 11,
      "metadata": {
        "colab": {
          "base_uri": "https://localhost:8080/"
        },
        "id": "ThWKp4sBPXB2",
        "outputId": "82138225-e718-4682-e5f2-f5730f7cd54b"
      },
      "outputs": [
        {
          "name": "stdout",
          "output_type": "stream",
          "text": [
            "<class 'pandas.core.frame.DataFrame'>\n",
            "Index: 315 entries, 2021-01-24 to 2020-03-16\n",
            "Data columns (total 6 columns):\n",
            " #   Column                    Non-Null Count  Dtype\n",
            "---  ------                    --------------  -----\n",
            " 0   death                     309 non-null    Int64\n",
            " 1   deathIncrease             315 non-null    Int64\n",
            " 2   positive                  315 non-null    Int64\n",
            " 3   positiveIncrease          315 non-null    Int64\n",
            " 4   totalTestResults          315 non-null    Int64\n",
            " 5   totalTestResultsIncrease  315 non-null    Int64\n",
            "dtypes: Int64(6)\n",
            "memory usage: 19.1+ KB\n",
            "None\n"
          ]
        }
      ],
      "source": [
        "relevant=relevant.convert_dtypes() #This converts the data\n",
        "\n",
        "# Now we can verify and see the information that our dataframe contains\n",
        "print(relevant.info())\n"
      ]
    },
    {
      "cell_type": "markdown",
      "metadata": {
        "id": "rqqBR9EbPXB4"
      },
      "source": [
        "# Exercises\n"
      ]
    },
    {
      "cell_type": "markdown",
      "metadata": {
        "id": "MSU6Nz-_PXB4"
      },
      "source": [
        "We want to know a few things:\n",
        "- How many deaths and positives we have at one specific date\n",
        "- How are the cases increasing with time?\n",
        "- Are we flattening the curve?"
      ]
    },
    {
      "cell_type": "markdown",
      "metadata": {
        "id": "vtx5UDmDPXB6"
      },
      "source": [
        "## How many deaths and positive cases we have at one specific date\n"
      ]
    },
    {
      "cell_type": "markdown",
      "metadata": {
        "id": "couC0PNOPXB6"
      },
      "source": [
        "Remember what we have so far.`deaths` is the total amount of probable and confirmed deaths of Covid cases up to a certain date (this means that this is a cumulative value), same principle applies to `positives`\n",
        "\n",
        "The step below is completely optional. \n",
        "We sorted for the index (remember that the index is the date)"
      ]
    },
    {
      "cell_type": "code",
      "execution_count": 12,
      "metadata": {
        "colab": {
          "base_uri": "https://localhost:8080/",
          "height": 450
        },
        "id": "S9xN7NuJPXB7",
        "outputId": "b9860eae-0c84-402d-e3ca-81dbf481ccdb"
      },
      "outputs": [
        {
          "data": {
            "text/html": [
              "<div>\n",
              "<style scoped>\n",
              "    .dataframe tbody tr th:only-of-type {\n",
              "        vertical-align: middle;\n",
              "    }\n",
              "\n",
              "    .dataframe tbody tr th {\n",
              "        vertical-align: top;\n",
              "    }\n",
              "\n",
              "    .dataframe thead th {\n",
              "        text-align: right;\n",
              "    }\n",
              "</style>\n",
              "<table border=\"1\" class=\"dataframe\">\n",
              "  <thead>\n",
              "    <tr style=\"text-align: right;\">\n",
              "      <th></th>\n",
              "      <th>death</th>\n",
              "      <th>deathIncrease</th>\n",
              "      <th>positive</th>\n",
              "      <th>positiveIncrease</th>\n",
              "      <th>totalTestResults</th>\n",
              "      <th>totalTestResultsIncrease</th>\n",
              "    </tr>\n",
              "    <tr>\n",
              "      <th>date</th>\n",
              "      <th></th>\n",
              "      <th></th>\n",
              "      <th></th>\n",
              "      <th></th>\n",
              "      <th></th>\n",
              "      <th></th>\n",
              "    </tr>\n",
              "  </thead>\n",
              "  <tbody>\n",
              "    <tr>\n",
              "      <th>2020-03-16</th>\n",
              "      <td>&lt;NA&gt;</td>\n",
              "      <td>0</td>\n",
              "      <td>5</td>\n",
              "      <td>0</td>\n",
              "      <td>14</td>\n",
              "      <td>0</td>\n",
              "    </tr>\n",
              "    <tr>\n",
              "      <th>2020-03-17</th>\n",
              "      <td>&lt;NA&gt;</td>\n",
              "      <td>0</td>\n",
              "      <td>5</td>\n",
              "      <td>0</td>\n",
              "      <td>18</td>\n",
              "      <td>4</td>\n",
              "    </tr>\n",
              "    <tr>\n",
              "      <th>2020-03-18</th>\n",
              "      <td>&lt;NA&gt;</td>\n",
              "      <td>0</td>\n",
              "      <td>5</td>\n",
              "      <td>0</td>\n",
              "      <td>36</td>\n",
              "      <td>18</td>\n",
              "    </tr>\n",
              "    <tr>\n",
              "      <th>2020-03-19</th>\n",
              "      <td>&lt;NA&gt;</td>\n",
              "      <td>0</td>\n",
              "      <td>5</td>\n",
              "      <td>0</td>\n",
              "      <td>61</td>\n",
              "      <td>25</td>\n",
              "    </tr>\n",
              "    <tr>\n",
              "      <th>2020-03-20</th>\n",
              "      <td>&lt;NA&gt;</td>\n",
              "      <td>0</td>\n",
              "      <td>14</td>\n",
              "      <td>9</td>\n",
              "      <td>128</td>\n",
              "      <td>67</td>\n",
              "    </tr>\n",
              "    <tr>\n",
              "      <th>...</th>\n",
              "      <td>...</td>\n",
              "      <td>...</td>\n",
              "      <td>...</td>\n",
              "      <td>...</td>\n",
              "      <td>...</td>\n",
              "      <td>...</td>\n",
              "    </tr>\n",
              "    <tr>\n",
              "      <th>2021-01-20</th>\n",
              "      <td>1717</td>\n",
              "      <td>14</td>\n",
              "      <td>88513</td>\n",
              "      <td>140</td>\n",
              "      <td>394485</td>\n",
              "      <td>140</td>\n",
              "    </tr>\n",
              "    <tr>\n",
              "      <th>2021-01-21</th>\n",
              "      <td>1732</td>\n",
              "      <td>15</td>\n",
              "      <td>88728</td>\n",
              "      <td>215</td>\n",
              "      <td>394700</td>\n",
              "      <td>215</td>\n",
              "    </tr>\n",
              "    <tr>\n",
              "      <th>2021-01-22</th>\n",
              "      <td>1761</td>\n",
              "      <td>29</td>\n",
              "      <td>89282</td>\n",
              "      <td>554</td>\n",
              "      <td>395254</td>\n",
              "      <td>554</td>\n",
              "    </tr>\n",
              "    <tr>\n",
              "      <th>2021-01-23</th>\n",
              "      <td>1771</td>\n",
              "      <td>10</td>\n",
              "      <td>90073</td>\n",
              "      <td>791</td>\n",
              "      <td>396045</td>\n",
              "      <td>791</td>\n",
              "    </tr>\n",
              "    <tr>\n",
              "      <th>2021-01-24</th>\n",
              "      <td>1773</td>\n",
              "      <td>2</td>\n",
              "      <td>91028</td>\n",
              "      <td>955</td>\n",
              "      <td>397000</td>\n",
              "      <td>955</td>\n",
              "    </tr>\n",
              "  </tbody>\n",
              "</table>\n",
              "<p>315 rows × 6 columns</p>\n",
              "</div>"
            ],
            "text/plain": [
              "            death  deathIncrease  ...  totalTestResults  totalTestResultsIncrease\n",
              "date                              ...                                            \n",
              "2020-03-16   <NA>              0  ...                14                         0\n",
              "2020-03-17   <NA>              0  ...                18                         4\n",
              "2020-03-18   <NA>              0  ...                36                        18\n",
              "2020-03-19   <NA>              0  ...                61                        25\n",
              "2020-03-20   <NA>              0  ...               128                        67\n",
              "...           ...            ...  ...               ...                       ...\n",
              "2021-01-20   1717             14  ...            394485                       140\n",
              "2021-01-21   1732             15  ...            394700                       215\n",
              "2021-01-22   1761             29  ...            395254                       554\n",
              "2021-01-23   1771             10  ...            396045                       791\n",
              "2021-01-24   1773              2  ...            397000                       955\n",
              "\n",
              "[315 rows x 6 columns]"
            ]
          },
          "execution_count": 12,
          "metadata": {
            "tags": []
          },
          "output_type": "execute_result"
        }
      ],
      "source": [
        "relevant.sort_index(inplace=True)\n",
        "relevant"
      ]
    },
    {
      "cell_type": "markdown",
      "metadata": {
        "id": "MYiEAvrjPXB7"
      },
      "source": [
        "We want to see the amound of people that *have ever been diagnosed positive* until one day.For this we could just specify the date and look at the entry"
      ]
    },
    {
      "cell_type": "code",
      "execution_count": 13,
      "metadata": {
        "id": "Td5xc-igPXB7"
      },
      "outputs": [],
      "source": [
        "positives=relevant['positive']"
      ]
    },
    {
      "cell_type": "code",
      "execution_count": 14,
      "metadata": {
        "colab": {
          "base_uri": "https://localhost:8080/"
        },
        "id": "9laP0QpUPXB8",
        "outputId": "2ba10572-8c9f-4cb7-df80-efbc10983fc6"
      },
      "outputs": [
        {
          "name": "stdout",
          "output_type": "stream",
          "text": [
            "Amount of positives at 2021-01-24 is: 91028\n"
          ]
        }
      ],
      "source": [
        "date='2021-01-24' \n",
        "print(\"Amount of positives at\",date,\"is:\", positives.loc[date]) "
      ]
    },
    {
      "cell_type": "markdown",
      "metadata": {
        "id": "RgRXVCfVPXB8"
      },
      "source": [
        "This is great!\n",
        "But we can use a plot to show this information in a graphical way"
      ]
    },
    {
      "cell_type": "markdown",
      "metadata": {
        "id": "ysBqOI0GPXB8"
      },
      "source": [
        "### Making a plot \n",
        "We will use Matplotlib's pyplot library for plots"
      ]
    },
    {
      "cell_type": "markdown",
      "metadata": {
        "id": "bPp8o2CnPXB8"
      },
      "source": [
        "\n",
        "Here is an example"
      ]
    },
    {
      "cell_type": "code",
      "execution_count": 15,
      "metadata": {
        "id": "MeXkxBDlPXB8"
      },
      "outputs": [],
      "source": [
        "import matplotlib.pyplot as plt\n",
        "% matplotlib inline"
      ]
    },
    {
      "cell_type": "markdown",
      "metadata": {
        "id": "moR_tKd9UQA2"
      },
      "source": [
        "Let's plot positives vs date\n",
        "\n",
        "First we have to convert the positive variable to a numpy array as follows"
      ]
    },
    {
      "cell_type": "code",
      "execution_count": 16,
      "metadata": {
        "colab": {
          "base_uri": "https://localhost:8080/",
          "height": 593
        },
        "id": "F4mH8NronL-G",
        "outputId": "53c9ad86-440d-4313-c29e-3687a40947a8"
      },
      "outputs": [
        {
          "data": {
            "image/png": "[encoded data removed]",
            "text/plain": [
              "<Figure size 720x576 with 1 Axes>"
            ]
          },
          "metadata": {
            "needs_background": "light",
            "tags": []
          },
          "output_type": "display_data"
        }
      ],
      "source": [
        "positives.plot(figsize=(10,8),\n",
        "               grid=True,\n",
        "               fontsize=15,\n",
        "               rot=55,\n",
        "               style='o'\n",
        "               )\n",
        "plt.ylabel('Positives',fontsize=15)\n",
        "plt.title(\"Positive Covid cases in PR\",fontsize=20)\n",
        "plt.xlabel('Date',fontsize=15)\n",
        "plt.show()"
      ]
    },
    {
      "cell_type": "markdown",
      "metadata": {
        "id": "dcegSfs8PXB-"
      },
      "source": [
        "## How are the cases increasing with time?"
      ]
    },
    {
      "cell_type": "markdown",
      "metadata": {
        "id": "soMZHg-NPXB_"
      },
      "source": [
        "For this we can plot the positive/death increase column"
      ]
    },
    {
      "cell_type": "code",
      "execution_count": 19,
      "metadata": {
        "colab": {
          "base_uri": "https://localhost:8080/",
          "height": 675
        },
        "id": "YV1kS4PfIbp7",
        "outputId": "727f0dae-4076-4829-dd5d-1571705b97a8"
      },
      "outputs": [
        {
          "data": {
            "image/png": "[encoded data removed]",
            "text/plain": [
              "<Figure size 1368x720 with 2 Axes>"
            ]
          },
          "metadata": {
            "needs_background": "light",
            "tags": []
          },
          "output_type": "display_data"
        }
      ],
      "source": [
        "relevant.fillna(0,inplace=True)\n",
        "ax=relevant[['death','deathIncrease']].plot(subplots=True,\n",
        "               style='--',\n",
        "               figsize=(19,10),\n",
        "               grid=True,\n",
        "               sharex=True,\n",
        "               title=\"Deaths\\n PR Covid cases\",\n",
        "               fontsize=15)\n",
        "ax[0].set_title('Death accumulative')\n",
        "ax[1].set_title(\"Death per day\")\n",
        "plt.ylabel('Deaths',fontsize=15)\n",
        "plt.legend()\n",
        "plt.xlabel('Date',fontsize=15)\n",
        "plt.show()"
      ]
    },
    {
      "cell_type": "markdown",
      "metadata": {
        "id": "OHBXAQBc06KM"
      },
      "source": [
        "If you get an erro about `TypeError: float() argument must be a string or a number, not 'NAType'`\n",
        "then you should fill the Null values in the dataframe.\n",
        "Let's go back and do this."
      ]
    },
    {
      "cell_type": "markdown",
      "metadata": {
        "id": "E2xeu0iMPXB_"
      },
      "source": [
        "# Are we flattening the curve?"
      ]
    },
    {
      "cell_type": "markdown",
      "metadata": {
        "id": "i-TFAOakU_B_"
      },
      "source": [
        "To show this we follow the tips shown in the video below\n"
      ]
    },
    {
      "cell_type": "code",
      "execution_count": 18,
      "metadata": {
        "colab": {
          "base_uri": "https://localhost:8080/",
          "height": 621
        },
        "id": "cyedvTxMVvG8",
        "outputId": "43098f72-7630-47ed-c91d-9fa4e0c60844"
      },
      "outputs": [
        {
          "data": {
            "image/jpeg": "[encoded data removed]",
            "text/html": [
              "\n",
              "        <iframe\n",
              "            width=\"1000\"\n",
              "            height=\"600\"\n",
              "            src=\"https://www.youtube.com/embed/54XLXg4fYsc?start=54\"\n",
              "            frameborder=\"0\"\n",
              "            allowfullscreen\n",
              "        ></iframe>\n",
              "        "
            ],
            "text/plain": [
              "<IPython.lib.display.YouTubeVideo at 0x7f718464c198>"
            ]
          },
          "execution_count": 18,
          "metadata": {
            "tags": []
          },
          "output_type": "execute_result"
        }
      ],
      "source": [
        "from IPython.display import YouTubeVideo\n",
        "YouTubeVideo('54XLXg4fYsc',start=54,width=1000,height=600)"
      ]
    },
    {
      "cell_type": "markdown",
      "metadata": {
        "id": "VWmbniRMXmw2"
      },
      "source": [
        "So we have to plot `positiveIncrease` vs `positive` and both on a log scale. "
      ]
    },
    {
      "cell_type": "code",
      "execution_count": 20,
      "metadata": {
        "colab": {
          "base_uri": "https://localhost:8080/",
          "height": 503
        },
        "id": "-7ygDe3xpBsI",
        "outputId": "709385e4-85c6-439f-e81b-19e780e10783"
      },
      "outputs": [
        {
          "data": {
            "image/png": "[encoded data removed]",
            "text/plain": [
              "<Figure size 720x576 with 1 Axes>"
            ]
          },
          "metadata": {
            "needs_background": "light",
            "tags": []
          },
          "output_type": "display_data"
        }
      ],
      "source": [
        "relevant[['positive','positiveIncrease']].plot(x='positive',y='positiveIncrease',\n",
        "                                               figsize=(10,8),fontsize=13)\n",
        "plt.plot([0,max(positives)],[0,max(positives)],label='exponential growth') # this is the line that represents exponential growth on a log scale plot like ours\n",
        "plt.xscale('log')\n",
        "plt.yscale('log')\n",
        "plt.legend()\n",
        "plt.show()"
      ]
    },
    {
      "cell_type": "markdown",
      "metadata": {
        "id": "ukn6XoXFqo-0"
      },
      "source": [
        "This is to noisy. Let's take the same plot but with the 7-day average. \n",
        "First we add a new column to the dataframe"
      ]
    },
    {
      "cell_type": "code",
      "execution_count": 21,
      "metadata": {
        "colab": {
          "base_uri": "https://localhost:8080/",
          "height": 450
        },
        "id": "FjZ10uOEXll2",
        "outputId": "9f67bdaa-16f1-4102-f0c3-cebdfb82eab7"
      },
      "outputs": [
        {
          "data": {
            "text/html": [
              "<div>\n",
              "<style scoped>\n",
              "    .dataframe tbody tr th:only-of-type {\n",
              "        vertical-align: middle;\n",
              "    }\n",
              "\n",
              "    .dataframe tbody tr th {\n",
              "        vertical-align: top;\n",
              "    }\n",
              "\n",
              "    .dataframe thead th {\n",
              "        text-align: right;\n",
              "    }\n",
              "</style>\n",
              "<table border=\"1\" class=\"dataframe\">\n",
              "  <thead>\n",
              "    <tr style=\"text-align: right;\">\n",
              "      <th></th>\n",
              "      <th>death</th>\n",
              "      <th>deathIncrease</th>\n",
              "      <th>positive</th>\n",
              "      <th>positiveIncrease</th>\n",
              "      <th>totalTestResults</th>\n",
              "      <th>totalTestResultsIncrease</th>\n",
              "      <th>7-day average</th>\n",
              "    </tr>\n",
              "    <tr>\n",
              "      <th>date</th>\n",
              "      <th></th>\n",
              "      <th></th>\n",
              "      <th></th>\n",
              "      <th></th>\n",
              "      <th></th>\n",
              "      <th></th>\n",
              "      <th></th>\n",
              "    </tr>\n",
              "  </thead>\n",
              "  <tbody>\n",
              "    <tr>\n",
              "      <th>2020-03-16</th>\n",
              "      <td>0</td>\n",
              "      <td>0</td>\n",
              "      <td>5</td>\n",
              "      <td>0</td>\n",
              "      <td>14</td>\n",
              "      <td>0</td>\n",
              "      <td>NaN</td>\n",
              "    </tr>\n",
              "    <tr>\n",
              "      <th>2020-03-17</th>\n",
              "      <td>0</td>\n",
              "      <td>0</td>\n",
              "      <td>5</td>\n",
              "      <td>0</td>\n",
              "      <td>18</td>\n",
              "      <td>4</td>\n",
              "      <td>NaN</td>\n",
              "    </tr>\n",
              "    <tr>\n",
              "      <th>2020-03-18</th>\n",
              "      <td>0</td>\n",
              "      <td>0</td>\n",
              "      <td>5</td>\n",
              "      <td>0</td>\n",
              "      <td>36</td>\n",
              "      <td>18</td>\n",
              "      <td>NaN</td>\n",
              "    </tr>\n",
              "    <tr>\n",
              "      <th>2020-03-19</th>\n",
              "      <td>0</td>\n",
              "      <td>0</td>\n",
              "      <td>5</td>\n",
              "      <td>0</td>\n",
              "      <td>61</td>\n",
              "      <td>25</td>\n",
              "      <td>NaN</td>\n",
              "    </tr>\n",
              "    <tr>\n",
              "      <th>2020-03-20</th>\n",
              "      <td>0</td>\n",
              "      <td>0</td>\n",
              "      <td>14</td>\n",
              "      <td>9</td>\n",
              "      <td>128</td>\n",
              "      <td>67</td>\n",
              "      <td>NaN</td>\n",
              "    </tr>\n",
              "    <tr>\n",
              "      <th>...</th>\n",
              "      <td>...</td>\n",
              "      <td>...</td>\n",
              "      <td>...</td>\n",
              "      <td>...</td>\n",
              "      <td>...</td>\n",
              "      <td>...</td>\n",
              "      <td>...</td>\n",
              "    </tr>\n",
              "    <tr>\n",
              "      <th>2021-01-20</th>\n",
              "      <td>1717</td>\n",
              "      <td>14</td>\n",
              "      <td>88513</td>\n",
              "      <td>140</td>\n",
              "      <td>394485</td>\n",
              "      <td>140</td>\n",
              "      <td>553.428571</td>\n",
              "    </tr>\n",
              "    <tr>\n",
              "      <th>2021-01-21</th>\n",
              "      <td>1732</td>\n",
              "      <td>15</td>\n",
              "      <td>88728</td>\n",
              "      <td>215</td>\n",
              "      <td>394700</td>\n",
              "      <td>215</td>\n",
              "      <td>558.857143</td>\n",
              "    </tr>\n",
              "    <tr>\n",
              "      <th>2021-01-22</th>\n",
              "      <td>1761</td>\n",
              "      <td>29</td>\n",
              "      <td>89282</td>\n",
              "      <td>554</td>\n",
              "      <td>395254</td>\n",
              "      <td>554</td>\n",
              "      <td>475.428571</td>\n",
              "    </tr>\n",
              "    <tr>\n",
              "      <th>2021-01-23</th>\n",
              "      <td>1771</td>\n",
              "      <td>10</td>\n",
              "      <td>90073</td>\n",
              "      <td>791</td>\n",
              "      <td>396045</td>\n",
              "      <td>791</td>\n",
              "      <td>507.142857</td>\n",
              "    </tr>\n",
              "    <tr>\n",
              "      <th>2021-01-24</th>\n",
              "      <td>1773</td>\n",
              "      <td>2</td>\n",
              "      <td>91028</td>\n",
              "      <td>955</td>\n",
              "      <td>397000</td>\n",
              "      <td>955</td>\n",
              "      <td>521.000000</td>\n",
              "    </tr>\n",
              "  </tbody>\n",
              "</table>\n",
              "<p>315 rows × 7 columns</p>\n",
              "</div>"
            ],
            "text/plain": [
              "            death  deathIncrease  ...  totalTestResultsIncrease  7-day average\n",
              "date                              ...                                         \n",
              "2020-03-16      0              0  ...                         0            NaN\n",
              "2020-03-17      0              0  ...                         4            NaN\n",
              "2020-03-18      0              0  ...                        18            NaN\n",
              "2020-03-19      0              0  ...                        25            NaN\n",
              "2020-03-20      0              0  ...                        67            NaN\n",
              "...           ...            ...  ...                       ...            ...\n",
              "2021-01-20   1717             14  ...                       140     553.428571\n",
              "2021-01-21   1732             15  ...                       215     558.857143\n",
              "2021-01-22   1761             29  ...                       554     475.428571\n",
              "2021-01-23   1771             10  ...                       791     507.142857\n",
              "2021-01-24   1773              2  ...                       955     521.000000\n",
              "\n",
              "[315 rows x 7 columns]"
            ]
          },
          "execution_count": 21,
          "metadata": {
            "tags": []
          },
          "output_type": "execute_result"
        }
      ],
      "source": [
        "relevant['7-day average']=relevant['positiveIncrease'].rolling(window=7).mean()\n",
        "relevant.fillna(0,inplace=False)\n",
        "relevant\n",
        "\n",
        "#if you get an error about Null values change inplace to True"
      ]
    },
    {
      "cell_type": "markdown",
      "metadata": {
        "id": "x6Lj-EF6PXCA"
      },
      "source": [
        "Now we plot "
      ]
    },
    {
      "cell_type": "code",
      "execution_count": 22,
      "metadata": {
        "colab": {
          "base_uri": "https://localhost:8080/",
          "height": 519
        },
        "id": "rkDfW7EQ12GJ",
        "outputId": "d812179e-9c02-430e-85f5-346dfea6aa42"
      },
      "outputs": [
        {
          "data": {
            "image/png": "[encoded data removed]",
            "text/plain": [
              "<Figure size 720x576 with 1 Axes>"
            ]
          },
          "metadata": {
            "needs_background": "light",
            "tags": []
          },
          "output_type": "display_data"
        }
      ],
      "source": [
        "relevant.plot(kind='line',x='positive',y='7-day average',\n",
        "              figsize=(10,8),fontsize=13,\n",
        "              grid=True,\n",
        "              title=\"Are we below exponential growth?\"\n",
        "              )\n",
        "plt.plot([0,max(positives)],[0,max(positives)],label='exponential growth') # this is the line that represents exponential growth on a log scale plot like ours\n",
        "plt.xscale('log')\n",
        "plt.yscale('log')\n",
        "plt.xlabel('Total # of positives')\n",
        "plt.ylabel('Change of positives per day')\n",
        "plt.legend()\n",
        "plt.show()"
      ]
    },
    {
      "cell_type": "markdown",
      "metadata": {
        "id": "ujPBhz5-8aiq"
      },
      "source": [
        "# Resources"
      ]
    },
    {
      "cell_type": "markdown",
      "metadata": {
        "id": "YQnM_vIG8dJs"
      },
      "source": [
        "To see information from the source of the data visit [Covid Tracking Project](https://covidtracking.com/)\n",
        "\n",
        "More info and documentation: \n",
        "\n",
        "\n",
        "*   [Pandas ](https://pandas.pydata.org/)\n",
        "*   [Matplotlib ](https://matplotlib.org/)\n",
        "*   [Numpy](https://numpy.org/)\n",
        "\n"
      ]
    },
    {
      "cell_type": "markdown",
      "metadata": {},
      "source": [
        "# Credits"
      ]
    },
    {
      "cell_type": "markdown",
      "metadata": {},
      "source": [
        "This material has been made available by [Guillermo Fidalgo](https://github.com/GuillermoFidalgo) for educational purposes.\n",
        "Please feel free to copy and teach with this material, I only ask for appropiate credit."
      ]
    }
  ],
  "metadata": {
    "colab": {
      "collapsed_sections": [
        "b2iZSDjixr8p"
      ],
      "include_colab_link": true,
      "name": "Copy of Introduction to Pandas with COVID-19 data .ipynb",
      "provenance": [],
      "toc_visible": true
    },
    "kernelspec": {
      "display_name": "Python 3",
      "language": "python",
      "name": "python3"
    },
    "language_info": {
      "codemirror_mode": {
        "name": "ipython",
        "version": 3
      },
      "file_extension": ".py",
      "mimetype": "text/x-python",
      "name": "python",
      "nbconvert_exporter": "python",
      "pygments_lexer": "ipython3",
      "version": "3.8.5"
    }
  },
  "nbformat": 4,
  "nbformat_minor": 0
}
