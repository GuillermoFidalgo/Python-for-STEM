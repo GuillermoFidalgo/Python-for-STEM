{
  "cells": [
    {
      "cell_type": "markdown",
      "metadata": {
        "id": "view-in-github",
        "colab_type": "text"
      },
      "source": [
        "<a href=\"https://colab.research.google.com/github/936-BCruz/Python-for-STEM-Teachers-Workshop/blob/master/12-Intro__Esp.ipynb\" target=\"_parent\"><img src=\"https://colab.research.google.com/assets/colab-badge.svg\" alt=\"Open In Colab\"/></a>"
      ]
    },
    {
      "cell_type": "markdown",
      "metadata": {
        "id": "gFcsa6oKKgGt"
      },
      "source": [
        "Presiona \"Guardar una copia en Drive \" (sobre &#8593;) o diríjase a **Archivo > Guardar una copia en Drive** así tendrás tu propia versión de tú trabajo. Esto requiere acseso desde una cuenta Google. Si deseas comenzar a trabajar desde cero [abrir la actividad original aquí](https://colab.research.google.com/github/QuarkNet-HEP/coding-camp/blob/master/intro.ipynb).  \n",
        "\n",
        "# Introducción a la programación\n",
        "\n",
        "En esta actividad aprenderás a:  \n",
        "- ejecuta y programa códigos en Python\n",
        "- leer comentarios en Python\n",
        "- ejecuta códigos en orden\n",
        "- importar programas de librarías \n",
        "\n",
        "<hr/>\n",
        "\n",
        "# Parte 1: Ejecuta códigos en Python  \n",
        "Abajo te mostramos dos formas de ejecutar un código en Python:\n",
        "- presiona SHIFT y ENTER al mismo tiempo\n",
        "- presiona el botón de comenzar (&#9658;) a la izquierda del código  \n",
        "\n",
        "Presiona \"ejecuta el programa\" en la ventana emerjente. Esto sucede la primera vez que ejecutas el código diciendo que se instala desde GitHub (Es totalmete seguro, por eso lo utilizamos) \n",
        "\n",
        "Ejecuta en cada bloque el código para que suceda. Observa también los mensajes ocultos. Estos son llamados *comentarios* y comienzan con el símbolo #."
      ]
    },
    {
      "cell_type": "code",
      "execution_count": null,
      "metadata": {
        "id": "UTkmNnoadCOR",
        "colab": {
          "base_uri": "https://localhost:8080/"
        },
        "outputId": "87598100-e79d-4787-9fa9-320d42b6e585"
      },
      "outputs": [
        {
          "output_type": "execute_result",
          "data": {
            "text/plain": [
              "3"
            ]
          },
          "metadata": {},
          "execution_count": 1
        }
      ],
      "source": [
        "1+2     # ejecuta este bloque para que observes la respuesta de 1+1"
      ]
    },
    {
      "cell_type": "code",
      "execution_count": null,
      "metadata": {
        "id": "Zra5XaIuFxXx"
      },
      "outputs": [],
      "source": [
        "10/5    # Python es un lenguaje de programación que puede hacer matemáticas. Si!"
      ]
    },
    {
      "cell_type": "code",
      "execution_count": null,
      "metadata": {
        "id": "a08YbU6KF5jS"
      },
      "outputs": [],
      "source": [
        "# Esto es un comentario. Python no lee líneas que comienzan con #\n",
        "\n",
        "2*3   # Un comentario también puede estar después de un código en la misma línea."
      ]
    },
    {
      "cell_type": "markdown",
      "metadata": {
        "id": "akBt4UjuF_Cd"
      },
      "source": [
        "**Reto**  \n",
        "- Intenta editar el código anterior para resolver de forma distinta el problema matemático, como **4 por 5**. Deberás ejecutar el bloque con el código otra vez para poder ver la nueva respuesta.  \n",
        "\n",
        "<hr/>\n",
        "\n",
        "# Parte 2: El orden lo es todo\n",
        "Un programa trabaja en secuencias. Ejecutar un código fuera de orden no funciona.\n"
      ]
    },
    {
      "cell_type": "code",
      "execution_count": null,
      "metadata": {
        "id": "2DiPkRuSF7Nl"
      },
      "outputs": [],
      "source": [
        "a = 5   # En esta línea crearas una variable que se llama \"a\" y establece que es igual a 5.\n",
        "a*2     # En esta línea multiplicarás por 2. Si a=5, entonces la respuesta de abajo deberá ser igual a 10."
      ]
    },
    {
      "cell_type": "code",
      "execution_count": null,
      "metadata": {
        "id": "dsAvgo1SGOpS"
      },
      "outputs": [],
      "source": [
        "2*b # no hemos nombrado la variable b en nuestro programa, así que este nos dará un error."
      ]
    },
    {
      "cell_type": "code",
      "execution_count": null,
      "metadata": {
        "id": "uzVo9uLKGQJ_"
      },
      "outputs": [],
      "source": [
        "b=3 # al ejecutar este código le otorgaremos un valor a la variable b. Entonces, intentaremos ejecutar el código nuevamnete."
      ]
    },
    {
      "cell_type": "code",
      "source": [
        "# Cuál puede ser la utilidad de **?\n",
        "e = b**a\n",
        "e"
      ],
      "metadata": {
        "id": "H9EQMV3CP8w1"
      },
      "execution_count": null,
      "outputs": []
    },
    {
      "cell_type": "code",
      "source": [
        "# Aquí un ejemplo de como crear un loop!\n",
        "i=0\n",
        "n = 10\n",
        "for x in range (0,10):\n",
        "   i = i + x\n",
        "   print (i)\n",
        "\n",
        "print (\"The sum of the first\" , n, \"integers (including zero) is\", i)"
      ],
      "metadata": {
        "id": "zDPfck1bPw83"
      },
      "execution_count": null,
      "outputs": []
    },
    {
      "cell_type": "code",
      "source": [
        ""
      ],
      "metadata": {
        "id": "5_uqWskbP2Ow"
      },
      "execution_count": null,
      "outputs": []
    },
    {
      "cell_type": "markdown",
      "metadata": {
        "id": "78-GOO5SGU6J"
      },
      "source": [
        "**Reto**\n",
        "- Escribe un problema matemático escribiendo solamente variables, no números, como **a** veces **b**.  \n",
        "- Escribe problemas matemáticos utilizando +, -, *, /, and (  ).\n",
        "- Crea otra variable y multiplica esta por **a**.  \n",
        "\n",
        "<hr/>\n",
        "\n",
        "# Parte 3: Importando Librerías \n",
        "El lenguaje Python puede hacer algunos cálculos mateáticos por sí mismos. Para realizar tareas más complejas, tenemos que importar otros programas llamados  *librerías*."
      ]
    },
    {
      "cell_type": "code",
      "execution_count": null,
      "metadata": {
        "id": "3w5FcXQwGSSF"
      },
      "outputs": [],
      "source": [
        "# numpy es una librería que le permite realizar cálculos númericos en Python\n",
        "import numpy"
      ]
    },
    {
      "cell_type": "code",
      "execution_count": null,
      "metadata": {
        "id": "SUN5b606GfGK"
      },
      "outputs": [],
      "source": [
        "# numpy tiene una función llamada \"sqrt\" que cálcula las raíces cuadradas de un número\n",
        "numpy.sqrt(9)   # ¿Cuál es la raíz cuadrada de 9?"
      ]
    },
    {
      "cell_type": "code",
      "execution_count": null,
      "metadata": {
        "id": "9MUd-bIPGsIp"
      },
      "outputs": [],
      "source": [
        "# También puedes otorgarle nombres distintos a las librerías cuando las importes. \n",
        "\n",
        "import numpy as np   # Ahora puedes nombras \"np\" en vez de \"numpy\"\n",
        "np.sqrt(4)           # ¿Cuál es la raíz cuadrada de 4?"
      ]
    },
    {
      "cell_type": "markdown",
      "source": [
        ""
      ],
      "metadata": {
        "id": "No3z7tpUCuT9"
      }
    },
    {
      "cell_type": "code",
      "execution_count": null,
      "metadata": {
        "id": "kLSGKEt-G3-L"
      },
      "outputs": [],
      "source": [
        "# algunas librerías tienen nombres largos, utilizar \"apodos\" es muy útil \n",
        "\n",
        "import matplotlib.pyplot as plt         # \"plt\" es más corto\n",
        "plt.scatter([1,2,3,4,5], [0,1,3,4,2], color='pink', edgecolor='blue');   # esto realiza gráficos de disperción!"
      ]
    },
    {
      "cell_type": "markdown",
      "metadata": {
        "id": "297F-IZ3SbJX"
      },
      "source": [
        "**Reto**\n",
        "- Cambia el color de la gráfica de verde a negro.\n",
        "- Numpy tiene una función llamada *round* que redondea al número decimal. Intenta utilizarlo cuando utilices la función *sqrt*.  \n",
        "\n",
        "# Parte 4: Markdown  \n",
        "Los textos en esta libreta no son códigos, como esta oración, son llamados *markdown*. Puedes hacer doble presión en este texto para observar el código markdown. Como de costumbre, puedes precionar SHIFT+ENTER para ejecutar el código de markdown, formatea el texto nuevamente. Markdown le permite escribir el texto utilizando las siguientes formas:  \n",
        "- lista de viñeta  \n",
        "- *italicos*  \n",
        "- textos en **negrillas** \n",
        "- encabezados  \n",
        "- [links](https://xkcd.com/665/)\n",
        "- imágenes  \n",
        "\n",
        "![tierno gatito](https://github.com/adamlamee/CODINGinK12/raw/master/notebooks/1dayoldkitten.png) \n",
        "\n",
        "**Reto**\n",
        "- Realiza esta oración en negrillas.  \n",
        "- Realiza esta oración en metálico.  \n",
        "- Añade cuatro viñetas debajo de este texto   \n",
        "\n",
        "# Autocorrección \n",
        "- ¿Pudistes ejecutar el código Python? Por ejemplo, ¿pudistes sumar o multiplicar números y ver su respuestas? \n",
        "- ¿Pudistes editar el código para producir diferentes salidas?\n",
        "- ¿Encontrastes los comentarios? Estos comienzan con # y son mensajes para que las personas lean los códigos.\n",
        "- ¿Puedes explicar que tiene de incorrecto ejecutar \"c=2\" y \"c+d\"?\n",
        "- ¿Puedes nombrar dos librerías en Python? Ayuda: Las importastes.  \n",
        "- Pudistes editar una celda con markdown y aplicar algún formato como, una lista con viñetas, **negrillas**, or *italicos*?  \n",
        "\n",
        "<hr/>  \n",
        "\n",
        "# Créditos \n",
        "Esta librería fue redactada por [Adam LaMee](http://www.adamlamee.com). Para licencias y mayor información visita [CODINGinK12.org](http://www.codingink12.org)."
      ]
    }
  ],
  "metadata": {
    "colab": {
      "collapsed_sections": [],
      "name": "Intro_ Esp",
      "provenance": [],
      "include_colab_link": true
    },
    "kernelspec": {
      "display_name": "Python 3",
      "language": "python",
      "name": "python3"
    },
    "language_info": {
      "codemirror_mode": {
        "name": "ipython",
        "version": 3
      },
      "file_extension": ".py",
      "mimetype": "text/x-python",
      "name": "python",
      "nbconvert_exporter": "python",
      "pygments_lexer": "ipython3",
      "version": "3.7.7"
    }
  },
  "nbformat": 4,
  "nbformat_minor": 0
}
