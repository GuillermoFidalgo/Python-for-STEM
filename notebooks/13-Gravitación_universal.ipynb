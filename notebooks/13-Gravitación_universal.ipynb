{
  "nbformat": 4,
  "nbformat_minor": 0,
  "metadata": {
    "colab": {
      "name": "Gravitación universal.ipynb",
      "provenance": [],
      "collapsed_sections": [],
      "include_colab_link": true
    },
    "kernelspec": {
      "name": "python3",
      "display_name": "Python 3"
    }
  },
  "cells": [
    {
      "cell_type": "markdown",
      "metadata": {
        "id": "view-in-github",
        "colab_type": "text"
      },
      "source": [
        "<a href=\"https://colab.research.google.com/github/936-BCruz/Python-for-STEM-Teachers-Workshop/blob/master/13-Gravitaci%C3%B3n_universal.ipynb\" target=\"_parent\"><img src=\"https://colab.research.google.com/assets/colab-badge.svg\" alt=\"Open In Colab\"/></a>"
      ]
    },
    {
      "cell_type": "markdown",
      "metadata": {
        "id": "m41LkgnvDXab"
      },
      "source": [
        "# Introduction\n",
        "\n"
      ]
    },
    {
      "cell_type": "markdown",
      "metadata": {
        "id": "xottAw-QDoAY"
      },
      "source": [
        "The purpose of this exercise is to study the movement between heavenly bodies (Sun and planets) with the following formula that defines Newton's law of universal attraction.\n",
        "\n",
        "$$ F_g= G\\frac{Mm}{r^2}$$\n",
        "- $ F $ is the force between them\n",
        "- $ M $ is the mass of the sun \n",
        "- $ m $ is the mass of a planet \n",
        "- $ r $ is the distance between the planet and the sun \n",
        "- $ G = 6.674 \\times 10^{-11} \\frac{m^3}{kg \\cdot s^2} $ is the universal constant of gravitation."
      ]
    },
    {
      "cell_type": "markdown",
      "metadata": {
        "id": "94ycA94-3-Xk"
      },
      "source": [
        "# Goal of this homework\n",
        "- Make a plot of $v^2$ vs $M/r$ and find the slope of the line. **# Recordar que los títulos de las gráficas Y Vs. X**\n",
        "- We want to verify the value of $G$\n"
      ]
    },
    {
      "cell_type": "markdown",
      "metadata": {
        "id": "UtWi0P-4yM2j"
      },
      "source": [
        "With this equation we can calculate the velocity of the planets around the Sun by assuming that the orbits are circular (they're not but it is a pretty good approximation). This can be done by using the centripetal force formula $ F_c= ma_c = m\\frac{v^2}{r}$\n",
        "- $v$ is the tangential speed of the planet around the sun.\n",
        "- $m$ is the mass of the planet orbiting the Sun\n",
        "\n",
        "With a little bit of math we get \n",
        "\n",
        "\\begin{align*}\n",
        " F_g &= ma_c \\\\\n",
        "G\\frac{Mm}{r^2} &= m\\frac{v^2}{r}\\\\\n",
        "G\\frac{M}{r} &= v^2 \n",
        "\\end{align*}\n"
      ]
    },
    {
      "cell_type": "markdown",
      "metadata": {
        "id": "G59Wo5WeQnJf"
      },
      "source": [
        "The info about each planet is as below \n",
        "\n",
        "![planet_info](https://media.cheggcdn.com/study/787/787bdb17-7723-4e09-8ffd-b7f97b9a1c48/720656-6.2-21HWEI2.png)"
      ]
    },
    {
      "cell_type": "markdown",
      "metadata": {
        "id": "fVCvGcer111H"
      },
      "source": [
        "# Your code below\n",
        "You should only write code between the blocks that look like below\n",
        "```python\n",
        "##### Complete here ##### \n",
        "\n",
        "#Instructions\n",
        "Hola mundo!!!\n",
        "# puedes crear links, visitar tarea #1 para repasar como adjuntar un link\n",
        "# Puedes colocar fotos, visitar tarea #1 para repasar como adjuntar fotos\n",
        "\n",
        "\n",
        "#########################\n",
        "```\n",
        "\n",
        "Feel free to use as many lines as you want."
      ]
    },
    {
      "cell_type": "code",
      "metadata": {
        "id": "NX035dpAFjkA"
      },
      "source": [
        "# Importamos la librerías que utilizaremos y las funciones\n",
        "from numpy import array,polyfit,poly1d,append\n",
        "from matplotlib.pyplot import figure,plot,show,xlabel,ylabel,title,xscale,yscale,xlim,ylim,grid,legend"
      ],
      "execution_count": null,
      "outputs": []
    },
    {
      "cell_type": "markdown",
      "metadata": {
        "id": "HqldR90kZuYX"
      },
      "source": [
        "Firs we make a list of the values found in the table above."
      ]
    },
    {
      "cell_type": "code",
      "metadata": {
        "id": "BLAzHH2uQ3C9"
      },
      "source": [
        "#Masa de Mercurio, Venus, Tierra, Marte..... Neptuno en kg (no incluímos a plutón)\n",
        "masa_planetas= [3.3e23,4.87e24,5.98e24,6.42e23,1.90e27,5.69e26,8.68e25,1.02e26] \n",
        "masa_sol= 1.989e30 # en kg\n",
        "radio_orbitas=[57.9,108.9,149.6,227.9,778.6,1433.5,2872.5,4495.0] # en 10^6 km (millones de km)\n",
        "velocidad_planetas=[47.4,35.0,29.8,24.1,13.1,9.7,6.8,5.4] # en  km/s\n",
        "\n",
        "#hacemos unas conversiones \n",
        "masa_planetas=array(masa_planetas)\n",
        "velocidad_planetas=array(velocidad_planetas)*1000 # convertir a m/s\n",
        "radio_orbitas=array(radio_orbitas)*1e9 #ahora tenemos nuestra lista en metros\n"
      ],
      "execution_count": null,
      "outputs": []
    },
    {
      "cell_type": "code",
      "metadata": {
        "id": "-Y7-LavHDg60"
      },
      "source": [
        "###########################Complete the code in this space ########################\n",
        "# Instructions\n",
        "\n",
        "# You must calculate the average G and print it.\n",
        "# Hint : You don't have to calculate by using many variables one by one, you can use an array.\n",
        "# Hint : use the formulas in the introduction to solve for G\n",
        "\n",
        "r=                           #radio\n",
        "M=   masa_sol                      #Masa el Sol\n",
        "v=                           #velocidad\n",
        "#G=                           #Constante de Gravitación Universal\n",
        "\n",
        "average_G= v**2\n",
        "\n",
        "print(average_G)\n",
        "\n",
        "\n",
        "\n",
        "\n",
        "##################################################################################\n"
      ],
      "execution_count": null,
      "outputs": []
    },
    {
      "cell_type": "markdown",
      "metadata": {
        "id": "_6u_KywPER8Q"
      },
      "source": [
        "# Make a plot\n",
        "Make a plot with the following :\n",
        "- Title\n",
        "- x and y labels\n",
        "- change the color of the line\n",
        " and answer the question \n",
        "\n",
        "\n",
        "> What is the behaviour of the plot? (e.g. \"linear\", \"cuadratic\", \"exponential\" )\n",
        "\n"
      ]
    },
    {
      "cell_type": "markdown",
      "metadata": {
        "id": "jYPp0VtREd2L"
      },
      "source": [
        ""
      ]
    },
    {
      "cell_type": "code",
      "metadata": {
        "id": "CXPs9lnQ2cIo"
      },
      "source": [
        "###########################Complete the code in this space ########################\n",
        "# Instructions\n",
        "\n",
        "# You must create a plot of y vs x.\n",
        "# You must change the default look of the plot (Add labels and change colors). \n",
        "# You can use any of the functions imported from matplotlib or you can import more if you like.\n",
        "# Answer: What is the behaviour of this plot?\n",
        "\n",
        "############# define x and y ################\n",
        "x=\n",
        "y=\n",
        "\n",
        "################ Now plot ###################\n",
        "plot(x,y,'o')\n",
        "show()\n",
        "\n",
        "##################################################################################"
      ],
      "execution_count": null,
      "outputs": []
    },
    {
      "cell_type": "markdown",
      "metadata": {
        "id": "FyIT9-u3FAC1"
      },
      "source": [
        "\n",
        "\n",
        "---\n",
        "\n"
      ]
    },
    {
      "cell_type": "markdown",
      "metadata": {
        "id": "dF_RzOkKE5AJ"
      },
      "source": [
        "# Use the equation of the line\n",
        "\n",
        "\n",
        "Below we are using a function from `numpy` that will select the best line that fits the data."
      ]
    },
    {
      "cell_type": "code",
      "metadata": {
        "id": "tWwf3ZIOKsDD"
      },
      "source": [
        "coef=polyfit(x,y,deg=1)\n",
        "p=poly1d(coef)\n",
        "print(\"The equation of the line is\",p)"
      ],
      "execution_count": null,
      "outputs": []
    },
    {
      "cell_type": "markdown",
      "metadata": {
        "id": "oWK0ahTBLoU1"
      },
      "source": [
        "Remember that we had \n",
        "$$ G\\frac{M}{r}=v^2$$ which is of the form \n",
        "$$y=mx+b$$\n",
        "1. What should the y be?\n",
        "\n",
        "2. What should the x be? \n",
        "1. From this equation please determine the value of the Gravitational constant.\n",
        "2. What does it represent in the plot (e.g. how can we identify the G constant from the plot)?\n"
      ]
    },
    {
      "cell_type": "code",
      "metadata": {
        "id": "s4Lv9yyfm7se"
      },
      "source": [
        "# figure(figsize=(6,4),dpi=149)\n",
        "plot(x,y,'o',label='Data')\n",
        "plot(x,p(x),label=r'Fit of {}'.format(p))\n",
        "legend()\n",
        "title(r'$v^2$ vs $\\dfrac{M}{r}$ ',pad=15, size=14)\n",
        "xlabel(r\"$M/r$\",size=12)\n",
        "ylabel(r'$v^2$',rotation=0,labelpad=15,size=12)\n",
        "show()"
      ],
      "execution_count": null,
      "outputs": []
    },
    {
      "cell_type": "markdown",
      "source": [
        "Compare your result with the actual value of G.\n",
        "\n",
        "$$ G= 6.67430 \\times 10^{-11} \\frac{N\\cdot m^2}{kg^2}$$\n"
      ],
      "metadata": {
        "id": "qN6_wqVR0xr5"
      }
    },
    {
      "cell_type": "code",
      "source": [
        ""
      ],
      "metadata": {
        "id": "tA6zev3S1OaU"
      },
      "execution_count": null,
      "outputs": []
    }
  ]
}
