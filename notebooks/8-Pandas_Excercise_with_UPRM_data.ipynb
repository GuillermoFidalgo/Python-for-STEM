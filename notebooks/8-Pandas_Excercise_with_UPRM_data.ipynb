{
  "cells": [
    {
      "cell_type": "markdown",
      "metadata": {
        "colab_type": "text",
        "id": "view-in-github"
      },
      "source": [
        "<a href=\"https://colab.research.google.com/github/GuillermoFidalgo/Python-for-STEM-Teachers-Workshop/blob/master/notebooks/8-Pandas_Excercise_with_UPRM_data.ipynb\" target=\"_parent\"><img src=\"https://colab.research.google.com/assets/colab-badge.svg\" alt=\"Open In Colab\"/></a>"
      ]
    },
    {
      "cell_type": "markdown",
      "metadata": {
        "id": "pUdWu7ILGhNn"
      },
      "source": [
        "# Introduction\n",
        "\n",
        "\n"
      ]
    },
    {
      "cell_type": "markdown",
      "metadata": {
        "id": "xvaH3XV4PXBj"
      },
      "source": [
        "# Importing Libraries \n",
        "\n"
      ]
    },
    {
      "cell_type": "markdown",
      "metadata": {
        "id": "VvbAd7QxMVEk"
      },
      "source": [
        "This only needs to be run once!!\n",
        "\n",
        "Pandas is a Python library used for data manipulation and analysis of numerical tables and time series. Since we will be working with tabulated data we can take advantage of Pandas' extensive modularity and variety of methods to work with tables.\n",
        "\n"
      ]
    },
    {
      "cell_type": "code",
      "execution_count": null,
      "metadata": {
        "id": "HGbzUslePXBw"
      },
      "outputs": [],
      "source": [
        "import pandas as pd  # This imports the Pandas Library and gives it a reference name to access pandas and it's methods"
      ]
    },
    {
      "cell_type": "markdown",
      "metadata": {
        "id": "16ijTDSZPXBx"
      },
      "source": [
        "## Loading in Data\n",
        "\n",
        "There are 3 main ways to upload and access data in Google Colab:\n",
        "\n",
        "\n",
        "1.   From Google Drive (mounting the drive)\n",
        "2.   Directly from your computer\n",
        "3.   Store that data somewhere in the internet and specify it's url (**our method**)\n",
        "\n"
      ]
    },
    {
      "cell_type": "markdown",
      "metadata": {
        "id": "4sXhCkR1xAXO"
      },
      "source": [
        "We are loading a csv file with information about Physics courses that are offered for this semester at UPRM"
      ]
    },
    {
      "cell_type": "markdown",
      "metadata": {
        "id": "HdkCxkPryP54"
      },
      "source": [
        "### Method 1: Google Drive"
      ]
    },
    {
      "cell_type": "code",
      "execution_count": null,
      "metadata": {
        "id": "sJA_hJ9ICHHV"
      },
      "outputs": [],
      "source": [
        "# Data in a Google Drive\n",
        "from google.colab import drive\n",
        "drive.mount('/content/drive')\n",
        "data_in_drive=\"/content/drive/MyDrive/UPRM/STEM Workshop/Feb 2021/Data/emr_horario1_table_data.csv\"\n",
        "\n",
        "\n",
        "df=pd.read_csv(data_in_drive,\n",
        "               encoding=\"iso8859\",\n",
        "               na_values=\"-\") \n",
        "df"
      ]
    },
    {
      "cell_type": "markdown",
      "metadata": {
        "id": "svxK5wQnCHHY"
      },
      "source": [
        "### Method 2: Upload from computer"
      ]
    },
    {
      "cell_type": "code",
      "execution_count": null,
      "metadata": {
        "id": "bwnhccdpCHHZ"
      },
      "outputs": [],
      "source": [
        "# Or just upload the data from your computer to the Session\n",
        "data = \"emr_horario1_table_data.csv\"\n",
        "\n",
        "df=pd.read_csv(data,\n",
        "               na_values=\"-\") \n",
        "df"
      ]
    },
    {
      "cell_type": "markdown",
      "metadata": {
        "id": "aBKCWYQtCHHc"
      },
      "source": [
        "### Method 3: Load from Internet"
      ]
    },
    {
      "cell_type": "markdown",
      "metadata": {
        "id": "IGt0BRhiPN9c"
      },
      "source": [
        "define where the data is located as a string and store it in a variable. \n",
        "for example: \n",
        "`data='data_location' (using single or double quotes)`\n",
        "\n",
        "\n",
        "**Important** \n",
        "\n",
        "Always look at your data beforehand. Be familiar with the structure and what it contains.\n",
        "\n",
        "Also, in case you want to do this with your students, the easiest way is to have the data stored somewhere on the internet and have a link that your students can access. In our case this would be to store the file in a Github Repository and we will access it from there as follows"
      ]
    },
    {
      "cell_type": "code",
      "execution_count": null,
      "metadata": {
        "id": "9dxCbyooPXBy"
      },
      "outputs": [],
      "source": [
        "# Our method (From Internet)\n",
        "data_url=\"https://raw.githubusercontent.com/GuillermoFidalgo/Python-for-STEM-Teachers-Workshop/master/data/emr_horario1_table_data.csv\"\n",
        "\n",
        "\n",
        "#here we load the csv file and specify which row is a header and what is considered as N/A value\n",
        "df=pd.read_csv(data_url,\n",
        "               na_values=\"-\",\n",
        "               encoding=\"utf8\")\n",
        "# normally we don't specify this. To figure out if you need to specify this or not, look at the data.\n",
        "# usual names of encoders are iso8859, utf8 and ascii\n",
        "\n",
        "# For more information about each argument you could hover your cursor over the function until a window appears\n",
        "# you could also put your cursor INSIDE the function and press Ctrl+Shift+Space\n"
      ]
    },
    {
      "cell_type": "markdown",
      "metadata": {
        "id": "VhPRJuMJPXBy"
      },
      "source": [
        "## Let's look at the first 5 entries of the data"
      ]
    },
    {
      "cell_type": "code",
      "execution_count": null,
      "metadata": {
        "colab": {
          "base_uri": "https://localhost:8080/",
          "height": 206
        },
        "id": "ABpg-itbPXBy",
        "outputId": "743450f7-5182-4dc5-95ed-d9cb9e5a4fa3"
      },
      "outputs": [],
      "source": [
        "df.head()"
      ]
    },
    {
      "cell_type": "markdown",
      "metadata": {
        "id": "eltgFLp_PXB0"
      },
      "source": [
        "We don't need the \"Semester\" and the \"?\" columns. Let's filter them out"
      ]
    },
    {
      "cell_type": "code",
      "execution_count": null,
      "metadata": {
        "colab": {
          "base_uri": "https://localhost:8080/"
        },
        "id": "i66zhKKTPXB1",
        "outputId": "70136189-a947-4f92-ee8c-baa0a103f295"
      },
      "outputs": [],
      "source": [
        "# This gives us the names of the colums available\n",
        "print(df.columns)\n"
      ]
    },
    {
      "cell_type": "markdown",
      "metadata": {
        "id": "MsmEIkExzRL-"
      },
      "source": [
        " We want so know some info about the data"
      ]
    },
    {
      "cell_type": "code",
      "execution_count": null,
      "metadata": {
        "colab": {
          "base_uri": "https://localhost:8080/"
        },
        "id": "roSWqaqKzMaf",
        "outputId": "9e255080-aaf9-4836-aee6-ff8262ec8ea8"
      },
      "outputs": [],
      "source": [
        "relevant=df[['Course',\"Course Name\",'Section','Credits',\"Professor\"]]\n",
        "print(relevant.info())"
      ]
    },
    {
      "cell_type": "markdown",
      "metadata": {
        "id": "cojVKvhhPXB1"
      },
      "source": [
        "Pandas can automatically convert the data in each column inteligently by looking at the entries in each column. (In our case from `Object` to `String`"
      ]
    },
    {
      "cell_type": "code",
      "execution_count": null,
      "metadata": {
        "colab": {
          "base_uri": "https://localhost:8080/"
        },
        "id": "ThWKp4sBPXB2",
        "outputId": "6b9e33de-fbbd-4c3b-a1f4-7a21f12b2365"
      },
      "outputs": [],
      "source": [
        "relevant=relevant.convert_dtypes() #This converts the data\n",
        "\n",
        "# Now we can verify and see the information that our dataframe contains\n",
        "print(relevant.info())\n"
      ]
    },
    {
      "cell_type": "markdown",
      "metadata": {
        "id": "sJaCxL1tPXB2"
      },
      "source": [
        "Now that we have the appropiate format we can choose the columns we want to look at, say \"Professor\" and \"Credits\". And we can also filter the incomplete entries by using the `dropna()` method "
      ]
    },
    {
      "cell_type": "code",
      "execution_count": null,
      "metadata": {
        "colab": {
          "base_uri": "https://localhost:8080/"
        },
        "id": "TcqBcOrNPXB3",
        "outputId": "4d046826-1d5d-44a3-f0b7-54d0c30867a8"
      },
      "outputs": [],
      "source": [
        "prf_and_cred=relevant[[\"Professor\",\"Credits\"]].dropna()\n",
        "prf_and_cred.count() #This shows the amount of entries left"
      ]
    },
    {
      "cell_type": "markdown",
      "metadata": {
        "id": "0jhd4VMaPXB3"
      },
      "source": [
        "Let's look at the data we have left"
      ]
    },
    {
      "cell_type": "code",
      "execution_count": null,
      "metadata": {
        "colab": {
          "base_uri": "https://localhost:8080/",
          "height": 424
        },
        "id": "VBYkyUDOPXB4",
        "outputId": "a2a145b1-a73c-4170-cc26-435872bf740d"
      },
      "outputs": [],
      "source": [
        "prf_and_cred"
      ]
    },
    {
      "cell_type": "markdown",
      "metadata": {
        "id": "rqqBR9EbPXB4"
      },
      "source": [
        "# Formatting"
      ]
    },
    {
      "cell_type": "markdown",
      "metadata": {
        "id": "MSU6Nz-_PXB4"
      },
      "source": [
        "We want to know a few things:\n",
        "- How many professors we have\n",
        "- How many sections (groups) are they teaching\n",
        "- How many credits they have"
      ]
    },
    {
      "cell_type": "markdown",
      "metadata": {
        "id": "3dHxZkICPXB4"
      },
      "source": [
        "First we could sort the lists alfabetically (but counting all of those by hand is a bit tedious)"
      ]
    },
    {
      "cell_type": "code",
      "execution_count": null,
      "metadata": {
        "colab": {
          "base_uri": "https://localhost:8080/",
          "height": 424
        },
        "id": "ibYA5WNgeDC5",
        "outputId": "d0f43e4e-5896-4c55-a60b-ed359877053d"
      },
      "outputs": [],
      "source": [
        "sorted=prf_and_cred.sort_values(by=\"Professor\")\n",
        "sorted"
      ]
    },
    {
      "cell_type": "markdown",
      "metadata": {
        "id": "5mrwD8TAPXB5"
      },
      "source": [
        "A smart way to count the amount of professors available is to count them by their unique name.\n",
        "Let's extract the information from the list of names and count them "
      ]
    },
    {
      "cell_type": "code",
      "execution_count": null,
      "metadata": {
        "id": "Xf0y8I0FPXB5"
      },
      "outputs": [],
      "source": [
        "\n",
        "\n",
        "Cred=sorted[\"Credits\"]\n",
        "Prof=sorted[\"Professor\"]\n",
        "\n",
        "\n",
        "# Non sorted\n",
        "# Cred=prf_and_cred[\"Credits\"]\n",
        "\n",
        "# Prof=prf_and_cred[\"Professor\"]\n"
      ]
    },
    {
      "cell_type": "markdown",
      "metadata": {
        "id": "Il3-yevsPXB5"
      },
      "source": [
        "## How many professors do we have ?"
      ]
    },
    {
      "cell_type": "code",
      "execution_count": null,
      "metadata": {
        "colab": {
          "base_uri": "https://localhost:8080/"
        },
        "id": "sko2cLxUPXB6",
        "outputId": "f0c13eda-dd3d-4e03-8e8a-250d4986fd76"
      },
      "outputs": [],
      "source": [
        "Prof.unique()"
      ]
    },
    {
      "cell_type": "markdown",
      "metadata": {
        "id": "vtx5UDmDPXB6"
      },
      "source": [
        "## How many sections do they teach?"
      ]
    },
    {
      "cell_type": "markdown",
      "metadata": {
        "id": "couC0PNOPXB6"
      },
      "source": [
        "Remember what we have so far. `Prof` is a series of names for each section offered."
      ]
    },
    {
      "cell_type": "code",
      "execution_count": null,
      "metadata": {
        "colab": {
          "base_uri": "https://localhost:8080/"
        },
        "id": "S9xN7NuJPXB7",
        "outputId": "74c4b10b-49b5-43d2-9df7-4ba0b4b815a4"
      },
      "outputs": [],
      "source": [
        "Prof"
      ]
    },
    {
      "cell_type": "markdown",
      "metadata": {
        "id": "MYiEAvrjPXB7"
      },
      "source": [
        "For this we have many options, but the simplest and fastest one we have is via a method called `value_counts()`. This will return the amount of times the professor's name appears in the list."
      ]
    },
    {
      "cell_type": "code",
      "execution_count": null,
      "metadata": {
        "colab": {
          "base_uri": "https://localhost:8080/"
        },
        "id": "Td5xc-igPXB7",
        "outputId": "ccabc7b8-2923-420d-9008-1892b408b6c8"
      },
      "outputs": [],
      "source": [
        "Prof.value_counts()"
      ]
    },
    {
      "cell_type": "markdown",
      "metadata": {
        "id": "RgRXVCfVPXB8"
      },
      "source": [
        "This is great!\n",
        "But we can use a plot to show this information in a graphical way"
      ]
    },
    {
      "cell_type": "markdown",
      "metadata": {
        "id": "ysBqOI0GPXB8"
      },
      "source": [
        "### Making a plot \n",
        "We will use Matplotlib's pyplot library for plots"
      ]
    },
    {
      "cell_type": "code",
      "execution_count": null,
      "metadata": {
        "id": "MeXkxBDlPXB8"
      },
      "outputs": [],
      "source": [
        "import matplotlib.pyplot as plt"
      ]
    },
    {
      "cell_type": "markdown",
      "metadata": {
        "id": "bPp8o2CnPXB8"
      },
      "source": [
        "We first need to extract the information in `Prof.value_counts()` somehow. \n",
        "\n",
        "One way is to use `Prof.value_counts().index` to get the names of the professors and use `Prof.value_counts().loc[\"Professor Name\"]` (or `Prof.value_counts().iloc[some number]`) to get the amount of sections.\n",
        "\n",
        "Here is an example"
      ]
    },
    {
      "cell_type": "code",
      "execution_count": null,
      "metadata": {
        "colab": {
          "base_uri": "https://localhost:8080/"
        },
        "id": "9laP0QpUPXB8",
        "outputId": "bf1cd506-b299-423a-94d4-3c7184da0447"
      },
      "outputs": [],
      "source": [
        "R=0 #R indicates the row number in Prof.value_counts() function\n",
        "print(\"Amount of sections for\", Prof.value_counts().index[R], \":\", Prof.value_counts().iloc[R]) \n"
      ]
    },
    {
      "cell_type": "markdown",
      "metadata": {
        "id": "MBGm0B7dPXB9"
      },
      "source": [
        "Let's store this informaiton into two variable called `Names` and `count`."
      ]
    },
    {
      "cell_type": "code",
      "execution_count": null,
      "metadata": {
        "colab": {
          "base_uri": "https://localhost:8080/"
        },
        "id": "g0O1l58_PXB9",
        "outputId": "39bc47f0-cf89-4695-8c3a-22b95064211f"
      },
      "outputs": [],
      "source": [
        "Names=Prof.value_counts().index\n",
        "Count=[i for i in Prof.value_counts()]\n",
        "\n",
        "print(Names,\"\\n\",Count)"
      ]
    },
    {
      "cell_type": "markdown",
      "metadata": {
        "id": "moR_tKd9UQA2"
      },
      "source": [
        "Let's plot Names vs Amount of sections"
      ]
    },
    {
      "cell_type": "code",
      "execution_count": null,
      "metadata": {
        "colab": {
          "base_uri": "https://localhost:8080/",
          "height": 894
        },
        "id": "mwvOCyqoPXB9",
        "outputId": "4a94492f-4241-4f3f-c9ec-0c1edb8cb4d0"
      },
      "outputs": [],
      "source": [
        "plt.figure(figsize=(12,12))\n",
        "plt.barh(Names,Count)\n",
        "plt.xlabel(\"Sections\")\n",
        "plt.grid(axis='x')\n",
        "plt.tight_layout()\n",
        "plt.title(\"Amount of Sections\",fontsize=20)\n",
        "plt.show()"
      ]
    },
    {
      "cell_type": "markdown",
      "metadata": {
        "id": "xJN7LVPyPXB-"
      },
      "source": [
        "Great! we have our plot, but it's kinda dull. Let's use the seaborn library to make the plot look extra nice"
      ]
    },
    {
      "cell_type": "code",
      "execution_count": null,
      "metadata": {
        "id": "jmQ0WXblPXB-"
      },
      "outputs": [],
      "source": [
        "import seaborn as sns"
      ]
    },
    {
      "cell_type": "code",
      "execution_count": null,
      "metadata": {
        "colab": {
          "base_uri": "https://localhost:8080/",
          "height": 903
        },
        "id": "Zym3xnKCPXB-",
        "outputId": "796f082d-a8f5-48b9-8711-b2d92bbced83"
      },
      "outputs": [],
      "source": [
        "plt.figure(figsize=(10,12))\n",
        "sns.countplot(y=Prof)\n",
        "plt.xticks(fontsize=15)\n",
        "plt.yticks(fontsize=12)\n",
        "plt.tight_layout()\n",
        "plt.title(\"Amount of sections\",fontsize=20)\n",
        "plt.ylabel(\"Professor\",fontsize=20)\n",
        "plt.xlabel(\"Count\",fontsize=20)\n",
        "plt.show()"
      ]
    },
    {
      "cell_type": "markdown",
      "metadata": {
        "id": "dcegSfs8PXB-"
      },
      "source": [
        "## How many credits do they have?"
      ]
    },
    {
      "cell_type": "markdown",
      "metadata": {
        "id": "soMZHg-NPXB_"
      },
      "source": [
        "For this we can use a combination of methods from pandas. \n",
        "\n",
        "We will use the `groupby()` method to find the amount of credits each professor has.\n",
        "\n",
        "\n",
        "Here's an example"
      ]
    },
    {
      "cell_type": "code",
      "execution_count": null,
      "metadata": {
        "colab": {
          "base_uri": "https://localhost:8080/",
          "height": 1000
        },
        "id": "HSIH1xQ8PXB_",
        "outputId": "af73cd53-ae85-425a-c881-ea324010c2b7",
        "scrolled": true,
        "tags": []
      },
      "outputs": [],
      "source": [
        "prf_and_cred.groupby(by=\"Professor\").sum()\n"
      ]
    },
    {
      "cell_type": "markdown",
      "metadata": {
        "id": "x6Lj-EF6PXCA"
      },
      "source": [
        "Let's save it in a variable for less typing"
      ]
    },
    {
      "cell_type": "code",
      "execution_count": null,
      "metadata": {
        "id": "5w1GxoWpPXCA"
      },
      "outputs": [],
      "source": [
        "cred_data=prf_and_cred.groupby(by=\"Professor\").sum().Credits\n"
      ]
    },
    {
      "cell_type": "code",
      "execution_count": null,
      "metadata": {
        "colab": {
          "base_uri": "https://localhost:8080/"
        },
        "id": "oxlJf50NPXCA",
        "outputId": "20632623-6cb9-4942-cb41-9a7b28272a1e",
        "scrolled": true,
        "tags": []
      },
      "outputs": [],
      "source": [
        "cred_data"
      ]
    },
    {
      "cell_type": "markdown",
      "metadata": {
        "id": "Zt-0AH0wPXCA"
      },
      "source": [
        "### Bar plot of Professors and Credits"
      ]
    },
    {
      "cell_type": "code",
      "execution_count": null,
      "metadata": {
        "colab": {
          "base_uri": "https://localhost:8080/",
          "height": 873
        },
        "id": "EFkz1RcmPXCB",
        "outputId": "3aefe7d9-f46c-4110-e788-68d898dcc82b"
      },
      "outputs": [],
      "source": [
        "plt.figure(figsize=(10,12))\n",
        "plt.grid()\n",
        "sns.barplot(x=cred_data,y=cred_data.index)\n",
        "plt.xticks(ticks=range(0,max(cred_data)+1),fontsize=10)\n",
        "plt.title(\"Amount of credits\",fontsize=15)\n",
        "plt.tight_layout()\n",
        "plt.show()"
      ]
    },
    {
      "cell_type": "markdown",
      "metadata": {},
      "source": [
        "# Credits"
      ]
    },
    {
      "cell_type": "markdown",
      "metadata": {},
      "source": [
        "This material has been made available by [Guillermo Fidalgo](https://github.com/GuillermoFidalgo) for educational purposes.\n",
        "Please feel free to copy and teach with this material, I only ask for appropiate credit."
      ]
    }
  ],
  "metadata": {
    "colab": {
      "collapsed_sections": [],
      "include_colab_link": true,
      "name": "Pandas Excercise with UPRM data .ipynb",
      "provenance": [],
      "toc_visible": true
    },
    "kernelspec": {
      "display_name": "Python 3 (ipykernel)",
      "language": "python",
      "name": "python3"
    },
    "language_info": {
      "codemirror_mode": {
        "name": "ipython",
        "version": 3
      },
      "file_extension": ".py",
      "mimetype": "text/x-python",
      "name": "python",
      "nbconvert_exporter": "python",
      "pygments_lexer": "ipython3",
      "version": "3.8.5"
    }
  },
  "nbformat": 4,
  "nbformat_minor": 0
}
