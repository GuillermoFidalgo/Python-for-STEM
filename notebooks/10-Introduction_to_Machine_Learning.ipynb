{
  "cells": [
    {
      "cell_type": "markdown",
      "metadata": {
        "colab_type": "text",
        "id": "view-in-github"
      },
      "source": [
        "<a href=\"https://colab.research.google.com/github/GuillermoFidalgo/Python-for-STEM-Teachers-Workshop/blob/master/notebooks/10-Introduction_to_Machine_Learning.ipynb\" target=\"_parent\"><img src=\"https://colab.research.google.com/assets/colab-badge.svg\" alt=\"Open In Colab\"/></a>"
      ]
    },
    {
      "cell_type": "markdown",
      "metadata": {
        "id": "CqZzVlPPDCfs"
      },
      "source": [
        "# Machine Learning Module\n",
        "\n",
        "This notebook/module is intended for every individual who have a principal interest or need to apply Data Science concepts and Machine Learning algorithms in their field. All the information on this module is based on \"Data Mining: The Text Book\" by Charu C. Aggarwal."
      ]
    },
    {
      "cell_type": "markdown",
      "metadata": {
        "id": "RGktHRoGDCfy",
        "toc": true
      },
      "source": [
        "<h1>Table of Contents<span class=\"tocSkip\"></span></h1>\n",
        "<div class=\"toc\"><ul class=\"toc-item\"><li><span><a href=\"#Machine-Learning-Module\" data-toc-modified-id=\"Machine-Learning-Module-1\"><span class=\"toc-item-num\">1&nbsp;&nbsp;</span>Machine Learning Module</a></span><ul class=\"toc-item\"><li><ul class=\"toc-item\"><li><span><a href=\"#Imports\" data-toc-modified-id=\"Imports-1.0.1\"><span class=\"toc-item-num\">1.0.1&nbsp;&nbsp;</span>Imports</a></span></li></ul></li><li><span><a href=\"#Data-Wrangling\" data-toc-modified-id=\"Data-Wrangling-1.1\"><span class=\"toc-item-num\">1.1&nbsp;&nbsp;</span>Data Wrangling</a></span><ul class=\"toc-item\"><li><span><a href=\"#Data-Exploratory-Analysis\" data-toc-modified-id=\"Data-Exploratory-Analysis-1.1.1\"><span class=\"toc-item-num\">1.1.1&nbsp;&nbsp;</span>Data Exploratory Analysis</a></span></li></ul></li><li><span><a href=\"#Linear-Regression\" data-toc-modified-id=\"Linear-Regression-1.2\"><span class=\"toc-item-num\">1.2&nbsp;&nbsp;</span>Linear Regression</a></span></li><li><span><a href=\"#Multiple-Linear-Regression\" data-toc-modified-id=\"Multiple-Linear-Regression-1.3\"><span class=\"toc-item-num\">1.3&nbsp;&nbsp;</span>Multiple Linear Regression</a></span><ul class=\"toc-item\"><li><span><a href=\"#Multiple-Linear-Regression-with-three-variables-(attributes/features)\" data-toc-modified-id=\"Multiple-Linear-Regression-with-three-variables-(attributes/features)-1.3.1\"><span class=\"toc-item-num\">1.3.1&nbsp;&nbsp;</span>Multiple Linear Regression with three variables (attributes/features)</a></span></li><li><span><a href=\"#Multiple-Linear-Regression-with-more-than-three-variables\" data-toc-modified-id=\"Multiple-Linear-Regression-with-more-than-three-variables-1.3.2\"><span class=\"toc-item-num\">1.3.2&nbsp;&nbsp;</span>Multiple Linear Regression with more than three variables</a></span></li></ul></li></ul></li></ul></div>"
      ]
    },
    {
      "cell_type": "markdown",
      "metadata": {
        "id": "vBY11JkfDCfz"
      },
      "source": [
        "### Imports\n",
        "Import libraries"
      ]
    },
    {
      "cell_type": "code",
      "execution_count": null,
      "metadata": {
        "colab": {
          "base_uri": "https://localhost:8080/"
        },
        "id": "Kq-bAPptDCf0",
        "outputId": "370c6273-532a-4b58-b0d5-d1a57fa7909a"
      },
      "outputs": [
        {
          "name": "stderr",
          "output_type": "stream",
          "text": [
            "/usr/local/lib/python3.6/dist-packages/statsmodels/tools/_testing.py:19: FutureWarning: pandas.util.testing is deprecated. Use the functions in the public API at pandas.testing instead.\n",
            "  import pandas.util.testing as tm\n"
          ]
        }
      ],
      "source": [
        "import pandas as pd # Data manipulation\n",
        "import numpy as np # Matrix operations \n",
        "import statsmodels.formula.api as smf # Statistics\n",
        "import matplotlib.pyplot as plt \n",
        "import seaborn as sns \n",
        "import matplotlib.style as style \n",
        "from pandas.plotting import scatter_matrix \n",
        "# Options for pandas\n",
        "pd.options.display.max_columns = 50\n",
        "pd.options.display.max_rows = 30\n",
        "# Display all cell outputs\n",
        "from IPython.core.interactiveshell import InteractiveShell\n",
        "InteractiveShell.ast_node_interactivity = 'all'\n",
        "from IPython import get_ipython\n",
        "ipython = get_ipython()\n",
        "# autoreload extension\n",
        "if 'autoreload' not in ipython.extension_manager.loaded:\n",
        "    %load_ext autoreload\n",
        "%autoreload 2\n",
        "\n"
      ]
    },
    {
      "cell_type": "markdown",
      "metadata": {
        "id": "0oYlCrgKDCf0"
      },
      "source": [
        "## Data Wrangling\n",
        "\n",
        "Data wrangling is the process where you manipulate the data in your favour, without dismissing any value and mantaining the \"sense and meaning\" of the data set. In this step, you analyze your data to find and replace missing values acording to different techniques, clean the data, and transform it. \n"
      ]
    },
    {
      "cell_type": "markdown",
      "metadata": {
        "id": "ZysKkU6CDCf1"
      },
      "source": [
        "### Data Exploratory Analysis\n",
        "\n",
        "Data Explotary Analysis (EDA), is a process perform to get insights about what your data is trying to say. This includes visualizing the data, finding the correlations, knowing the amount of missing values, which attributes does not have a big weight on the outcome, etc. \n",
        "\n",
        "In the following step, we use Pandas module to read our csv file, where our data is stored. There are many ways to export and/or read our data, from JSON, CSV, Text files, to SQL and Databases queries. Depending where your data is coming from, it dictates the way you are going to read it. \n",
        "\n",
        "Here we have an example of multi-dimensional data, a commun Data Frame which consists of rows and columns. Each column is an attribute, as you can see that each one is named. Each row is a different item that contains all the attributes established by the columns. You can perform the function .head() every time you want to display the first rows of your data frame. \n",
        "\n",
        "For the purpose of this analysis, we are using a Pollution data set. Please visit the site where the data set is located to get an insight of the variables and what they represent. "
      ]
    },
    {
      "cell_type": "code",
      "execution_count": null,
      "metadata": {
        "colab": {
          "base_uri": "https://localhost:8080/",
          "height": 206
        },
        "id": "MSO6bhMzDCf1",
        "outputId": "6924b998-1614-46f0-db2d-1ee106b8617e"
      },
      "outputs": [
        {
          "data": {
            "text/html": [
              "<div>\n",
              "<style scoped>\n",
              "    .dataframe tbody tr th:only-of-type {\n",
              "        vertical-align: middle;\n",
              "    }\n",
              "\n",
              "    .dataframe tbody tr th {\n",
              "        vertical-align: top;\n",
              "    }\n",
              "\n",
              "    .dataframe thead th {\n",
              "        text-align: right;\n",
              "    }\n",
              "</style>\n",
              "<table border=\"1\" class=\"dataframe\">\n",
              "  <thead>\n",
              "    <tr style=\"text-align: right;\">\n",
              "      <th></th>\n",
              "      <th>PREC</th>\n",
              "      <th>JANT</th>\n",
              "      <th>JULT</th>\n",
              "      <th>OVR</th>\n",
              "      <th>POPN</th>\n",
              "      <th>EDUC</th>\n",
              "      <th>HOUS</th>\n",
              "      <th>DENS</th>\n",
              "      <th>NONW</th>\n",
              "      <th>WWDRK</th>\n",
              "      <th>POOR</th>\n",
              "      <th>HC</th>\n",
              "      <th>NOX</th>\n",
              "      <th>SOA</th>\n",
              "      <th>HUMID</th>\n",
              "      <th>MORT</th>\n",
              "    </tr>\n",
              "  </thead>\n",
              "  <tbody>\n",
              "    <tr>\n",
              "      <th>0</th>\n",
              "      <td>36</td>\n",
              "      <td>27</td>\n",
              "      <td>71</td>\n",
              "      <td>8.1</td>\n",
              "      <td>3.34</td>\n",
              "      <td>11.4</td>\n",
              "      <td>81.5</td>\n",
              "      <td>3243</td>\n",
              "      <td>8.8</td>\n",
              "      <td>42.6</td>\n",
              "      <td>11.7</td>\n",
              "      <td>21</td>\n",
              "      <td>15</td>\n",
              "      <td>59</td>\n",
              "      <td>59</td>\n",
              "      <td>921.87</td>\n",
              "    </tr>\n",
              "    <tr>\n",
              "      <th>1</th>\n",
              "      <td>35</td>\n",
              "      <td>23</td>\n",
              "      <td>72</td>\n",
              "      <td>11.1</td>\n",
              "      <td>3.14</td>\n",
              "      <td>11.0</td>\n",
              "      <td>78.8</td>\n",
              "      <td>4281</td>\n",
              "      <td>3.5</td>\n",
              "      <td>50.7</td>\n",
              "      <td>14.4</td>\n",
              "      <td>8</td>\n",
              "      <td>10</td>\n",
              "      <td>39</td>\n",
              "      <td>57</td>\n",
              "      <td>997.88</td>\n",
              "    </tr>\n",
              "    <tr>\n",
              "      <th>2</th>\n",
              "      <td>44</td>\n",
              "      <td>29</td>\n",
              "      <td>74</td>\n",
              "      <td>10.4</td>\n",
              "      <td>3.21</td>\n",
              "      <td>9.8</td>\n",
              "      <td>81.6</td>\n",
              "      <td>4260</td>\n",
              "      <td>0.8</td>\n",
              "      <td>39.4</td>\n",
              "      <td>12.4</td>\n",
              "      <td>6</td>\n",
              "      <td>6</td>\n",
              "      <td>33</td>\n",
              "      <td>54</td>\n",
              "      <td>962.35</td>\n",
              "    </tr>\n",
              "    <tr>\n",
              "      <th>3</th>\n",
              "      <td>47</td>\n",
              "      <td>45</td>\n",
              "      <td>79</td>\n",
              "      <td>6.5</td>\n",
              "      <td>3.41</td>\n",
              "      <td>11.1</td>\n",
              "      <td>77.5</td>\n",
              "      <td>3125</td>\n",
              "      <td>27.1</td>\n",
              "      <td>50.2</td>\n",
              "      <td>20.6</td>\n",
              "      <td>18</td>\n",
              "      <td>8</td>\n",
              "      <td>24</td>\n",
              "      <td>56</td>\n",
              "      <td>982.29</td>\n",
              "    </tr>\n",
              "    <tr>\n",
              "      <th>4</th>\n",
              "      <td>43</td>\n",
              "      <td>35</td>\n",
              "      <td>77</td>\n",
              "      <td>7.6</td>\n",
              "      <td>3.44</td>\n",
              "      <td>9.6</td>\n",
              "      <td>84.6</td>\n",
              "      <td>6441</td>\n",
              "      <td>24.4</td>\n",
              "      <td>43.7</td>\n",
              "      <td>14.3</td>\n",
              "      <td>43</td>\n",
              "      <td>38</td>\n",
              "      <td>206</td>\n",
              "      <td>55</td>\n",
              "      <td>1071.29</td>\n",
              "    </tr>\n",
              "  </tbody>\n",
              "</table>\n",
              "</div>"
            ],
            "text/plain": [
              "   PREC  JANT  JULT   OVR  POPN  EDUC  HOUS  DENS  NONW  WWDRK  POOR  HC  NOX  \\\n",
              "0    36    27    71   8.1  3.34  11.4  81.5  3243   8.8   42.6  11.7  21   15   \n",
              "1    35    23    72  11.1  3.14  11.0  78.8  4281   3.5   50.7  14.4   8   10   \n",
              "2    44    29    74  10.4  3.21   9.8  81.6  4260   0.8   39.4  12.4   6    6   \n",
              "3    47    45    79   6.5  3.41  11.1  77.5  3125  27.1   50.2  20.6  18    8   \n",
              "4    43    35    77   7.6  3.44   9.6  84.6  6441  24.4   43.7  14.3  43   38   \n",
              "\n",
              "   SOA  HUMID     MORT  \n",
              "0   59     59   921.87  \n",
              "1   39     57   997.88  \n",
              "2   33     54   962.35  \n",
              "3   24     56   982.29  \n",
              "4  206     55  1071.29  "
            ]
          },
          "execution_count": 2,
          "metadata": {
            "tags": []
          },
          "output_type": "execute_result"
        }
      ],
      "source": [
        "data = pd.read_csv(\"https://www4.stat.ncsu.edu/~boos/var.select/pollution.data.txt\", delimiter=\"\\s+\")\n",
        "\n",
        "\n",
        "\n",
        "data.columns = [\"PREC\", \"JANT\", \"JULT\", \"OVR\", \"POPN\", \"EDUC\", \"HOUS\", \"DENS\", \"NONW\", \"WWDRK\", \"POOR\", \"HC\", \"NOX\", \"SOA\", \"HUMID\", \"MORT\" ]\n",
        "\n",
        "data.head()\n"
      ]
    },
    {
      "cell_type": "markdown",
      "metadata": {
        "id": "mJ3jzK5aDCf3"
      },
      "source": [
        "Now, the method .head() allows you to visualize the first 5 rows of the data. You can change that by writing a number inside the parenthesis.\n",
        "Try it in the next cell.\n"
      ]
    },
    {
      "cell_type": "code",
      "execution_count": null,
      "metadata": {
        "colab": {
          "base_uri": "https://localhost:8080/",
          "height": 677
        },
        "id": "3kCDYx1hDCf4",
        "outputId": "921b59bf-ceea-402b-9d45-11eabf4692df",
        "scrolled": false
      },
      "outputs": [
        {
          "data": {
            "text/html": [
              "<div>\n",
              "<style scoped>\n",
              "    .dataframe tbody tr th:only-of-type {\n",
              "        vertical-align: middle;\n",
              "    }\n",
              "\n",
              "    .dataframe tbody tr th {\n",
              "        vertical-align: top;\n",
              "    }\n",
              "\n",
              "    .dataframe thead th {\n",
              "        text-align: right;\n",
              "    }\n",
              "</style>\n",
              "<table border=\"1\" class=\"dataframe\">\n",
              "  <thead>\n",
              "    <tr style=\"text-align: right;\">\n",
              "      <th></th>\n",
              "      <th>PREC</th>\n",
              "      <th>JANT</th>\n",
              "      <th>JULT</th>\n",
              "      <th>OVR</th>\n",
              "      <th>POPN</th>\n",
              "      <th>EDUC</th>\n",
              "      <th>HOUS</th>\n",
              "      <th>DENS</th>\n",
              "      <th>NONW</th>\n",
              "      <th>WWDRK</th>\n",
              "      <th>POOR</th>\n",
              "      <th>HC</th>\n",
              "      <th>NOX</th>\n",
              "      <th>SOA</th>\n",
              "      <th>HUMID</th>\n",
              "      <th>MORT</th>\n",
              "    </tr>\n",
              "  </thead>\n",
              "  <tbody>\n",
              "    <tr>\n",
              "      <th>0</th>\n",
              "      <td>36</td>\n",
              "      <td>27</td>\n",
              "      <td>71</td>\n",
              "      <td>8.1</td>\n",
              "      <td>3.34</td>\n",
              "      <td>11.4</td>\n",
              "      <td>81.5</td>\n",
              "      <td>3243</td>\n",
              "      <td>8.8</td>\n",
              "      <td>42.6</td>\n",
              "      <td>11.7</td>\n",
              "      <td>21</td>\n",
              "      <td>15</td>\n",
              "      <td>59</td>\n",
              "      <td>59</td>\n",
              "      <td>921.87</td>\n",
              "    </tr>\n",
              "    <tr>\n",
              "      <th>1</th>\n",
              "      <td>35</td>\n",
              "      <td>23</td>\n",
              "      <td>72</td>\n",
              "      <td>11.1</td>\n",
              "      <td>3.14</td>\n",
              "      <td>11.0</td>\n",
              "      <td>78.8</td>\n",
              "      <td>4281</td>\n",
              "      <td>3.5</td>\n",
              "      <td>50.7</td>\n",
              "      <td>14.4</td>\n",
              "      <td>8</td>\n",
              "      <td>10</td>\n",
              "      <td>39</td>\n",
              "      <td>57</td>\n",
              "      <td>997.88</td>\n",
              "    </tr>\n",
              "    <tr>\n",
              "      <th>2</th>\n",
              "      <td>44</td>\n",
              "      <td>29</td>\n",
              "      <td>74</td>\n",
              "      <td>10.4</td>\n",
              "      <td>3.21</td>\n",
              "      <td>9.8</td>\n",
              "      <td>81.6</td>\n",
              "      <td>4260</td>\n",
              "      <td>0.8</td>\n",
              "      <td>39.4</td>\n",
              "      <td>12.4</td>\n",
              "      <td>6</td>\n",
              "      <td>6</td>\n",
              "      <td>33</td>\n",
              "      <td>54</td>\n",
              "      <td>962.35</td>\n",
              "    </tr>\n",
              "    <tr>\n",
              "      <th>3</th>\n",
              "      <td>47</td>\n",
              "      <td>45</td>\n",
              "      <td>79</td>\n",
              "      <td>6.5</td>\n",
              "      <td>3.41</td>\n",
              "      <td>11.1</td>\n",
              "      <td>77.5</td>\n",
              "      <td>3125</td>\n",
              "      <td>27.1</td>\n",
              "      <td>50.2</td>\n",
              "      <td>20.6</td>\n",
              "      <td>18</td>\n",
              "      <td>8</td>\n",
              "      <td>24</td>\n",
              "      <td>56</td>\n",
              "      <td>982.29</td>\n",
              "    </tr>\n",
              "    <tr>\n",
              "      <th>4</th>\n",
              "      <td>43</td>\n",
              "      <td>35</td>\n",
              "      <td>77</td>\n",
              "      <td>7.6</td>\n",
              "      <td>3.44</td>\n",
              "      <td>9.6</td>\n",
              "      <td>84.6</td>\n",
              "      <td>6441</td>\n",
              "      <td>24.4</td>\n",
              "      <td>43.7</td>\n",
              "      <td>14.3</td>\n",
              "      <td>43</td>\n",
              "      <td>38</td>\n",
              "      <td>206</td>\n",
              "      <td>55</td>\n",
              "      <td>1071.29</td>\n",
              "    </tr>\n",
              "    <tr>\n",
              "      <th>5</th>\n",
              "      <td>53</td>\n",
              "      <td>45</td>\n",
              "      <td>80</td>\n",
              "      <td>7.7</td>\n",
              "      <td>3.45</td>\n",
              "      <td>10.2</td>\n",
              "      <td>66.8</td>\n",
              "      <td>3325</td>\n",
              "      <td>38.5</td>\n",
              "      <td>43.1</td>\n",
              "      <td>25.5</td>\n",
              "      <td>30</td>\n",
              "      <td>32</td>\n",
              "      <td>72</td>\n",
              "      <td>54</td>\n",
              "      <td>1030.38</td>\n",
              "    </tr>\n",
              "    <tr>\n",
              "      <th>6</th>\n",
              "      <td>43</td>\n",
              "      <td>30</td>\n",
              "      <td>74</td>\n",
              "      <td>10.9</td>\n",
              "      <td>3.23</td>\n",
              "      <td>12.1</td>\n",
              "      <td>83.9</td>\n",
              "      <td>4679</td>\n",
              "      <td>3.5</td>\n",
              "      <td>49.2</td>\n",
              "      <td>11.3</td>\n",
              "      <td>21</td>\n",
              "      <td>32</td>\n",
              "      <td>62</td>\n",
              "      <td>56</td>\n",
              "      <td>934.70</td>\n",
              "    </tr>\n",
              "    <tr>\n",
              "      <th>7</th>\n",
              "      <td>45</td>\n",
              "      <td>30</td>\n",
              "      <td>73</td>\n",
              "      <td>9.3</td>\n",
              "      <td>3.29</td>\n",
              "      <td>10.6</td>\n",
              "      <td>86.0</td>\n",
              "      <td>2140</td>\n",
              "      <td>5.3</td>\n",
              "      <td>40.4</td>\n",
              "      <td>10.5</td>\n",
              "      <td>6</td>\n",
              "      <td>4</td>\n",
              "      <td>4</td>\n",
              "      <td>56</td>\n",
              "      <td>899.53</td>\n",
              "    </tr>\n",
              "    <tr>\n",
              "      <th>8</th>\n",
              "      <td>36</td>\n",
              "      <td>24</td>\n",
              "      <td>70</td>\n",
              "      <td>9.0</td>\n",
              "      <td>3.31</td>\n",
              "      <td>10.5</td>\n",
              "      <td>83.2</td>\n",
              "      <td>6582</td>\n",
              "      <td>8.1</td>\n",
              "      <td>42.5</td>\n",
              "      <td>12.6</td>\n",
              "      <td>18</td>\n",
              "      <td>12</td>\n",
              "      <td>37</td>\n",
              "      <td>61</td>\n",
              "      <td>1001.90</td>\n",
              "    </tr>\n",
              "    <tr>\n",
              "      <th>9</th>\n",
              "      <td>36</td>\n",
              "      <td>27</td>\n",
              "      <td>72</td>\n",
              "      <td>9.5</td>\n",
              "      <td>3.36</td>\n",
              "      <td>10.7</td>\n",
              "      <td>79.3</td>\n",
              "      <td>4213</td>\n",
              "      <td>6.7</td>\n",
              "      <td>41.0</td>\n",
              "      <td>13.2</td>\n",
              "      <td>12</td>\n",
              "      <td>7</td>\n",
              "      <td>20</td>\n",
              "      <td>59</td>\n",
              "      <td>912.35</td>\n",
              "    </tr>\n",
              "    <tr>\n",
              "      <th>10</th>\n",
              "      <td>52</td>\n",
              "      <td>42</td>\n",
              "      <td>79</td>\n",
              "      <td>7.7</td>\n",
              "      <td>3.39</td>\n",
              "      <td>9.6</td>\n",
              "      <td>69.2</td>\n",
              "      <td>2302</td>\n",
              "      <td>22.2</td>\n",
              "      <td>41.3</td>\n",
              "      <td>24.2</td>\n",
              "      <td>18</td>\n",
              "      <td>8</td>\n",
              "      <td>27</td>\n",
              "      <td>56</td>\n",
              "      <td>1017.61</td>\n",
              "    </tr>\n",
              "    <tr>\n",
              "      <th>11</th>\n",
              "      <td>33</td>\n",
              "      <td>26</td>\n",
              "      <td>76</td>\n",
              "      <td>8.6</td>\n",
              "      <td>3.20</td>\n",
              "      <td>10.9</td>\n",
              "      <td>83.4</td>\n",
              "      <td>6122</td>\n",
              "      <td>16.3</td>\n",
              "      <td>44.9</td>\n",
              "      <td>10.7</td>\n",
              "      <td>88</td>\n",
              "      <td>63</td>\n",
              "      <td>278</td>\n",
              "      <td>58</td>\n",
              "      <td>1024.89</td>\n",
              "    </tr>\n",
              "    <tr>\n",
              "      <th>12</th>\n",
              "      <td>40</td>\n",
              "      <td>34</td>\n",
              "      <td>77</td>\n",
              "      <td>9.2</td>\n",
              "      <td>3.21</td>\n",
              "      <td>10.2</td>\n",
              "      <td>77.0</td>\n",
              "      <td>4101</td>\n",
              "      <td>13.0</td>\n",
              "      <td>45.7</td>\n",
              "      <td>15.1</td>\n",
              "      <td>26</td>\n",
              "      <td>26</td>\n",
              "      <td>146</td>\n",
              "      <td>57</td>\n",
              "      <td>970.47</td>\n",
              "    </tr>\n",
              "    <tr>\n",
              "      <th>13</th>\n",
              "      <td>35</td>\n",
              "      <td>28</td>\n",
              "      <td>71</td>\n",
              "      <td>8.8</td>\n",
              "      <td>3.29</td>\n",
              "      <td>11.1</td>\n",
              "      <td>86.3</td>\n",
              "      <td>3042</td>\n",
              "      <td>14.7</td>\n",
              "      <td>44.6</td>\n",
              "      <td>11.4</td>\n",
              "      <td>31</td>\n",
              "      <td>21</td>\n",
              "      <td>64</td>\n",
              "      <td>60</td>\n",
              "      <td>985.95</td>\n",
              "    </tr>\n",
              "    <tr>\n",
              "      <th>14</th>\n",
              "      <td>37</td>\n",
              "      <td>31</td>\n",
              "      <td>75</td>\n",
              "      <td>8.0</td>\n",
              "      <td>3.26</td>\n",
              "      <td>11.9</td>\n",
              "      <td>78.4</td>\n",
              "      <td>4259</td>\n",
              "      <td>13.1</td>\n",
              "      <td>49.6</td>\n",
              "      <td>13.9</td>\n",
              "      <td>23</td>\n",
              "      <td>9</td>\n",
              "      <td>15</td>\n",
              "      <td>58</td>\n",
              "      <td>958.84</td>\n",
              "    </tr>\n",
              "    <tr>\n",
              "      <th>15</th>\n",
              "      <td>35</td>\n",
              "      <td>46</td>\n",
              "      <td>85</td>\n",
              "      <td>7.1</td>\n",
              "      <td>3.22</td>\n",
              "      <td>11.8</td>\n",
              "      <td>79.9</td>\n",
              "      <td>1441</td>\n",
              "      <td>14.8</td>\n",
              "      <td>51.2</td>\n",
              "      <td>16.1</td>\n",
              "      <td>1</td>\n",
              "      <td>1</td>\n",
              "      <td>1</td>\n",
              "      <td>54</td>\n",
              "      <td>860.10</td>\n",
              "    </tr>\n",
              "    <tr>\n",
              "      <th>16</th>\n",
              "      <td>36</td>\n",
              "      <td>30</td>\n",
              "      <td>75</td>\n",
              "      <td>7.5</td>\n",
              "      <td>3.35</td>\n",
              "      <td>11.4</td>\n",
              "      <td>81.9</td>\n",
              "      <td>4029</td>\n",
              "      <td>12.4</td>\n",
              "      <td>44.0</td>\n",
              "      <td>12.0</td>\n",
              "      <td>6</td>\n",
              "      <td>4</td>\n",
              "      <td>16</td>\n",
              "      <td>58</td>\n",
              "      <td>936.23</td>\n",
              "    </tr>\n",
              "    <tr>\n",
              "      <th>17</th>\n",
              "      <td>15</td>\n",
              "      <td>30</td>\n",
              "      <td>73</td>\n",
              "      <td>8.2</td>\n",
              "      <td>3.15</td>\n",
              "      <td>12.2</td>\n",
              "      <td>84.2</td>\n",
              "      <td>4824</td>\n",
              "      <td>4.7</td>\n",
              "      <td>53.1</td>\n",
              "      <td>12.7</td>\n",
              "      <td>17</td>\n",
              "      <td>8</td>\n",
              "      <td>28</td>\n",
              "      <td>38</td>\n",
              "      <td>871.77</td>\n",
              "    </tr>\n",
              "    <tr>\n",
              "      <th>18</th>\n",
              "      <td>31</td>\n",
              "      <td>27</td>\n",
              "      <td>74</td>\n",
              "      <td>7.2</td>\n",
              "      <td>3.44</td>\n",
              "      <td>10.8</td>\n",
              "      <td>87.0</td>\n",
              "      <td>4834</td>\n",
              "      <td>15.8</td>\n",
              "      <td>43.5</td>\n",
              "      <td>13.6</td>\n",
              "      <td>52</td>\n",
              "      <td>35</td>\n",
              "      <td>124</td>\n",
              "      <td>59</td>\n",
              "      <td>959.22</td>\n",
              "    </tr>\n",
              "    <tr>\n",
              "      <th>19</th>\n",
              "      <td>30</td>\n",
              "      <td>24</td>\n",
              "      <td>72</td>\n",
              "      <td>6.5</td>\n",
              "      <td>3.53</td>\n",
              "      <td>10.8</td>\n",
              "      <td>79.5</td>\n",
              "      <td>3694</td>\n",
              "      <td>13.1</td>\n",
              "      <td>33.8</td>\n",
              "      <td>12.4</td>\n",
              "      <td>11</td>\n",
              "      <td>4</td>\n",
              "      <td>11</td>\n",
              "      <td>61</td>\n",
              "      <td>941.18</td>\n",
              "    </tr>\n",
              "  </tbody>\n",
              "</table>\n",
              "</div>"
            ],
            "text/plain": [
              "    PREC  JANT  JULT   OVR  POPN  EDUC  HOUS  DENS  NONW  WWDRK  POOR  HC  \\\n",
              "0     36    27    71   8.1  3.34  11.4  81.5  3243   8.8   42.6  11.7  21   \n",
              "1     35    23    72  11.1  3.14  11.0  78.8  4281   3.5   50.7  14.4   8   \n",
              "2     44    29    74  10.4  3.21   9.8  81.6  4260   0.8   39.4  12.4   6   \n",
              "3     47    45    79   6.5  3.41  11.1  77.5  3125  27.1   50.2  20.6  18   \n",
              "4     43    35    77   7.6  3.44   9.6  84.6  6441  24.4   43.7  14.3  43   \n",
              "5     53    45    80   7.7  3.45  10.2  66.8  3325  38.5   43.1  25.5  30   \n",
              "6     43    30    74  10.9  3.23  12.1  83.9  4679   3.5   49.2  11.3  21   \n",
              "7     45    30    73   9.3  3.29  10.6  86.0  2140   5.3   40.4  10.5   6   \n",
              "8     36    24    70   9.0  3.31  10.5  83.2  6582   8.1   42.5  12.6  18   \n",
              "9     36    27    72   9.5  3.36  10.7  79.3  4213   6.7   41.0  13.2  12   \n",
              "10    52    42    79   7.7  3.39   9.6  69.2  2302  22.2   41.3  24.2  18   \n",
              "11    33    26    76   8.6  3.20  10.9  83.4  6122  16.3   44.9  10.7  88   \n",
              "12    40    34    77   9.2  3.21  10.2  77.0  4101  13.0   45.7  15.1  26   \n",
              "13    35    28    71   8.8  3.29  11.1  86.3  3042  14.7   44.6  11.4  31   \n",
              "14    37    31    75   8.0  3.26  11.9  78.4  4259  13.1   49.6  13.9  23   \n",
              "15    35    46    85   7.1  3.22  11.8  79.9  1441  14.8   51.2  16.1   1   \n",
              "16    36    30    75   7.5  3.35  11.4  81.9  4029  12.4   44.0  12.0   6   \n",
              "17    15    30    73   8.2  3.15  12.2  84.2  4824   4.7   53.1  12.7  17   \n",
              "18    31    27    74   7.2  3.44  10.8  87.0  4834  15.8   43.5  13.6  52   \n",
              "19    30    24    72   6.5  3.53  10.8  79.5  3694  13.1   33.8  12.4  11   \n",
              "\n",
              "    NOX  SOA  HUMID     MORT  \n",
              "0    15   59     59   921.87  \n",
              "1    10   39     57   997.88  \n",
              "2     6   33     54   962.35  \n",
              "3     8   24     56   982.29  \n",
              "4    38  206     55  1071.29  \n",
              "5    32   72     54  1030.38  \n",
              "6    32   62     56   934.70  \n",
              "7     4    4     56   899.53  \n",
              "8    12   37     61  1001.90  \n",
              "9     7   20     59   912.35  \n",
              "10    8   27     56  1017.61  \n",
              "11   63  278     58  1024.89  \n",
              "12   26  146     57   970.47  \n",
              "13   21   64     60   985.95  \n",
              "14    9   15     58   958.84  \n",
              "15    1    1     54   860.10  \n",
              "16    4   16     58   936.23  \n",
              "17    8   28     38   871.77  \n",
              "18   35  124     59   959.22  \n",
              "19    4   11     61   941.18  "
            ]
          },
          "execution_count": 3,
          "metadata": {
            "tags": []
          },
          "output_type": "execute_result"
        }
      ],
      "source": [
        "data.head( 20 )  #Put any number inside the parenthesis"
      ]
    },
    {
      "cell_type": "markdown",
      "metadata": {
        "id": "Bfxqasg3DCf5"
      },
      "source": [
        "Now, we check the statistics of our data set with the .describe method that the module Pandas provide. "
      ]
    },
    {
      "cell_type": "code",
      "execution_count": null,
      "metadata": {
        "id": "7UoSmEdiDCf5",
        "outputId": "18d44cf7-53e3-4316-cc86-9b52cab1307e"
      },
      "outputs": [
        {
          "data": {
            "text/html": [
              "<div>\n",
              "<style scoped>\n",
              "    .dataframe tbody tr th:only-of-type {\n",
              "        vertical-align: middle;\n",
              "    }\n",
              "\n",
              "    .dataframe tbody tr th {\n",
              "        vertical-align: top;\n",
              "    }\n",
              "\n",
              "    .dataframe thead th {\n",
              "        text-align: right;\n",
              "    }\n",
              "</style>\n",
              "<table border=\"1\" class=\"dataframe\">\n",
              "  <thead>\n",
              "    <tr style=\"text-align: right;\">\n",
              "      <th></th>\n",
              "      <th>PREC</th>\n",
              "      <th>JANT</th>\n",
              "      <th>JULT</th>\n",
              "      <th>OVR</th>\n",
              "      <th>POPN</th>\n",
              "      <th>EDUC</th>\n",
              "      <th>HOUS</th>\n",
              "      <th>DENS</th>\n",
              "      <th>NONW</th>\n",
              "      <th>WWDRK</th>\n",
              "      <th>POOR</th>\n",
              "      <th>HC</th>\n",
              "      <th>NOX</th>\n",
              "      <th>SOA</th>\n",
              "      <th>HUMID</th>\n",
              "      <th>MORT</th>\n",
              "    </tr>\n",
              "  </thead>\n",
              "  <tbody>\n",
              "    <tr>\n",
              "      <th>count</th>\n",
              "      <td>60.000000</td>\n",
              "      <td>60.000000</td>\n",
              "      <td>60.000000</td>\n",
              "      <td>60.000000</td>\n",
              "      <td>60.000000</td>\n",
              "      <td>60.000000</td>\n",
              "      <td>60.000000</td>\n",
              "      <td>60.000000</td>\n",
              "      <td>60.000000</td>\n",
              "      <td>60.000000</td>\n",
              "      <td>60.000000</td>\n",
              "      <td>60.000000</td>\n",
              "      <td>60.00000</td>\n",
              "      <td>60.000000</td>\n",
              "      <td>60.000000</td>\n",
              "      <td>60.000000</td>\n",
              "    </tr>\n",
              "    <tr>\n",
              "      <th>mean</th>\n",
              "      <td>37.366667</td>\n",
              "      <td>33.983333</td>\n",
              "      <td>74.583333</td>\n",
              "      <td>8.798333</td>\n",
              "      <td>3.263167</td>\n",
              "      <td>10.973333</td>\n",
              "      <td>80.913333</td>\n",
              "      <td>3876.050000</td>\n",
              "      <td>11.870000</td>\n",
              "      <td>46.081667</td>\n",
              "      <td>14.373333</td>\n",
              "      <td>37.850000</td>\n",
              "      <td>22.65000</td>\n",
              "      <td>53.766667</td>\n",
              "      <td>57.666667</td>\n",
              "      <td>940.358500</td>\n",
              "    </tr>\n",
              "    <tr>\n",
              "      <th>std</th>\n",
              "      <td>9.984678</td>\n",
              "      <td>10.168899</td>\n",
              "      <td>4.763177</td>\n",
              "      <td>1.464552</td>\n",
              "      <td>0.135252</td>\n",
              "      <td>0.845299</td>\n",
              "      <td>5.141373</td>\n",
              "      <td>1454.102361</td>\n",
              "      <td>8.921148</td>\n",
              "      <td>4.613043</td>\n",
              "      <td>4.160096</td>\n",
              "      <td>91.977673</td>\n",
              "      <td>46.33329</td>\n",
              "      <td>63.390468</td>\n",
              "      <td>5.369931</td>\n",
              "      <td>62.206685</td>\n",
              "    </tr>\n",
              "    <tr>\n",
              "      <th>min</th>\n",
              "      <td>10.000000</td>\n",
              "      <td>12.000000</td>\n",
              "      <td>63.000000</td>\n",
              "      <td>5.600000</td>\n",
              "      <td>2.920000</td>\n",
              "      <td>9.000000</td>\n",
              "      <td>66.800000</td>\n",
              "      <td>1441.000000</td>\n",
              "      <td>0.800000</td>\n",
              "      <td>33.800000</td>\n",
              "      <td>9.400000</td>\n",
              "      <td>1.000000</td>\n",
              "      <td>1.00000</td>\n",
              "      <td>1.000000</td>\n",
              "      <td>38.000000</td>\n",
              "      <td>790.730000</td>\n",
              "    </tr>\n",
              "    <tr>\n",
              "      <th>25%</th>\n",
              "      <td>32.750000</td>\n",
              "      <td>27.000000</td>\n",
              "      <td>72.000000</td>\n",
              "      <td>7.675000</td>\n",
              "      <td>3.210000</td>\n",
              "      <td>10.400000</td>\n",
              "      <td>78.375000</td>\n",
              "      <td>3104.250000</td>\n",
              "      <td>4.950000</td>\n",
              "      <td>43.250000</td>\n",
              "      <td>12.000000</td>\n",
              "      <td>7.000000</td>\n",
              "      <td>4.00000</td>\n",
              "      <td>11.000000</td>\n",
              "      <td>55.000000</td>\n",
              "      <td>898.370000</td>\n",
              "    </tr>\n",
              "    <tr>\n",
              "      <th>50%</th>\n",
              "      <td>38.000000</td>\n",
              "      <td>31.500000</td>\n",
              "      <td>74.000000</td>\n",
              "      <td>9.000000</td>\n",
              "      <td>3.265000</td>\n",
              "      <td>11.050000</td>\n",
              "      <td>81.150000</td>\n",
              "      <td>3567.000000</td>\n",
              "      <td>10.400000</td>\n",
              "      <td>45.500000</td>\n",
              "      <td>13.200000</td>\n",
              "      <td>14.500000</td>\n",
              "      <td>9.00000</td>\n",
              "      <td>30.000000</td>\n",
              "      <td>57.000000</td>\n",
              "      <td>943.685000</td>\n",
              "    </tr>\n",
              "    <tr>\n",
              "      <th>75%</th>\n",
              "      <td>43.250000</td>\n",
              "      <td>40.000000</td>\n",
              "      <td>77.250000</td>\n",
              "      <td>9.700000</td>\n",
              "      <td>3.360000</td>\n",
              "      <td>11.500000</td>\n",
              "      <td>83.600000</td>\n",
              "      <td>4519.750000</td>\n",
              "      <td>15.650000</td>\n",
              "      <td>49.525000</td>\n",
              "      <td>15.150000</td>\n",
              "      <td>30.250000</td>\n",
              "      <td>23.75000</td>\n",
              "      <td>69.000000</td>\n",
              "      <td>60.000000</td>\n",
              "      <td>983.205000</td>\n",
              "    </tr>\n",
              "    <tr>\n",
              "      <th>max</th>\n",
              "      <td>60.000000</td>\n",
              "      <td>67.000000</td>\n",
              "      <td>85.000000</td>\n",
              "      <td>11.800000</td>\n",
              "      <td>3.530000</td>\n",
              "      <td>12.300000</td>\n",
              "      <td>90.700000</td>\n",
              "      <td>9699.000000</td>\n",
              "      <td>38.500000</td>\n",
              "      <td>59.700000</td>\n",
              "      <td>26.400000</td>\n",
              "      <td>648.000000</td>\n",
              "      <td>319.00000</td>\n",
              "      <td>278.000000</td>\n",
              "      <td>73.000000</td>\n",
              "      <td>1113.160000</td>\n",
              "    </tr>\n",
              "  </tbody>\n",
              "</table>\n",
              "</div>"
            ],
            "text/plain": [
              "            PREC       JANT       JULT        OVR       POPN       EDUC  \\\n",
              "count  60.000000  60.000000  60.000000  60.000000  60.000000  60.000000   \n",
              "mean   37.366667  33.983333  74.583333   8.798333   3.263167  10.973333   \n",
              "std     9.984678  10.168899   4.763177   1.464552   0.135252   0.845299   \n",
              "min    10.000000  12.000000  63.000000   5.600000   2.920000   9.000000   \n",
              "25%    32.750000  27.000000  72.000000   7.675000   3.210000  10.400000   \n",
              "50%    38.000000  31.500000  74.000000   9.000000   3.265000  11.050000   \n",
              "75%    43.250000  40.000000  77.250000   9.700000   3.360000  11.500000   \n",
              "max    60.000000  67.000000  85.000000  11.800000   3.530000  12.300000   \n",
              "\n",
              "            HOUS         DENS       NONW      WWDRK       POOR          HC  \\\n",
              "count  60.000000    60.000000  60.000000  60.000000  60.000000   60.000000   \n",
              "mean   80.913333  3876.050000  11.870000  46.081667  14.373333   37.850000   \n",
              "std     5.141373  1454.102361   8.921148   4.613043   4.160096   91.977673   \n",
              "min    66.800000  1441.000000   0.800000  33.800000   9.400000    1.000000   \n",
              "25%    78.375000  3104.250000   4.950000  43.250000  12.000000    7.000000   \n",
              "50%    81.150000  3567.000000  10.400000  45.500000  13.200000   14.500000   \n",
              "75%    83.600000  4519.750000  15.650000  49.525000  15.150000   30.250000   \n",
              "max    90.700000  9699.000000  38.500000  59.700000  26.400000  648.000000   \n",
              "\n",
              "             NOX         SOA      HUMID         MORT  \n",
              "count   60.00000   60.000000  60.000000    60.000000  \n",
              "mean    22.65000   53.766667  57.666667   940.358500  \n",
              "std     46.33329   63.390468   5.369931    62.206685  \n",
              "min      1.00000    1.000000  38.000000   790.730000  \n",
              "25%      4.00000   11.000000  55.000000   898.370000  \n",
              "50%      9.00000   30.000000  57.000000   943.685000  \n",
              "75%     23.75000   69.000000  60.000000   983.205000  \n",
              "max    319.00000  278.000000  73.000000  1113.160000  "
            ]
          },
          "execution_count": 4,
          "metadata": {
            "tags": []
          },
          "output_type": "execute_result"
        }
      ],
      "source": [
        "data.describe()"
      ]
    },
    {
      "cell_type": "markdown",
      "metadata": {
        "id": "VBtQs86yDCf6"
      },
      "source": [
        "Checking if there is any missing values "
      ]
    },
    {
      "cell_type": "code",
      "execution_count": null,
      "metadata": {
        "colab": {
          "base_uri": "https://localhost:8080/"
        },
        "id": "Sb9YQneNDCf6",
        "outputId": "c5226ee3-cc59-46e3-f7e2-68322bf49806"
      },
      "outputs": [
        {
          "data": {
            "text/plain": [
              "PREC     0\n",
              "JANT     0\n",
              "JULT     0\n",
              "OVR      0\n",
              "POPN     0\n",
              "EDUC     0\n",
              "HOUS     0\n",
              "DENS     0\n",
              "NONW     0\n",
              "WWDRK    0\n",
              "POOR     0\n",
              "HC       0\n",
              "NOX      0\n",
              "SOA      0\n",
              "HUMID    0\n",
              "MORT     0\n",
              "dtype: int64"
            ]
          },
          "execution_count": 4,
          "metadata": {
            "tags": []
          },
          "output_type": "execute_result"
        }
      ],
      "source": [
        "data.isna().sum()"
      ]
    },
    {
      "cell_type": "markdown",
      "metadata": {
        "id": "SjnLD795DCf6"
      },
      "source": [
        "In this case, our data seems clean, by now. There are no missing values. The following step is to visualize our data to find correlations and possible outliers. For that, we create a correlation matrix. In our data set, we are interested in the attribute 'MORT', which represents the mortality of the poblation. Therefore, the correlation matrix will help us identify the variables that have a high weight and influence on the mortality attribute. \n",
        "\n",
        "The function .corr() creates a correlation matrix, which is an analysis of how each variable correlate which each other. After calling the function, it will be stored in a data frame.\n"
      ]
    },
    {
      "cell_type": "code",
      "execution_count": null,
      "metadata": {
        "id": "Fbb3T3l6DCf7",
        "outputId": "d42a180e-17bd-4573-8579-0331aa0a4928"
      },
      "outputs": [
        {
          "data": {
            "text/plain": [
              "MORT     1.000000\n",
              "NONW     0.643742\n",
              "PREC     0.509500\n",
              "SOA      0.425898\n",
              "POOR     0.410490\n",
              "POPN     0.357307\n",
              "JULT     0.277018\n",
              "DENS     0.265503\n",
              "JANT    -0.030022\n",
              "NOX     -0.077382\n",
              "HUMID   -0.088501\n",
              "OVR     -0.174593\n",
              "HC      -0.177242\n",
              "WWDRK   -0.284805\n",
              "HOUS    -0.426821\n",
              "EDUC    -0.510988\n",
              "Name: MORT, dtype: float64"
            ]
          },
          "execution_count": 7,
          "metadata": {
            "tags": []
          },
          "output_type": "execute_result"
        }
      ],
      "source": [
        "corr_matrix = data.corr()    # Call the .corr() function on data\n",
        "\n",
        "corr_matrix[\"MORT\"].sort_values(ascending=False)"
      ]
    },
    {
      "cell_type": "markdown",
      "metadata": {
        "id": "TN4g0TpwDCf7"
      },
      "source": [
        "By the correlation matrix, we observe that the NONW (Non-White Population) and PREC (Annual Precipitation) attributes are highly correlated to the mortality. In the next cell, we perform an scatter matrix to verify our observations. "
      ]
    },
    {
      "cell_type": "code",
      "execution_count": null,
      "metadata": {
        "colab": {
          "base_uri": "https://localhost:8080/",
          "height": 517
        },
        "id": "sNslMgneDCf7",
        "outputId": "635239e7-19af-40fa-aec4-4031207776cf",
        "scrolled": false
      },
      "outputs": [
        {
          "data": {
            "image/png": "[encoded data removed]",
            "text/plain": [
              "<Figure size 864x576 with 9 Axes>"
            ]
          },
          "metadata": {
            "tags": []
          },
          "output_type": "display_data"
        }
      ],
      "source": [
        "\n",
        "\n",
        "style.use('seaborn-poster') #sets the size of the charts\n",
        "style.use('ggplot')\n",
        "\n",
        "\n",
        "attributes = [\"MORT\", \"NONW\", \"PREC\"]\n",
        "\n",
        "scatter_matrix(data[attributes], figsize=(12,8), color='red');"
      ]
    },
    {
      "cell_type": "markdown",
      "metadata": {
        "id": "LHdWueuTDCf8"
      },
      "source": [
        "Now, do your own visualization. You can change the color in the color area, by writing green, pink, or the color you wish. You can also change the figsize, that is the size of the chart."
      ]
    },
    {
      "cell_type": "code",
      "execution_count": null,
      "metadata": {
        "colab": {
          "base_uri": "https://localhost:8080/",
          "height": 517
        },
        "id": "bm2gnM85DCf8",
        "outputId": "c02b12b7-3ce4-4211-b4bb-7995c39d233d"
      },
      "outputs": [
        {
          "data": {
            "image/png": "[encoded data removed]",
            "text/plain": [
              "<Figure size 864x576 with 9 Axes>"
            ]
          },
          "metadata": {
            "tags": []
          },
          "output_type": "display_data"
        }
      ],
      "source": [
        "\n",
        "scatter_matrix(data[attributes], figsize=(12,8), color='blue');  # Pick a color of your choice"
      ]
    },
    {
      "cell_type": "code",
      "execution_count": null,
      "metadata": {
        "colab": {
          "base_uri": "https://localhost:8080/",
          "height": 574
        },
        "id": "pQ9pe5rhDCf9",
        "outputId": "5f90f020-1c93-42cb-de22-a8ae08eb47f2"
      },
      "outputs": [
        {
          "data": {
            "text/plain": [
              "<matplotlib.axes._subplots.AxesSubplot at 0x7f34c8e60080>"
            ]
          },
          "execution_count": 8,
          "metadata": {
            "tags": []
          },
          "output_type": "execute_result"
        },
        {
          "data": {
            "image/png": "[encoded data removed]",
            "text/plain": [
              "<Figure size 921.6x633.6 with 1 Axes>"
            ]
          },
          "metadata": {
            "tags": []
          },
          "output_type": "display_data"
        }
      ],
      "source": [
        "data.plot(kind=\"scatter\", x=\"NONW\", y=\"MORT\", alpha=0.8, color='black')"
      ]
    },
    {
      "cell_type": "code",
      "execution_count": null,
      "metadata": {
        "colab": {
          "base_uri": "https://localhost:8080/",
          "height": 574
        },
        "id": "eL01kzxADCf9",
        "outputId": "5356601a-5148-4e9c-93a0-531eb3dd40eb"
      },
      "outputs": [
        {
          "data": {
            "text/plain": [
              "<matplotlib.axes._subplots.AxesSubplot at 0x7f34c8e64c50>"
            ]
          },
          "execution_count": 9,
          "metadata": {
            "tags": []
          },
          "output_type": "execute_result"
        },
        {
          "data": {
            "image/png": "[encoded data removed]",
            "text/plain": [
              "<Figure size 921.6x633.6 with 1 Axes>"
            ]
          },
          "metadata": {
            "tags": []
          },
          "output_type": "display_data"
        }
      ],
      "source": [
        "data.plot(kind=\"scatter\", x=\"PREC\", y=\"MORT\", alpha=0.8)"
      ]
    },
    {
      "cell_type": "markdown",
      "metadata": {
        "id": "7vQCmjflDCf9"
      },
      "source": [
        "From the previous visualizations, we observe that indeed there is a high correlation between the variables and we see a few outliers distanced of the focus group. "
      ]
    },
    {
      "cell_type": "code",
      "execution_count": null,
      "metadata": {
        "colab": {
          "base_uri": "https://localhost:8080/",
          "height": 206
        },
        "id": "hX07sz64DCf9",
        "outputId": "0388d698-269b-45e5-bb86-9fd13d52e70d"
      },
      "outputs": [
        {
          "data": {
            "text/html": [
              "<div>\n",
              "<style scoped>\n",
              "    .dataframe tbody tr th:only-of-type {\n",
              "        vertical-align: middle;\n",
              "    }\n",
              "\n",
              "    .dataframe tbody tr th {\n",
              "        vertical-align: top;\n",
              "    }\n",
              "\n",
              "    .dataframe thead th {\n",
              "        text-align: right;\n",
              "    }\n",
              "</style>\n",
              "<table border=\"1\" class=\"dataframe\">\n",
              "  <thead>\n",
              "    <tr style=\"text-align: right;\">\n",
              "      <th></th>\n",
              "      <th>NONW</th>\n",
              "      <th>MORT</th>\n",
              "    </tr>\n",
              "  </thead>\n",
              "  <tbody>\n",
              "    <tr>\n",
              "      <th>0</th>\n",
              "      <td>8.8</td>\n",
              "      <td>921.87</td>\n",
              "    </tr>\n",
              "    <tr>\n",
              "      <th>1</th>\n",
              "      <td>3.5</td>\n",
              "      <td>997.88</td>\n",
              "    </tr>\n",
              "    <tr>\n",
              "      <th>2</th>\n",
              "      <td>0.8</td>\n",
              "      <td>962.35</td>\n",
              "    </tr>\n",
              "    <tr>\n",
              "      <th>3</th>\n",
              "      <td>27.1</td>\n",
              "      <td>982.29</td>\n",
              "    </tr>\n",
              "    <tr>\n",
              "      <th>4</th>\n",
              "      <td>24.4</td>\n",
              "      <td>1071.29</td>\n",
              "    </tr>\n",
              "  </tbody>\n",
              "</table>\n",
              "</div>"
            ],
            "text/plain": [
              "   NONW     MORT\n",
              "0   8.8   921.87\n",
              "1   3.5   997.88\n",
              "2   0.8   962.35\n",
              "3  27.1   982.29\n",
              "4  24.4  1071.29"
            ]
          },
          "execution_count": 10,
          "metadata": {
            "tags": []
          },
          "output_type": "execute_result"
        }
      ],
      "source": [
        "data1 = [data[\"NONW\"], data[\"MORT\"]]\n",
        "data1 = np.transpose(data1)\n",
        "data1 = pd.DataFrame(data1, columns=[\"NONW\", \"MORT\"])\n",
        "\n",
        "data1.head()\n"
      ]
    },
    {
      "cell_type": "markdown",
      "metadata": {
        "id": "CM5iQxjkDCf-"
      },
      "source": [
        "## Linear Regression \n",
        "\n"
      ]
    },
    {
      "cell_type": "markdown",
      "metadata": {
        "id": "RtTSeJJTDCf-"
      },
      "source": [
        "Machine Learning is mainly divided in two sections: Regression and Classification. Of course, there are others as Essemble Methods, Recommendation Systems and further. For the scope of this module, we are going to focus on the two section algorithms we previously mentioned. \n",
        "\n",
        "We start modeling with Linear Regression. Linear Regression is a model that takes continuous values and implements a linear function to follow the behavior/pattern of the data. Basically, it takes each point and using a loss function, reduces the error to get a better approximation of the linear function parameters. It is a linear approach to model the relationship between a dependent variable (target variable) and one (simple regression) or more (multiple regression) independent variables. Python has different libraries that allow us to plot a data set and analyze the relation between variables. In case we observe a linear trend, we can calculate the line that better fits our data and make predictions using this line. Additionally, we can measure the strength of the relationship between two variables using correlation coefficients as well as the quality of the regression model using the mean square error. "
      ]
    },
    {
      "cell_type": "code",
      "execution_count": null,
      "metadata": {
        "colab": {
          "base_uri": "https://localhost:8080/"
        },
        "id": "5GfeU2RkDCf-",
        "outputId": "71c1e720-e9bb-4b3e-f5b0-fec91316dcff"
      },
      "outputs": [
        {
          "name": "stdout",
          "output_type": "stream",
          "text": [
            "Intercept    887.076721\n",
            "NONW           4.488777\n",
            "dtype: float64\n"
          ]
        }
      ],
      "source": [
        "result = smf.ols(formula=\"MORT ~ NONW\", data=data1).fit()\n",
        "print(result.params)"
      ]
    },
    {
      "cell_type": "code",
      "execution_count": null,
      "metadata": {
        "colab": {
          "base_uri": "https://localhost:8080/",
          "height": 501
        },
        "id": "-2tDSLezDCf_",
        "outputId": "1a18974f-f8e3-45ec-917a-552753ca7d61"
      },
      "outputs": [
        {
          "data": {
            "text/plain": [
              "<matplotlib.axes._subplots.AxesSubplot at 0x7f34c8dc50f0>"
            ]
          },
          "execution_count": 13,
          "metadata": {
            "tags": []
          },
          "output_type": "execute_result"
        },
        {
          "data": {
            "text/plain": [
              "Text(0.5, 1.0, 'Relationship between Non-White Population and Mortality')"
            ]
          },
          "execution_count": 13,
          "metadata": {
            "tags": []
          },
          "output_type": "execute_result"
        },
        {
          "data": {
            "image/png": "[encoded data removed]",
            "text/plain": [
              "<Figure size 720x504 with 1 Axes>"
            ]
          },
          "metadata": {
            "tags": []
          },
          "output_type": "display_data"
        }
      ],
      "source": [
        "fig = plt.figure(figsize=(10,7))\n",
        "sns.regplot(x=data.NONW  ,   y=data.MORT  ,  color='red', marker='+') # Complete x and y variables by writing the needed variables\n",
        "plt.title('Relationship between Non-White Population and Mortality', size=24)"
      ]
    },
    {
      "cell_type": "code",
      "execution_count": null,
      "metadata": {
        "colab": {
          "base_uri": "https://localhost:8080/",
          "height": 452
        },
        "id": "jnMP3WgqDCgA",
        "outputId": "101bbc9f-00f3-4618-934a-c41e64a81b69"
      },
      "outputs": [
        {
          "data": {
            "text/html": [
              "<table class=\"simpletable\">\n",
              "<caption>OLS Regression Results</caption>\n",
              "<tr>\n",
              "  <th>Dep. Variable:</th>          <td>MORT</td>       <th>  R-squared:         </th> <td>   0.414</td>\n",
              "</tr>\n",
              "<tr>\n",
              "  <th>Model:</th>                   <td>OLS</td>       <th>  Adj. R-squared:    </th> <td>   0.404</td>\n",
              "</tr>\n",
              "<tr>\n",
              "  <th>Method:</th>             <td>Least Squares</td>  <th>  F-statistic:       </th> <td>   41.04</td>\n",
              "</tr>\n",
              "<tr>\n",
              "  <th>Date:</th>             <td>Tue, 02 Feb 2021</td> <th>  Prob (F-statistic):</th> <td>2.89e-08</td>\n",
              "</tr>\n",
              "<tr>\n",
              "  <th>Time:</th>                 <td>22:55:56</td>     <th>  Log-Likelihood:    </th> <td> -316.41</td>\n",
              "</tr>\n",
              "<tr>\n",
              "  <th>No. Observations:</th>      <td>    60</td>      <th>  AIC:               </th> <td>   636.8</td>\n",
              "</tr>\n",
              "<tr>\n",
              "  <th>Df Residuals:</th>          <td>    58</td>      <th>  BIC:               </th> <td>   641.0</td>\n",
              "</tr>\n",
              "<tr>\n",
              "  <th>Df Model:</th>              <td>     1</td>      <th>                     </th>     <td> </td>   \n",
              "</tr>\n",
              "<tr>\n",
              "  <th>Covariance Type:</th>      <td>nonrobust</td>    <th>                     </th>     <td> </td>   \n",
              "</tr>\n",
              "</table>\n",
              "<table class=\"simpletable\">\n",
              "<tr>\n",
              "      <td></td>         <th>coef</th>     <th>std err</th>      <th>t</th>      <th>P>|t|</th>  <th>[0.025</th>    <th>0.975]</th>  \n",
              "</tr>\n",
              "<tr>\n",
              "  <th>Intercept</th> <td>  887.0767</td> <td>   10.372</td> <td>   85.523</td> <td> 0.000</td> <td>  866.314</td> <td>  907.839</td>\n",
              "</tr>\n",
              "<tr>\n",
              "  <th>NONW</th>      <td>    4.4888</td> <td>    0.701</td> <td>    6.407</td> <td> 0.000</td> <td>    3.086</td> <td>    5.891</td>\n",
              "</tr>\n",
              "</table>\n",
              "<table class=\"simpletable\">\n",
              "<tr>\n",
              "  <th>Omnibus:</th>       <td> 0.425</td> <th>  Durbin-Watson:     </th> <td>   1.555</td>\n",
              "</tr>\n",
              "<tr>\n",
              "  <th>Prob(Omnibus):</th> <td> 0.808</td> <th>  Jarque-Bera (JB):  </th> <td>   0.587</td>\n",
              "</tr>\n",
              "<tr>\n",
              "  <th>Skew:</th>          <td>-0.109</td> <th>  Prob(JB):          </th> <td>   0.746</td>\n",
              "</tr>\n",
              "<tr>\n",
              "  <th>Kurtosis:</th>      <td> 2.567</td> <th>  Cond. No.          </th> <td>    24.8</td>\n",
              "</tr>\n",
              "</table><br/><br/>Warnings:<br/>[1] Standard Errors assume that the covariance matrix of the errors is correctly specified."
            ],
            "text/plain": [
              "<class 'statsmodels.iolib.summary.Summary'>\n",
              "\"\"\"\n",
              "                            OLS Regression Results                            \n",
              "==============================================================================\n",
              "Dep. Variable:                   MORT   R-squared:                       0.414\n",
              "Model:                            OLS   Adj. R-squared:                  0.404\n",
              "Method:                 Least Squares   F-statistic:                     41.04\n",
              "Date:                Tue, 02 Feb 2021   Prob (F-statistic):           2.89e-08\n",
              "Time:                        22:55:56   Log-Likelihood:                -316.41\n",
              "No. Observations:                  60   AIC:                             636.8\n",
              "Df Residuals:                      58   BIC:                             641.0\n",
              "Df Model:                           1                                         \n",
              "Covariance Type:            nonrobust                                         \n",
              "==============================================================================\n",
              "                 coef    std err          t      P>|t|      [0.025      0.975]\n",
              "------------------------------------------------------------------------------\n",
              "Intercept    887.0767     10.372     85.523      0.000     866.314     907.839\n",
              "NONW           4.4888      0.701      6.407      0.000       3.086       5.891\n",
              "==============================================================================\n",
              "Omnibus:                        0.425   Durbin-Watson:                   1.555\n",
              "Prob(Omnibus):                  0.808   Jarque-Bera (JB):                0.587\n",
              "Skew:                          -0.109   Prob(JB):                        0.746\n",
              "Kurtosis:                       2.567   Cond. No.                         24.8\n",
              "==============================================================================\n",
              "\n",
              "Warnings:\n",
              "[1] Standard Errors assume that the covariance matrix of the errors is correctly specified.\n",
              "\"\"\""
            ]
          },
          "execution_count": 14,
          "metadata": {
            "tags": []
          },
          "output_type": "execute_result"
        }
      ],
      "source": [
        "result.summary()"
      ]
    },
    {
      "cell_type": "markdown",
      "metadata": {
        "id": "EWAhunE3DCgA"
      },
      "source": [
        "*** From the previous graph, we can observe the pattern in the data points and how the slope escalate up. The zone shaded in red is called the confidence interval, that means that the data points can vary within that range. ***"
      ]
    },
    {
      "cell_type": "markdown",
      "metadata": {
        "id": "sA5_pZzZDCgA"
      },
      "source": [
        "## Multiple Linear Regression "
      ]
    },
    {
      "cell_type": "markdown",
      "metadata": {
        "id": "ERh3-kcWDCgA"
      },
      "source": [
        "***Simple linear regression uses a linear function to predict the value of a target variable y, containing the function only one independent variable x₁.***\n",
        "\n",
        "    y = b₀ + b₁x₁\n",
        "\n",
        "***After fitting the linear equation to observed data, we can obtain the values of the parameters b₀ and b₁ that best fits the data, minimizing the square error.***"
      ]
    },
    {
      "cell_type": "markdown",
      "metadata": {
        "id": "p7BeKEybDCgA"
      },
      "source": [
        "<img src=\"multiple.png\"></img>"
      ]
    },
    {
      "cell_type": "markdown",
      "metadata": {
        "id": "M-WgVsoFDCgB"
      },
      "source": [
        "***Multiple linear regression uses a linear function to predict the value of a target variable y, containing the function n independent variable x=[x₁,x₂,x₃,…,xₙ].***\n",
        "\n",
        "    y =b₀+b₁x₁+b₂x₂+b₃x₃+…+bₙxₙ\n",
        "\n",
        "***We obtain the values of the parameters bᵢ, using the same technique as in simple linear regression (least square error). After fitting the model, we can use the equation to predict the value of the target variable y.***"
      ]
    },
    {
      "cell_type": "markdown",
      "metadata": {
        "id": "wNQxHuONDCgB"
      },
      "source": [
        "### Multiple Linear Regression with three variables (attributes/features)"
      ]
    },
    {
      "cell_type": "code",
      "execution_count": null,
      "metadata": {
        "colab": {
          "base_uri": "https://localhost:8080/"
        },
        "id": "lCdAXMl6DCgB",
        "outputId": "2e3dea4c-7681-42ea-c230-7df602962182"
      },
      "outputs": [
        {
          "name": "stdout",
          "output_type": "stream",
          "text": [
            "Intercept    828.759654\n",
            "NONW           3.642731\n",
            "PREC           1.829428\n",
            "dtype: float64\n"
          ]
        }
      ],
      "source": [
        "result = smf.ols(formula=\"MORT ~ NONW + PREC \", data=data).fit()  # Write NONW and PREC variables to predict the MORT\n",
        "print(result.params)"
      ]
    },
    {
      "cell_type": "code",
      "execution_count": null,
      "metadata": {
        "colab": {
          "base_uri": "https://localhost:8080/",
          "height": 473
        },
        "id": "F4oacdU3DCgB",
        "outputId": "2a0594ea-e827-49ec-bba0-031b0e46ed04"
      },
      "outputs": [
        {
          "data": {
            "text/html": [
              "<table class=\"simpletable\">\n",
              "<caption>OLS Regression Results</caption>\n",
              "<tr>\n",
              "  <th>Dep. Variable:</th>          <td>MORT</td>       <th>  R-squared:         </th> <td>   0.486</td>\n",
              "</tr>\n",
              "<tr>\n",
              "  <th>Model:</th>                   <td>OLS</td>       <th>  Adj. R-squared:    </th> <td>   0.468</td>\n",
              "</tr>\n",
              "<tr>\n",
              "  <th>Method:</th>             <td>Least Squares</td>  <th>  F-statistic:       </th> <td>   26.94</td>\n",
              "</tr>\n",
              "<tr>\n",
              "  <th>Date:</th>             <td>Tue, 02 Feb 2021</td> <th>  Prob (F-statistic):</th> <td>5.82e-09</td>\n",
              "</tr>\n",
              "<tr>\n",
              "  <th>Time:</th>                 <td>22:59:20</td>     <th>  Log-Likelihood:    </th> <td> -312.50</td>\n",
              "</tr>\n",
              "<tr>\n",
              "  <th>No. Observations:</th>      <td>    60</td>      <th>  AIC:               </th> <td>   631.0</td>\n",
              "</tr>\n",
              "<tr>\n",
              "  <th>Df Residuals:</th>          <td>    57</td>      <th>  BIC:               </th> <td>   637.3</td>\n",
              "</tr>\n",
              "<tr>\n",
              "  <th>Df Model:</th>              <td>     2</td>      <th>                     </th>     <td> </td>   \n",
              "</tr>\n",
              "<tr>\n",
              "  <th>Covariance Type:</th>      <td>nonrobust</td>    <th>                     </th>     <td> </td>   \n",
              "</tr>\n",
              "</table>\n",
              "<table class=\"simpletable\">\n",
              "<tr>\n",
              "      <td></td>         <th>coef</th>     <th>std err</th>      <th>t</th>      <th>P>|t|</th>  <th>[0.025</th>    <th>0.975]</th>  \n",
              "</tr>\n",
              "<tr>\n",
              "  <th>Intercept</th> <td>  828.7597</td> <td>   22.915</td> <td>   36.167</td> <td> 0.000</td> <td>  782.873</td> <td>  874.646</td>\n",
              "</tr>\n",
              "<tr>\n",
              "  <th>NONW</th>      <td>    3.6427</td> <td>    0.727</td> <td>    5.009</td> <td> 0.000</td> <td>    2.187</td> <td>    5.099</td>\n",
              "</tr>\n",
              "<tr>\n",
              "  <th>PREC</th>      <td>    1.8294</td> <td>    0.650</td> <td>    2.816</td> <td> 0.007</td> <td>    0.528</td> <td>    3.131</td>\n",
              "</tr>\n",
              "</table>\n",
              "<table class=\"simpletable\">\n",
              "<tr>\n",
              "  <th>Omnibus:</th>       <td> 0.605</td> <th>  Durbin-Watson:     </th> <td>   1.840</td>\n",
              "</tr>\n",
              "<tr>\n",
              "  <th>Prob(Omnibus):</th> <td> 0.739</td> <th>  Jarque-Bera (JB):  </th> <td>   0.287</td>\n",
              "</tr>\n",
              "<tr>\n",
              "  <th>Skew:</th>          <td>-0.165</td> <th>  Prob(JB):          </th> <td>   0.867</td>\n",
              "</tr>\n",
              "<tr>\n",
              "  <th>Kurtosis:</th>      <td> 3.080</td> <th>  Cond. No.          </th> <td>    159.</td>\n",
              "</tr>\n",
              "</table><br/><br/>Warnings:<br/>[1] Standard Errors assume that the covariance matrix of the errors is correctly specified."
            ],
            "text/plain": [
              "<class 'statsmodels.iolib.summary.Summary'>\n",
              "\"\"\"\n",
              "                            OLS Regression Results                            \n",
              "==============================================================================\n",
              "Dep. Variable:                   MORT   R-squared:                       0.486\n",
              "Model:                            OLS   Adj. R-squared:                  0.468\n",
              "Method:                 Least Squares   F-statistic:                     26.94\n",
              "Date:                Tue, 02 Feb 2021   Prob (F-statistic):           5.82e-09\n",
              "Time:                        22:59:20   Log-Likelihood:                -312.50\n",
              "No. Observations:                  60   AIC:                             631.0\n",
              "Df Residuals:                      57   BIC:                             637.3\n",
              "Df Model:                           2                                         \n",
              "Covariance Type:            nonrobust                                         \n",
              "==============================================================================\n",
              "                 coef    std err          t      P>|t|      [0.025      0.975]\n",
              "------------------------------------------------------------------------------\n",
              "Intercept    828.7597     22.915     36.167      0.000     782.873     874.646\n",
              "NONW           3.6427      0.727      5.009      0.000       2.187       5.099\n",
              "PREC           1.8294      0.650      2.816      0.007       0.528       3.131\n",
              "==============================================================================\n",
              "Omnibus:                        0.605   Durbin-Watson:                   1.840\n",
              "Prob(Omnibus):                  0.739   Jarque-Bera (JB):                0.287\n",
              "Skew:                          -0.165   Prob(JB):                        0.867\n",
              "Kurtosis:                       3.080   Cond. No.                         159.\n",
              "==============================================================================\n",
              "\n",
              "Warnings:\n",
              "[1] Standard Errors assume that the covariance matrix of the errors is correctly specified.\n",
              "\"\"\""
            ]
          },
          "execution_count": 16,
          "metadata": {
            "tags": []
          },
          "output_type": "execute_result"
        }
      ],
      "source": [
        "result.summary()"
      ]
    },
    {
      "cell_type": "markdown",
      "metadata": {
        "id": "yi4E2qssDCgC"
      },
      "source": [
        "### Multiple Linear Regression with more than three variables "
      ]
    },
    {
      "cell_type": "code",
      "execution_count": null,
      "metadata": {
        "id": "nQIhhwJnDCgC",
        "outputId": "4ddd625a-0c68-4b60-960c-0ecbcbf03019"
      },
      "outputs": [
        {
          "data": {
            "text/html": [
              "<table class=\"simpletable\">\n",
              "<caption>OLS Regression Results</caption>\n",
              "<tr>\n",
              "  <th>Dep. Variable:</th>          <td>MORT</td>       <th>  R-squared:         </th> <td>   0.763</td>\n",
              "</tr>\n",
              "<tr>\n",
              "  <th>Model:</th>                   <td>OLS</td>       <th>  Adj. R-squared:    </th> <td>   0.714</td>\n",
              "</tr>\n",
              "<tr>\n",
              "  <th>Method:</th>             <td>Least Squares</td>  <th>  F-statistic:       </th> <td>   15.73</td>\n",
              "</tr>\n",
              "<tr>\n",
              "  <th>Date:</th>             <td>Mon, 04 Jan 2021</td> <th>  Prob (F-statistic):</th> <td>3.96e-12</td>\n",
              "</tr>\n",
              "<tr>\n",
              "  <th>Time:</th>                 <td>06:54:22</td>     <th>  Log-Likelihood:    </th> <td> -289.33</td>\n",
              "</tr>\n",
              "<tr>\n",
              "  <th>No. Observations:</th>      <td>    60</td>      <th>  AIC:               </th> <td>   600.7</td>\n",
              "</tr>\n",
              "<tr>\n",
              "  <th>Df Residuals:</th>          <td>    49</td>      <th>  BIC:               </th> <td>   623.7</td>\n",
              "</tr>\n",
              "<tr>\n",
              "  <th>Df Model:</th>              <td>    10</td>      <th>                     </th>     <td> </td>   \n",
              "</tr>\n",
              "<tr>\n",
              "  <th>Covariance Type:</th>      <td>nonrobust</td>    <th>                     </th>     <td> </td>   \n",
              "</tr>\n",
              "</table>\n",
              "<table class=\"simpletable\">\n",
              "<tr>\n",
              "      <td></td>         <th>coef</th>     <th>std err</th>      <th>t</th>      <th>P>|t|</th>  <th>[0.025</th>    <th>0.975]</th>  \n",
              "</tr>\n",
              "<tr>\n",
              "  <th>Intercept</th> <td> 1791.2106</td> <td>  361.983</td> <td>    4.948</td> <td> 0.000</td> <td> 1063.778</td> <td> 2518.643</td>\n",
              "</tr>\n",
              "<tr>\n",
              "  <th>PREC</th>      <td>    1.8339</td> <td>    0.837</td> <td>    2.190</td> <td> 0.033</td> <td>    0.151</td> <td>    3.517</td>\n",
              "</tr>\n",
              "<tr>\n",
              "  <th>JANT</th>      <td>   -2.0814</td> <td>    0.718</td> <td>   -2.899</td> <td> 0.006</td> <td>   -3.524</td> <td>   -0.639</td>\n",
              "</tr>\n",
              "<tr>\n",
              "  <th>JULT</th>      <td>   -3.2390</td> <td>    1.399</td> <td>   -2.315</td> <td> 0.025</td> <td>   -6.050</td> <td>   -0.428</td>\n",
              "</tr>\n",
              "<tr>\n",
              "  <th>OVR</th>       <td>   -9.6536</td> <td>    7.246</td> <td>   -1.332</td> <td> 0.189</td> <td>  -24.216</td> <td>    4.909</td>\n",
              "</tr>\n",
              "<tr>\n",
              "  <th>POPN</th>      <td> -113.7670</td> <td>   64.144</td> <td>   -1.774</td> <td> 0.082</td> <td> -242.668</td> <td>   15.134</td>\n",
              "</tr>\n",
              "<tr>\n",
              "  <th>EDUC</th>      <td>  -20.6110</td> <td>    7.585</td> <td>   -2.717</td> <td> 0.009</td> <td>  -35.854</td> <td>   -5.368</td>\n",
              "</tr>\n",
              "<tr>\n",
              "  <th>DENS</th>      <td>    0.0035</td> <td>    0.003</td> <td>    1.013</td> <td> 0.316</td> <td>   -0.003</td> <td>    0.011</td>\n",
              "</tr>\n",
              "<tr>\n",
              "  <th>NONW</th>      <td>    4.6163</td> <td>    0.970</td> <td>    4.760</td> <td> 0.000</td> <td>    2.668</td> <td>    6.565</td>\n",
              "</tr>\n",
              "<tr>\n",
              "  <th>HC</th>        <td>   -0.8804</td> <td>    0.322</td> <td>   -2.736</td> <td> 0.009</td> <td>   -1.527</td> <td>   -0.234</td>\n",
              "</tr>\n",
              "<tr>\n",
              "  <th>NOX</th>       <td>    1.7724</td> <td>    0.617</td> <td>    2.872</td> <td> 0.006</td> <td>    0.532</td> <td>    3.012</td>\n",
              "</tr>\n",
              "</table>\n",
              "<table class=\"simpletable\">\n",
              "<tr>\n",
              "  <th>Omnibus:</th>       <td> 1.396</td> <th>  Durbin-Watson:     </th> <td>   2.144</td>\n",
              "</tr>\n",
              "<tr>\n",
              "  <th>Prob(Omnibus):</th> <td> 0.498</td> <th>  Jarque-Bera (JB):  </th> <td>   0.724</td>\n",
              "</tr>\n",
              "<tr>\n",
              "  <th>Skew:</th>          <td> 0.197</td> <th>  Prob(JB):          </th> <td>   0.696</td>\n",
              "</tr>\n",
              "<tr>\n",
              "  <th>Kurtosis:</th>      <td> 3.366</td> <th>  Cond. No.          </th> <td>3.53e+05</td>\n",
              "</tr>\n",
              "</table><br/><br/>Warnings:<br/>[1] Standard Errors assume that the covariance matrix of the errors is correctly specified.<br/>[2] The condition number is large, 3.53e+05. This might indicate that there are<br/>strong multicollinearity or other numerical problems."
            ],
            "text/plain": [
              "<class 'statsmodels.iolib.summary.Summary'>\n",
              "\"\"\"\n",
              "                            OLS Regression Results                            \n",
              "==============================================================================\n",
              "Dep. Variable:                   MORT   R-squared:                       0.763\n",
              "Model:                            OLS   Adj. R-squared:                  0.714\n",
              "Method:                 Least Squares   F-statistic:                     15.73\n",
              "Date:                Mon, 04 Jan 2021   Prob (F-statistic):           3.96e-12\n",
              "Time:                        06:54:22   Log-Likelihood:                -289.33\n",
              "No. Observations:                  60   AIC:                             600.7\n",
              "Df Residuals:                      49   BIC:                             623.7\n",
              "Df Model:                          10                                         \n",
              "Covariance Type:            nonrobust                                         \n",
              "==============================================================================\n",
              "                 coef    std err          t      P>|t|      [0.025      0.975]\n",
              "------------------------------------------------------------------------------\n",
              "Intercept   1791.2106    361.983      4.948      0.000    1063.778    2518.643\n",
              "PREC           1.8339      0.837      2.190      0.033       0.151       3.517\n",
              "JANT          -2.0814      0.718     -2.899      0.006      -3.524      -0.639\n",
              "JULT          -3.2390      1.399     -2.315      0.025      -6.050      -0.428\n",
              "OVR           -9.6536      7.246     -1.332      0.189     -24.216       4.909\n",
              "POPN        -113.7670     64.144     -1.774      0.082    -242.668      15.134\n",
              "EDUC         -20.6110      7.585     -2.717      0.009     -35.854      -5.368\n",
              "DENS           0.0035      0.003      1.013      0.316      -0.003       0.011\n",
              "NONW           4.6163      0.970      4.760      0.000       2.668       6.565\n",
              "HC            -0.8804      0.322     -2.736      0.009      -1.527      -0.234\n",
              "NOX            1.7724      0.617      2.872      0.006       0.532       3.012\n",
              "==============================================================================\n",
              "Omnibus:                        1.396   Durbin-Watson:                   2.144\n",
              "Prob(Omnibus):                  0.498   Jarque-Bera (JB):                0.724\n",
              "Skew:                           0.197   Prob(JB):                        0.696\n",
              "Kurtosis:                       3.366   Cond. No.                     3.53e+05\n",
              "==============================================================================\n",
              "\n",
              "Warnings:\n",
              "[1] Standard Errors assume that the covariance matrix of the errors is correctly specified.\n",
              "[2] The condition number is large, 3.53e+05. This might indicate that there are\n",
              "strong multicollinearity or other numerical problems.\n",
              "\"\"\""
            ]
          },
          "execution_count": 16,
          "metadata": {
            "tags": []
          },
          "output_type": "execute_result"
        }
      ],
      "source": [
        "regall=smf.ols(formula='MORT~PREC+NONW+     ',data=data).fit() # Choose another variable besides PREC and NONW to predict MORT\n",
        "regall.summary()"
      ]
    },
    {
      "cell_type": "code",
      "execution_count": null,
      "metadata": {
        "id": "z3QmYQbWDCgC",
        "outputId": "35129d4c-8394-4611-8062-ae0a54be7267"
      },
      "outputs": [
        {
          "name": "stdout",
          "output_type": "stream",
          "text": [
            "Predicted MORT: 1080.665913424038\n"
          ]
        }
      ],
      "source": [
        "pred=regall.predict(pd.DataFrame({'PREC': [47], 'JANT':[35], 'JULT': [74], 'OVR': [10.4], 'POPN': [3.21], 'EDUC': [11.0], 'DENS': [6441], 'NONW': [27.1], 'HC': [8], 'NOX': [38]}))\n",
        "print(\"Predicted MORT:\",pred[0])"
      ]
    },
    {
      "cell_type": "markdown",
      "metadata": {},
      "source": [
        "# Credits"
      ]
    },
    {
      "cell_type": "markdown",
      "metadata": {},
      "source": [
        "This material has been made available by [Guillermo Fidalgo](https://github.com/GuillermoFidalgo) for educational purposes.\n",
        "Please feel free to copy and teach with this material, I only ask for appropiate credit."
      ]
    }
  ],
  "metadata": {
    "colab": {
      "include_colab_link": true,
      "name": "Introduction to Machine Learning.ipynb",
      "provenance": []
    },
    "kernelspec": {
      "display_name": "Python 3",
      "language": "python",
      "name": "python3"
    },
    "language_info": {
      "codemirror_mode": {
        "name": "ipython",
        "version": 3
      },
      "file_extension": ".py",
      "mimetype": "text/x-python",
      "name": "python",
      "nbconvert_exporter": "python",
      "pygments_lexer": "ipython3",
      "version": "3.6.6"
    },
    "toc": {
      "base_numbering": 1,
      "nav_menu": {},
      "number_sections": true,
      "sideBar": true,
      "skip_h1_title": false,
      "title_cell": "Table of Contents",
      "title_sidebar": "Contents",
      "toc_cell": true,
      "toc_position": {},
      "toc_section_display": true,
      "toc_window_display": false
    }
  },
  "nbformat": 4,
  "nbformat_minor": 0
}
