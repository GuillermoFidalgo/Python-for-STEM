{
  "cells": [
    {
      "cell_type": "markdown",
      "metadata": {
        "colab_type": "text",
        "id": "view-in-github"
      },
      "source": [
        "<a href=\"https://colab.research.google.com/github/GuillermoFidalgo/Python-for-STEM-Teachers-Workshop/blob/master/notebooks/7-Introduction_to_Pandas_with_COVID_19_data_.ipynb\" target=\"_parent\"><img src=\"https://colab.research.google.com/assets/colab-badge.svg\" alt=\"Open In Colab\"/></a>"
      ]
    },
    {
      "cell_type": "markdown",
      "metadata": {
        "id": "pUdWu7ILGhNn"
      },
      "source": [
        "# Introduction\n",
        "\n",
        "\n"
      ]
    },
    {
      "cell_type": "markdown",
      "metadata": {
        "id": "lB-jm2JpbbY5"
      },
      "source": [
        "Since the beginning of the pandemic caused by the new coronavirus and that causes the COVID-19 disease, the community in general and especially the scientific community has followed the spread rate throughout the world. The most outstanding data that have been studied are the number of infections and deaths as a function of time, providing information about their evolution and control.\n",
        "In this code we will use the data stored in covidtracking.com where we will focus on the study of the monitoring parameters of the pandemic in Puerto Rico, manipulating and analyzing the data through tables and histograms through the use of Python and its powerful tools.\n",
        "\n",
        "Later we will try to answer questions such as what is the number of cases and deaths up to a certain date, how is its increase over time and if we are stopping or continuing the spread of the virus."
      ]
    },
    {
      "cell_type": "markdown",
      "metadata": {
        "id": "xvaH3XV4PXBj"
      },
      "source": [
        "# Importing Libraries \n",
        "\n"
      ]
    },
    {
      "cell_type": "markdown",
      "metadata": {
        "id": "VvbAd7QxMVEk"
      },
      "source": [
        "This only needs to be run once!!\n",
        "\n",
        "Pandas is a Python library used for data manipulation and analysis of numerical tables and time series. Since we will be working with tabulated data we can take advantage of Pandas' extensive modularity and variety of methods to work with tables.\n",
        "\n"
      ]
    },
    {
      "cell_type": "code",
      "execution_count": null,
      "metadata": {
        "id": "HGbzUslePXBw"
      },
      "outputs": [],
      "source": [
        "import pandas as pd  # This imports the Pandas Library and gives it a reference name to access pandas and it's methods"
      ]
    },
    {
      "cell_type": "markdown",
      "metadata": {
        "id": "16ijTDSZPXBx"
      },
      "source": [
        "## Loading in Data\n",
        "\n",
        "There are 3 main ways to upload and access data in Google Colab:\n",
        "\n",
        "\n",
        "1.   From Google Drive (mounting the drive)\n",
        "2.   Directly from your computer\n",
        "3.   Store that data somewhere in the internet and specify it's url (**our method**)\n",
        "\n"
      ]
    },
    {
      "cell_type": "markdown",
      "metadata": {
        "id": "4sXhCkR1xAXO"
      },
      "source": [
        "We are loading a csv file with pandemic information caused by new coronavirus\n"
      ]
    },
    {
      "cell_type": "markdown",
      "metadata": {
        "id": "Kt_V96hhPVin"
      },
      "source": [
        "Note that we specify "
      ]
    },
    {
      "cell_type": "markdown",
      "metadata": {
        "id": "hPnJn2yMxit2"
      },
      "source": [
        "### Method 1: Google Drive"
      ]
    },
    {
      "cell_type": "code",
      "execution_count": null,
      "metadata": {
        "id": "zk8BijNZSTA2"
      },
      "outputs": [],
      "source": [
        "# Data in a Google Drive\n",
        "from google.colab import drive\n",
        "drive.mount('/content/drive')\n",
        "data_in_drive=\"/content/drive/MyDrive/UPRM/STEM Workshop/Feb 2021/Data/puerto-rico-history.csv\"\n",
        "\n",
        "\n",
        "df=pd.read_csv(data_in_drive,\n",
        "               index_col=0,\n",
        "               na_values=\"-\") \n",
        "df"
      ]
    },
    {
      "cell_type": "markdown",
      "metadata": {
        "id": "b2iZSDjixr8p"
      },
      "source": [
        "### Method 2: Upload from computer"
      ]
    },
    {
      "cell_type": "code",
      "execution_count": null,
      "metadata": {
        "id": "CLWiYavXSahS"
      },
      "outputs": [],
      "source": [
        "# Or just upload the data from your computer to the Session\n",
        "data = \"../data/national-history.csv\"\n",
        "\n",
        "df=pd.read_csv(data) #,index_col=0) # Here we have specified that the first colum is the index column.\n",
        "df"
      ]
    },
    {
      "cell_type": "markdown",
      "metadata": {
        "id": "HdkCxkPryP54"
      },
      "source": [
        "### Method 3: Load from Internet"
      ]
    },
    {
      "cell_type": "markdown",
      "metadata": {
        "id": "IGt0BRhiPN9c"
      },
      "source": [
        "Define where the data is located as a string and store it in a variable. \n",
        "for example: \n",
        "`data='data_location' (using single or double quotes)`\n",
        "\n",
        "\n",
        "**Important** \n",
        "\n",
        "Always look at your data beforehand. Be familiar with the structure and what it contains.\n",
        "\n",
        "Also, in case you want to do this with your students, the easiest way is to have the data stored somewhere on the internet and have a link that your students can access. In our case this would be stored in a file of Github Repository and we will access it from there as follows"
      ]
    },
    {
      "cell_type": "code",
      "execution_count": null,
      "metadata": {
        "id": "9dxCbyooPXBy"
      },
      "outputs": [],
      "source": [
        "# Our method (From Internet)\n",
        "data_url=\"https://raw.githubusercontent.com/GuillermoFidalgo/Python-for-STEM-Teachers-Workshop/master/data/puerto-rico-history.csv\"\n",
        "\n",
        "\n",
        "#here we load the csv file \n",
        "df=pd.read_csv(data_url,parse_dates=True)\n",
        "\n",
        "# For more information about each argument you could hover your cursor over the function until a window appears\n",
        "# you could also put your cursor INSIDE the function and press Ctrl+Shift+Space\n"
      ]
    },
    {
      "cell_type": "code",
      "execution_count": null,
      "metadata": {
        "colab": {
          "base_uri": "https://localhost:8080/"
        },
        "id": "VCTBB5AIWVK1",
        "outputId": "6bc2bf51-99c6-4b2d-9cef-a5885333b6a9"
      },
      "outputs": [],
      "source": [
        "df.shape #number of rows and columns"
      ]
    },
    {
      "cell_type": "markdown",
      "metadata": {
        "id": "VhPRJuMJPXBy"
      },
      "source": [
        "## Let's look at the first 5 entries of the data"
      ]
    },
    {
      "cell_type": "code",
      "execution_count": null,
      "metadata": {
        "colab": {
          "base_uri": "https://localhost:8080/",
          "height": 309
        },
        "id": "ABpg-itbPXBy",
        "outputId": "bc2a26e9-b985-442c-ee77-4f69f8ac4444"
      },
      "outputs": [],
      "source": [
        "df.head(5)"
      ]
    },
    {
      "cell_type": "markdown",
      "metadata": {
        "id": "sJaCxL1tPXB2"
      },
      "source": [
        "Now that we have the appropiate format we can choose the columns we want to look at and we can also filter the incomplete entries by using the `dropna()` method "
      ]
    },
    {
      "cell_type": "code",
      "execution_count": null,
      "metadata": {
        "colab": {
          "base_uri": "https://localhost:8080/",
          "height": 609
        },
        "id": "M5H2jrLzBL6O",
        "outputId": "32d45218-0489-4dcd-ed73-d4987d63f047"
      },
      "outputs": [],
      "source": [
        "df=df.dropna(axis=1,how='all')\n",
        "df\n"
      ]
    },
    {
      "cell_type": "markdown",
      "metadata": {
        "id": "6pN5J0q-R-ML"
      },
      "source": [
        "As one can see the Covid-19 Data is somethig that progresses with time, so we would like to have the data be indexed by the `date` column. We do this as follows with the `set_index()` method."
      ]
    },
    {
      "cell_type": "code",
      "execution_count": null,
      "metadata": {
        "colab": {
          "base_uri": "https://localhost:8080/",
          "height": 640
        },
        "id": "TkbeaNhHSsQo",
        "outputId": "03bc71e4-5c68-4956-f6f0-4a330871d718"
      },
      "outputs": [],
      "source": [
        "df=df.set_index(\"date\")\n",
        "df"
      ]
    },
    {
      "cell_type": "markdown",
      "metadata": {
        "id": "eltgFLp_PXB0"
      },
      "source": [
        "We can filter out some columns. Let's see what we are interested in.."
      ]
    },
    {
      "cell_type": "code",
      "execution_count": null,
      "metadata": {
        "colab": {
          "base_uri": "https://localhost:8080/"
        },
        "id": "i66zhKKTPXB1",
        "outputId": "551f12e9-6150-4f7f-a4d5-a61dbf894cb7"
      },
      "outputs": [],
      "source": [
        "# This gives us the names of the colums available\n",
        "df.columns"
      ]
    },
    {
      "cell_type": "markdown",
      "metadata": {
        "id": "rita0AJtQDN7"
      },
      "source": [
        "This is the way to select specific columns of interest"
      ]
    },
    {
      "cell_type": "code",
      "execution_count": null,
      "metadata": {
        "id": "4fkLBrc-Z5HC"
      },
      "outputs": [],
      "source": [
        "relevant=df[\n",
        "    ['death','deathIncrease','positive', 'positiveIncrease','totalTestResults','totalTestResultsIncrease']\n",
        "       ]"
      ]
    },
    {
      "cell_type": "markdown",
      "metadata": {
        "id": "MsmEIkExzRL-"
      },
      "source": [
        " We want so know some info about the data"
      ]
    },
    {
      "cell_type": "code",
      "execution_count": null,
      "metadata": {
        "colab": {
          "base_uri": "https://localhost:8080/"
        },
        "id": "roSWqaqKzMaf",
        "outputId": "40d2bcc9-a555-4f7a-a23f-07f399e2931d"
      },
      "outputs": [],
      "source": [
        "relevant.info()"
      ]
    },
    {
      "cell_type": "code",
      "execution_count": null,
      "metadata": {
        "colab": {
          "base_uri": "https://localhost:8080/",
          "height": 297
        },
        "id": "IOTW6eYVTZI8",
        "outputId": "a77e9036-06d0-4ab8-c0c3-1bdf8f6c9b31"
      },
      "outputs": [],
      "source": [
        "relevant.describe()"
      ]
    },
    {
      "cell_type": "markdown",
      "metadata": {
        "id": "cojVKvhhPXB1"
      },
      "source": [
        "Pandas can automatically convert the data in each column inteligently by looking at the entries in each column.\n"
      ]
    },
    {
      "cell_type": "code",
      "execution_count": null,
      "metadata": {
        "colab": {
          "base_uri": "https://localhost:8080/"
        },
        "id": "ThWKp4sBPXB2",
        "outputId": "82138225-e718-4682-e5f2-f5730f7cd54b"
      },
      "outputs": [],
      "source": [
        "relevant=relevant.convert_dtypes() #This converts the data\n",
        "\n",
        "# Now we can verify and see the information that our dataframe contains\n",
        "print(relevant.info())\n"
      ]
    },
    {
      "cell_type": "markdown",
      "metadata": {
        "id": "rqqBR9EbPXB4"
      },
      "source": [
        "# Exercises\n"
      ]
    },
    {
      "cell_type": "markdown",
      "metadata": {
        "id": "MSU6Nz-_PXB4"
      },
      "source": [
        "We want to know a few things:\n",
        "- How many deaths and positives we have at one specific date\n",
        "- How are the cases increasing with time?\n",
        "- Are we flattening the curve?"
      ]
    },
    {
      "cell_type": "markdown",
      "metadata": {
        "id": "vtx5UDmDPXB6"
      },
      "source": [
        "## How many deaths and positive cases we have at one specific date\n"
      ]
    },
    {
      "attachments": {},
      "cell_type": "markdown",
      "metadata": {
        "id": "couC0PNOPXB6"
      },
      "source": [
        "Remember what we have so far, \n",
        "`deaths` is the total amount of probable and confirmed deaths of Covid cases up to a certain date (this means that this is a cumulative value). Same principle applies to `positives`\n",
        "\n",
        "The step below is completely optional. \n",
        "We sorted for the index (*remember that the index is the date*)"
      ]
    },
    {
      "cell_type": "code",
      "execution_count": null,
      "metadata": {
        "colab": {
          "base_uri": "https://localhost:8080/",
          "height": 450
        },
        "id": "S9xN7NuJPXB7",
        "outputId": "b9860eae-0c84-402d-e3ca-81dbf481ccdb"
      },
      "outputs": [],
      "source": [
        "relevant.sort_index(inplace=True)\n",
        "relevant"
      ]
    },
    {
      "cell_type": "markdown",
      "metadata": {
        "id": "MYiEAvrjPXB7"
      },
      "source": [
        "We want to see the amound of people that *have ever been diagnosed positive* until one day.For this we could just specify the date and look at the entry"
      ]
    },
    {
      "cell_type": "code",
      "execution_count": null,
      "metadata": {
        "id": "Td5xc-igPXB7"
      },
      "outputs": [],
      "source": [
        "positives=relevant['positive']\n",
        "date='2020-05-24' \n",
        "print(\"Amount of positives at\",date,\"is:\", positives.loc[date]) "
      ]
    },
    {
      "cell_type": "code",
      "execution_count": null,
      "metadata": {},
      "outputs": [],
      "source": [
        "relevant['death'].loc[date]"
      ]
    },
    {
      "attachments": {},
      "cell_type": "markdown",
      "metadata": {
        "id": "RgRXVCfVPXB8"
      },
      "source": [
        "This is great!\n",
        "But we can use a plot to show this information."
      ]
    },
    {
      "cell_type": "markdown",
      "metadata": {
        "id": "ysBqOI0GPXB8"
      },
      "source": [
        "### Making a plot \n",
        "We will use Matplotlib's pyplot library for plots"
      ]
    },
    {
      "cell_type": "code",
      "execution_count": null,
      "metadata": {
        "id": "MeXkxBDlPXB8"
      },
      "outputs": [],
      "source": [
        "import matplotlib.pyplot as plt"
      ]
    },
    {
      "attachments": {},
      "cell_type": "markdown",
      "metadata": {
        "id": "moR_tKd9UQA2"
      },
      "source": [
        "Let's use pandas to plot `positives` vs `date`\n",
        "\n",
        "First we have to convert the `positive` variable to a numpy array as follows"
      ]
    },
    {
      "cell_type": "code",
      "execution_count": null,
      "metadata": {},
      "outputs": [],
      "source": [
        "positives=positives.fillna(0)"
      ]
    },
    {
      "cell_type": "code",
      "execution_count": null,
      "metadata": {},
      "outputs": [],
      "source": [
        "x=positives.index\n",
        "y=positives.values\n",
        "xticks=x[::31]\n",
        "\n",
        "plt.figure(figsize=(15,8))\n",
        "plt.plot(x,y,'.')\n",
        "plt.grid()\n",
        "plt.xticks(xticks,rotation=59)\n",
        "plt.show()"
      ]
    },
    {
      "cell_type": "markdown",
      "metadata": {},
      "source": [
        "Here is a shorthand version of the same."
      ]
    },
    {
      "cell_type": "code",
      "execution_count": null,
      "metadata": {
        "colab": {
          "base_uri": "https://localhost:8080/",
          "height": 593
        },
        "id": "F4mH8NronL-G",
        "outputId": "53c9ad86-440d-4313-c29e-3687a40947a8"
      },
      "outputs": [],
      "source": [
        "positives.plot(figsize=(15,8),\n",
        "               grid=True,\n",
        "               fontsize=15,\n",
        "               rot=55,\n",
        "               style='.'\n",
        "               )\n",
        "plt.ylabel('Positives',fontsize=15)\n",
        "plt.title(\"Positive Covid cases in PR\",fontsize=20)\n",
        "plt.xlabel('Date',fontsize=15)\n",
        "plt.show()"
      ]
    },
    {
      "attachments": {},
      "cell_type": "markdown",
      "metadata": {
        "id": "dcegSfs8PXB-"
      },
      "source": [
        "## How are the deaths increasing with time?"
      ]
    },
    {
      "cell_type": "markdown",
      "metadata": {
        "id": "soMZHg-NPXB_"
      },
      "source": [
        "For this we can plot the positive/death increase column"
      ]
    },
    {
      "cell_type": "code",
      "execution_count": null,
      "metadata": {
        "colab": {
          "base_uri": "https://localhost:8080/",
          "height": 675
        },
        "id": "YV1kS4PfIbp7",
        "outputId": "727f0dae-4076-4829-dd5d-1571705b97a8"
      },
      "outputs": [],
      "source": [
        "relevant.fillna(0,inplace=True)\n",
        "ax=relevant[['death','deathIncrease']].plot(subplots=True,\n",
        "               style='--',\n",
        "               figsize=(15,10),\n",
        "               rot=55,\n",
        "               grid=True,\n",
        "               sharex=True,\n",
        "               fontsize=13,)\n",
        "ax[0].set_title('Death accumulative',fontsize=19)\n",
        "ax[1].set_title(\"Death per day\",size=19)\n",
        "\n",
        "plt.legend()\n",
        "plt.xlabel('Date',fontsize=15,loc='right')\n",
        "plt.show()"
      ]
    },
    {
      "cell_type": "markdown",
      "metadata": {
        "id": "OHBXAQBc06KM"
      },
      "source": [
        "If you get an erro about `TypeError: float() argument must be a string or a number, not 'NAType'`\n",
        "then you should fill the Null values in the dataframe.\n",
        "Let's go back and do this."
      ]
    },
    {
      "cell_type": "markdown",
      "metadata": {
        "id": "E2xeu0iMPXB_"
      },
      "source": [
        "# Are we flattening the curve?"
      ]
    },
    {
      "cell_type": "markdown",
      "metadata": {
        "id": "i-TFAOakU_B_"
      },
      "source": [
        "To show this we follow the tips shown in the video below\n"
      ]
    },
    {
      "cell_type": "code",
      "execution_count": null,
      "metadata": {
        "colab": {
          "base_uri": "https://localhost:8080/",
          "height": 621
        },
        "id": "cyedvTxMVvG8",
        "outputId": "43098f72-7630-47ed-c91d-9fa4e0c60844"
      },
      "outputs": [],
      "source": [
        "from IPython.display import YouTubeVideo\n",
        "YouTubeVideo('54XLXg4fYsc' ,width=1000,height=600)"
      ]
    },
    {
      "cell_type": "markdown",
      "metadata": {
        "id": "VWmbniRMXmw2"
      },
      "source": [
        "So we have to plot `positiveIncrease` vs `positive` and both on a log scale. "
      ]
    },
    {
      "cell_type": "code",
      "execution_count": null,
      "metadata": {
        "colab": {
          "base_uri": "https://localhost:8080/",
          "height": 503
        },
        "id": "-7ygDe3xpBsI",
        "outputId": "709385e4-85c6-439f-e81b-19e780e10783"
      },
      "outputs": [],
      "source": [
        "relevant[['positive','positiveIncrease']].plot(x='positive',y='positiveIncrease',\n",
        "                                               figsize=(15,8),fontsize=13,\n",
        "                                               loglog=True)\n",
        "plt.plot([0,max(positives)],[0,max(positives)],label='exponential growth') # this is the line that represents exponential growth on a log scale plot like ours\n",
        "\n",
        "plt.legend()\n",
        "plt.show()"
      ]
    },
    {
      "cell_type": "markdown",
      "metadata": {
        "id": "ukn6XoXFqo-0"
      },
      "source": [
        "This is to noisy. Let's take the same plot but with the 7-day average. \n",
        "First we add a new column to the dataframe"
      ]
    },
    {
      "cell_type": "code",
      "execution_count": null,
      "metadata": {
        "colab": {
          "base_uri": "https://localhost:8080/",
          "height": 450
        },
        "id": "FjZ10uOEXll2",
        "outputId": "9f67bdaa-16f1-4102-f0c3-cebdfb82eab7"
      },
      "outputs": [],
      "source": [
        "relevant['7-day average']=relevant['positiveIncrease'].rolling(window=7).mean()\n",
        "relevant['14-day average']=relevant['positiveIncrease'].rolling(window=14).mean()\n",
        "relevant['30-day average']=relevant['positiveIncrease'].rolling(window=30).mean()\n",
        "relevant.fillna(0,inplace=True)\n",
        "relevant\n",
        "\n",
        "#if you get an error about Null values change inplace to True"
      ]
    },
    {
      "cell_type": "markdown",
      "metadata": {
        "id": "x6Lj-EF6PXCA"
      },
      "source": [
        "Now we plot "
      ]
    },
    {
      "cell_type": "code",
      "execution_count": null,
      "metadata": {
        "colab": {
          "base_uri": "https://localhost:8080/",
          "height": 519
        },
        "id": "rkDfW7EQ12GJ",
        "outputId": "d812179e-9c02-430e-85f5-346dfea6aa42"
      },
      "outputs": [],
      "source": [
        "relevant.plot(kind='line',x='positive',y='7-day average',\n",
        "              figsize=(10,8),fontsize=13,\n",
        "              grid=True,\n",
        "              title=\"Are we below exponential growth?\",\n",
        "              loglog=True\n",
        "              )\n",
        "plt.loglog([0,max(positives)],[0,max(positives)],label='exponential growth') # this is the line that represents exponential growth on a log scale plot like ours\n",
        "# plt.xscale('log')\n",
        "# plt.yscale('log')\n",
        "plt.xlabel('Total # of positives')\n",
        "plt.ylabel('Change of positives per day')\n",
        "plt.legend()\n",
        "plt.show()"
      ]
    },
    {
      "cell_type": "markdown",
      "metadata": {
        "id": "ujPBhz5-8aiq"
      },
      "source": [
        "# Resources"
      ]
    },
    {
      "cell_type": "markdown",
      "metadata": {
        "id": "YQnM_vIG8dJs"
      },
      "source": [
        "To see information from the source of the data visit [Covid Tracking Project](https://covidtracking.com/)\n",
        "\n",
        "More info and documentation: \n",
        "\n",
        "\n",
        "*   [Pandas ](https://pandas.pydata.org/)\n",
        "*   [Matplotlib ](https://matplotlib.org/)\n",
        "*   [Numpy](https://numpy.org/)\n",
        "\n"
      ]
    },
    {
      "cell_type": "markdown",
      "metadata": {},
      "source": [
        "# Credits"
      ]
    },
    {
      "cell_type": "markdown",
      "metadata": {},
      "source": [
        "This material has been made available by [Guillermo Fidalgo](https://github.com/GuillermoFidalgo) for educational purposes.\n",
        "Please feel free to copy and teach with this material, I only ask for appropiate credit."
      ]
    }
  ],
  "metadata": {
    "colab": {
      "collapsed_sections": [
        "b2iZSDjixr8p"
      ],
      "include_colab_link": true,
      "name": "Copy of Introduction to Pandas with COVID-19 data .ipynb",
      "provenance": [],
      "toc_visible": true
    },
    "kernelspec": {
      "display_name": "Python 3",
      "language": "python",
      "name": "python3"
    },
    "language_info": {
      "codemirror_mode": {
        "name": "ipython",
        "version": 3
      },
      "file_extension": ".py",
      "mimetype": "text/x-python",
      "name": "python",
      "nbconvert_exporter": "python",
      "pygments_lexer": "ipython3",
      "version": "3.10.8"
    }
  },
  "nbformat": 4,
  "nbformat_minor": 0
}
